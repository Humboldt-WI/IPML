{
 "cells": [
  {
   "cell_type": "markdown",
   "metadata": {},
   "source": [
    "[![Open In Colab](https://colab.research.google.com/assets/colab-badge.svg)](https://colab.research.google.com/github/Humboldt-WI/ipml/blob/master/tutorial_notebooks/2_python_intro.ipynb) "
   ]
  },
  {
   "cell_type": "markdown",
   "metadata": {
    "id": "L3WS_UbWixlo"
   },
   "source": [
    "# Introduction to the Python Programming Language\n",
    "<hr>\n",
    "\n",
    "In this tutorial, we cover selected basics of the Python programming language including variables and data types, indexing & slicing, control flow, and functions. This version is just a skeleton. We will further develop and discuss  codes in the tutorial session. Please note that a much more comprehensive Python introduction is available for self-study in our [Python for Data Science 1o1 notebook](https://github.com/Humboldt-WI/ipml/blob/master/python_data_science1o1.ipynb)."
   ]
  },
  {
   "cell_type": "markdown",
   "metadata": {
    "id": "7VeKJR1iY8lR"
   },
   "source": [
    "## Basic Math Operations\n",
    "\n",
    "Let's first use Python as a calculator and see how it behaves. Notice the cells of code as mentioned earlier. Cells often only display one output although all lines of code are executed. If you'd like it to produce multiple at once, it can be useful to use the print command as shown at the end. Python will explicitly print all outputs in any print command (even if there are multiple).\n",
    "\n",
    "By adding the character '#', you are telling Python to ignore the following characters on the same line. This is called creating a **comment** and can be very useful to explain your code to others."
   ]
  },
  {
   "cell_type": "code",
   "execution_count": null,
   "metadata": {
    "colab": {
     "base_uri": "https://localhost:8080/",
     "height": 34
    },
    "id": "U3hGuMdXXwr1",
    "outputId": "004508e3-902c-45f6-82da-7df14934d34b"
   },
   "outputs": [],
   "source": [
    "1+1 # Python will ignore everything after '#'"
   ]
  },
  {
   "cell_type": "code",
   "execution_count": null,
   "metadata": {
    "colab": {
     "base_uri": "https://localhost:8080/",
     "height": 34
    },
    "id": "h4QjhlRdZIlO",
    "outputId": "b8acb8b3-660b-4d8f-91b4-3d3b81c52bc4"
   },
   "outputs": [],
   "source": [
    "333/10"
   ]
  },
  {
   "cell_type": "code",
   "execution_count": null,
   "metadata": {
    "colab": {
     "base_uri": "https://localhost:8080/",
     "height": 34
    },
    "id": "Q8lcepY0ZJfh",
    "outputId": "4cb03ef2-1635-4ea3-afe6-ef1ea7ba4cf7"
   },
   "outputs": [],
   "source": [
    "1+1/2 # Python follows order of operations"
   ]
  },
  {
   "cell_type": "code",
   "execution_count": null,
   "metadata": {
    "colab": {
     "base_uri": "https://localhost:8080/",
     "height": 34
    },
    "id": "rasjMTsdZQaY",
    "outputId": "5377a4aa-d078-46ee-94af-1cee6ae8e764"
   },
   "outputs": [],
   "source": [
    "3 ** 3 # Python uses '**' instead of '^' for exponents"
   ]
  },
  {
   "cell_type": "code",
   "execution_count": 7,
   "metadata": {},
   "outputs": [],
   "source": [
    "# Understanding check: Calculate the square root of the number 356\n"
   ]
  },
  {
   "cell_type": "markdown",
   "metadata": {},
   "source": [
    "##### Mini task:"
   ]
  },
  {
   "cell_type": "code",
   "execution_count": 7,
   "metadata": {},
   "outputs": [],
   "source": [
    "# Understanding check: Calculate the square root of the number 356\n"
   ]
  },
  {
   "cell_type": "markdown",
   "metadata": {
    "id": "r0dz5f-GZZbW"
   },
   "source": [
    "## Variables\n",
    "\n",
    "One very useful feature of every programming language is the ability to give a fixed name to variables. Simply use the formula:\n",
    "\n",
    "```\n",
    "variable_name = desired_value\n",
    "```\n",
    "\n",
    "\n",
    "\n",
    "**Note:** Your variable names MUST NOT begin with a number, include a dash or space.\n",
    "\n",
    "After this, every time you type the variable name, Python will refer to the value it has been assigned. If the same variable name is ever used, the value will be overwritten.\n",
    "\n",
    "Python will consider all types of text as some kind of variable or command. If you ever want to create or reference actual text, it must be between quotation marks. This is called a string in Python. If you want Python to ignore text all together, use '#' to indicate a comment."
   ]
  },
  {
   "cell_type": "code",
   "execution_count": null,
   "metadata": {
    "colab": {
     "base_uri": "https://localhost:8080/",
     "height": 34
    },
    "id": "BR0APH8EZVQX",
    "outputId": "bb991430-47f7-41e2-e708-7ec341fc772d"
   },
   "outputs": [],
   "source": [
    "a = 1 # all future cells will now refer to a as 1\n",
    "b = 2 # similarly, all future cells will refer to b as 2\n",
    "\n",
    "a+b"
   ]
  },
  {
   "cell_type": "code",
   "execution_count": null,
   "metadata": {
    "colab": {
     "base_uri": "https://localhost:8080/",
     "height": 34
    },
    "id": "GuI9bLX1oUxN",
    "outputId": "38509089-ff82-41f7-bbc1-07079cb278c1"
   },
   "outputs": [],
   "source": [
    "a, b = 1, 2 # assigns variables above in the same way but in one line\n",
    "\n",
    "a+b"
   ]
  },
  {
   "cell_type": "code",
   "execution_count": null,
   "metadata": {
    "colab": {
     "base_uri": "https://localhost:8080/",
     "height": 34
    },
    "id": "nmLwGwJNoc_U",
    "outputId": "e15e8c9e-0e6c-4704-b90b-c93399ba38c1"
   },
   "outputs": [],
   "source": [
    "a = z = 1 # another way to assign multiple variables the same value\n",
    "\n",
    "z"
   ]
  },
  {
   "cell_type": "markdown",
   "metadata": {},
   "source": [
    "All math operations work in the same way with variables"
   ]
  },
  {
   "cell_type": "code",
   "execution_count": null,
   "metadata": {
    "colab": {
     "base_uri": "https://localhost:8080/",
     "height": 34
    },
    "id": "dtpGIaWPZjN_",
    "outputId": "56c1aa98-d98e-4691-cc6e-9e474af7aead"
   },
   "outputs": [],
   "source": [
    "a*5"
   ]
  },
  {
   "cell_type": "code",
   "execution_count": null,
   "metadata": {
    "colab": {
     "base_uri": "https://localhost:8080/",
     "height": 34
    },
    "id": "erO3QQ3jc37m",
    "outputId": "0f9a524d-996a-40ba-ba10-18e8b923b43a"
   },
   "outputs": [],
   "source": [
    "b ** 5 # remember '**' means exponent"
   ]
  },
  {
   "cell_type": "code",
   "execution_count": null,
   "metadata": {
    "colab": {
     "base_uri": "https://localhost:8080/",
     "height": 34
    },
    "id": "wIBHVYW2Zkr3",
    "outputId": "c8747503-c875-4019-bdbb-8b13100e6daf"
   },
   "outputs": [],
   "source": [
    "a = 500 # if you use the same variable name again, you overwrite the previous value\n",
    "\n",
    "a+b"
   ]
  },
  {
   "cell_type": "code",
   "execution_count": null,
   "metadata": {
    "colab": {
     "base_uri": "https://localhost:8080/",
     "height": 34
    },
    "id": "JmwnRDGIv043",
    "outputId": "2d6b2a56-e021-4203-bbc4-bcd4f3ea3f11"
   },
   "outputs": [],
   "source": [
    "# By default, Python only displays the last line of output from a cell\n",
    "\n",
    "a*b # This line will be executed in Python, but since the next line causes an output and it comes afterwards, only its output will be displayed\n",
    "\n",
    "a+b"
   ]
  },
  {
   "cell_type": "code",
   "execution_count": null,
   "metadata": {
    "colab": {
     "base_uri": "https://localhost:8080/",
     "height": 34
    },
    "id": "mdamvwcNOdeN",
    "outputId": "83fbcaaa-951c-43a5-dc4d-bbc380ed3d7c"
   },
   "outputs": [],
   "source": [
    "print(a*b, a+b) # using print and a comma separating items will print everything"
   ]
  },
  {
   "cell_type": "code",
   "execution_count": 13,
   "metadata": {
    "id": "U9RsDfwWZ_iw"
   },
   "outputs": [],
   "source": [
    "#Can I just write? # this will generate an error because Python will try to look up the value assigned to each word as a variable and find nothing"
   ]
  },
  {
   "cell_type": "code",
   "execution_count": null,
   "metadata": {
    "colab": {
     "base_uri": "https://localhost:8080/",
     "height": 34
    },
    "id": "p4lgFDRhNzjo",
    "outputId": "7ec154d2-2a4b-4503-9fb5-867418303592"
   },
   "outputs": [],
   "source": [
    "a = \"you can't add strings to numbers\" # if you want to generate text for Python to store in memory, use quotation marks around the text to create a string (str for short)\n",
    "\n",
    "print(a)"
   ]
  },
  {
   "cell_type": "code",
   "execution_count": null,
   "metadata": {
    "colab": {
     "base_uri": "https://localhost:8080/",
     "height": 35
    },
    "id": "P8plSRHFaOYP",
    "outputId": "1e0d4bd1-1b6f-4874-d6af-b7dfbc9d3c93"
   },
   "outputs": [],
   "source": [
    "b = \", but you can add strings together!\"\n",
    "\n",
    "a+b # you can even concatenate (attach) strings if you'd like"
   ]
  },
  {
   "cell_type": "code",
   "execution_count": 16,
   "metadata": {
    "id": "9iSIREPGEV4-"
   },
   "outputs": [],
   "source": [
    "# Understanding check: assign the number 42 to the variable named meaning_of_life, then find the remainder of the division of meaning_of_life by 10\n",
    "\n"
   ]
  },
  {
   "cell_type": "markdown",
   "metadata": {},
   "source": [
    "##### Mini task:"
   ]
  },
  {
   "cell_type": "code",
   "execution_count": 16,
   "metadata": {
    "id": "9iSIREPGEV4-"
   },
   "outputs": [],
   "source": [
    "# Understanding check: assign the number 42 to the variable named meaning_of_life, then find the remainder of the division of meaning_of_life by 10\n",
    "\n"
   ]
  },
  {
   "cell_type": "code",
   "execution_count": 17,
   "metadata": {
    "id": "h3RId00UE4g8"
   },
   "outputs": [],
   "source": [
    "# Understanding check: assign the string 'Dude, Where's My Car?' to the variable movie_name, multiply this movie_name by 3, what happens?\n",
    "\n"
   ]
  },
  {
   "cell_type": "markdown",
   "metadata": {},
   "source": [
    "##### Mini task:"
   ]
  },
  {
   "cell_type": "code",
   "execution_count": 17,
   "metadata": {
    "id": "h3RId00UE4g8"
   },
   "outputs": [],
   "source": [
    "# Understanding check: assign the string 'Dude, Where's My Car?' to the variable movie_name, multiply this movie_name by 3, what happens?\n",
    "\n"
   ]
  },
  {
   "cell_type": "markdown",
   "metadata": {
    "id": "kj8xftILbIbh"
   },
   "source": [
    "## Data Types\n",
    "\n",
    "There are _many_ data types in Python. To check the type of an object, use the function `type( )`.\n",
    "\n",
    "\n",
    "The most common ones that you will encounter as a data scientist are:\n",
    "\n",
    "\n",
    "*   integer (eg. 100)\n",
    "*   float (eg. 100.0)\n",
    "*   string (eg. 'Hello World!')\n",
    "*   boolean (eg. True)\n",
    "*   list (eg. ['one', 'two', 'three'] )\n",
    "*   tuples (eg. ('one', 'two', 'three') )\n",
    "*   dictionary (eg. {'mammal': 'platypus', 'fish': 'eel'} )\n",
    "*   NumPy array\n",
    "*   Pandas Series (in future notebooks)\n",
    "*   Pandas DataFrame (in future notebooks)\n",
    "\n",
    "Aside from these, you will definitely see many more. Let's explore these a bit.\n",
    "\n",
    "\n",
    "\n"
   ]
  },
  {
   "cell_type": "markdown",
   "metadata": {
    "id": "W2XI4ysgpS15"
   },
   "source": [
    "### Integers and Floats\n",
    "\n",
    "These are going to likely be the most common types that you will encounter. **Integers are whole numbers** while **floats contain decimals**. "
   ]
  },
  {
   "cell_type": "code",
   "execution_count": null,
   "metadata": {
    "colab": {
     "base_uri": "https://localhost:8080/",
     "height": 0
    },
    "id": "D6RG79VGiOkN",
    "outputId": "3a9cb67a-0df3-41a8-b07e-d5d2d33cf6ea"
   },
   "outputs": [],
   "source": [
    "a = 5\n",
    "\n",
    "b = 5.0\n",
    "\n",
    "print(type(a), type(b)) # integers have no decimals while floats do"
   ]
  },
  {
   "cell_type": "code",
   "execution_count": null,
   "metadata": {
    "colab": {
     "base_uri": "https://localhost:8080/",
     "height": 0
    },
    "id": "L-qC2xiEo1oH",
    "outputId": "87313905-b241-46da-bb29-59ba7bdf1bae"
   },
   "outputs": [],
   "source": [
    "int(b) # converts b to an integer, note that if we do not assign this back to b by executing 'b=int(b)', b will not change"
   ]
  },
  {
   "cell_type": "code",
   "execution_count": null,
   "metadata": {
    "colab": {
     "base_uri": "https://localhost:8080/",
     "height": 0
    },
    "id": "BFP8duKUo-f8",
    "outputId": "f668593f-34b5-4e6a-9d63-92f0264cfc68"
   },
   "outputs": [],
   "source": [
    "b = int(b)\n",
    "\n",
    "b"
   ]
  },
  {
   "cell_type": "markdown",
   "metadata": {
    "id": "HOfwItbGpnGv"
   },
   "source": [
    "### Strings\n",
    "\n",
    "Strings are like pieces of text. They are always enclosed between quotation marks, single or double quotes both work. You can convert numbers to strings too. Note that they will now have all the properties of strings."
   ]
  },
  {
   "cell_type": "code",
   "execution_count": 21,
   "metadata": {
    "id": "OD6thTMwi9b9"
   },
   "outputs": [],
   "source": [
    "c = \"any text between single or double quotes is a string\" # you can use single or double quotes around strings\n",
    "d = 'any text between single or double quotes is a string'"
   ]
  },
  {
   "cell_type": "code",
   "execution_count": null,
   "metadata": {
    "colab": {
     "base_uri": "https://localhost:8080/",
     "height": 35
    },
    "id": "3ImbP2TmpQCs",
    "outputId": "3fdb787d-abdf-4c00-933a-d9ec8751f584"
   },
   "outputs": [],
   "source": [
    "a = str(a) # if we want to turn the number that we assigned to a into a string, we can use the str( ) function\n",
    "\n",
    "a*10 # now instead of 5*10, Python is performing '5'*10 so it will paste '5' 10 times"
   ]
  },
  {
   "cell_type": "code",
   "execution_count": null,
   "metadata": {
    "colab": {
     "base_uri": "https://localhost:8080/",
     "height": 34
    },
    "id": "nayOBSjtwFeb",
    "outputId": "d74c5434-247f-40ba-f1cf-86c164e89c4e"
   },
   "outputs": [],
   "source": [
    "a = int(a) # you can change a string back to a number back by using int() or float()\n",
    "\n",
    "a*10"
   ]
  },
  {
   "cell_type": "code",
   "execution_count": null,
   "metadata": {
    "colab": {
     "base_uri": "https://localhost:8080/",
     "height": 34
    },
    "id": "HegZNoglp9Rw",
    "outputId": "116eb7b3-01ad-487e-83a5-137dd0178a8a"
   },
   "outputs": [],
   "source": [
    "print(c[0], c[2]) # you can find the nth letter in a string by enclosing n-1 in square brackets (since Python starts counting at 0)"
   ]
  },
  {
   "cell_type": "code",
   "execution_count": null,
   "metadata": {
    "colab": {
     "base_uri": "https://localhost:8080/",
     "height": 34
    },
    "id": "-K1ZpgZcqThq",
    "outputId": "3376cac4-86d9-466f-ebfc-e45363c12f81"
   },
   "outputs": [],
   "source": [
    "len(c) # gives you the number of characters in the string, this can be useful in Natural Language Processing (NLP) and more"
   ]
  },
  {
   "cell_type": "markdown",
   "metadata": {},
   "source": [
    "**Strings** also have many methods associated. You can review all here: https://docs.python.org/3/library/stdtypes.html#string-methods ."
   ]
  },
  {
   "cell_type": "code",
   "execution_count": null,
   "metadata": {},
   "outputs": [],
   "source": [
    "sea_shells = 'she sells sea shells by the sea shore'\n",
    "\n",
    "sea_shells.upper() # upper case method, this does not overwrite the variable in all caps"
   ]
  },
  {
   "cell_type": "code",
   "execution_count": null,
   "metadata": {},
   "outputs": [],
   "source": [
    "# Check your understanding: Split the string by blank space (' ') using a method and appropriate argument\n",
    "\n"
   ]
  },
  {
   "cell_type": "markdown",
   "metadata": {
    "id": "Df7IJwUaj18-"
   },
   "source": [
    "### Booleans\n",
    "\n",
    "**Booleans** take on two possible values (pay attention to capitalisation):\n",
    "*    `True`\n",
    "*    `False`\n",
    "\n",
    "These can be used to evaluate conditions, for example when comparing the value of different variables. Specifically, you can create conditions using one of the following comparision operators:\n",
    "*   `==` is equal (remember that the operator `=` represents an assignment in Python )\n",
    "*   `!=` not equal to\n",
    "*   `>=` greater than or equal to\n",
    "*   `<=` less than or equal to\n",
    "*   `is` and `is not` also yield Booleans, however they require exact identity matches unlike `==` and `!=` .\n",
    "\n",
    "Keep in mind, many other functions and syntax return Boolean values. For example, there is the function ``` isinstance(x, var_type) ``` which returns the corresponding Boolean value if variable x is equivalent to the type specified. Always check functions' outputs so you can handle their data types in an effective way.\n",
    "\n",
    "`True` also corresponds to the value `1` while `False` corresponds to `0`."
   ]
  },
  {
   "cell_type": "code",
   "execution_count": null,
   "metadata": {
    "colab": {
     "base_uri": "https://localhost:8080/",
     "height": 34
    },
    "id": "m6cC6-oAjzXP",
    "outputId": "d3b50449-b994-49b3-d988-3fd68c135bdd"
   },
   "outputs": [],
   "source": [
    "e = 5\n",
    "\n",
    "f = 5.00\n",
    "\n",
    "print(e>f, e==f,  e>=f, e!=f)"
   ]
  },
  {
   "cell_type": "code",
   "execution_count": null,
   "metadata": {
    "colab": {
     "base_uri": "https://localhost:8080/",
     "height": 34
    },
    "id": "nStSbQYirHaV",
    "outputId": "099e9943-63cb-4079-f517-3ef5352cb81c"
   },
   "outputs": [],
   "source": [
    "print(e is f) # note that since e is not the exact same as f, \"is\" returns False"
   ]
  },
  {
   "cell_type": "code",
   "execution_count": null,
   "metadata": {
    "colab": {
     "base_uri": "https://localhost:8080/",
     "height": 34
    },
    "id": "reU_bEd1lut3",
    "outputId": "815dba03-429f-44b0-a10f-7fa073970583"
   },
   "outputs": [],
   "source": [
    "c = \"any text between single or double quotes is a string\"\n",
    "d = 'any text between single or double quotes is a string'\n",
    "\n",
    "print(c == d) # as mentioned, even though the second uses single quotations, it is equivalent in Python"
   ]
  },
  {
   "cell_type": "code",
   "execution_count": null,
   "metadata": {
    "colab": {
     "base_uri": "https://localhost:8080/",
     "height": 34
    },
    "id": "EAfeqEEHl6U1",
    "outputId": "d21f1b10-0ab2-47e8-a2ce-73655afe1f7a"
   },
   "outputs": [],
   "source": [
    "print(isinstance(c, str)) # many functions may return Boolean values like this one which checks if variable c is a string (use the short form str)"
   ]
  },
  {
   "cell_type": "code",
   "execution_count": null,
   "metadata": {
    "colab": {
     "base_uri": "https://localhost:8080/",
     "height": 34
    },
    "id": "7l2oNl0luZ3H",
    "outputId": "61be9e4d-adb3-44c6-da6d-ad3b658437e6"
   },
   "outputs": [],
   "source": [
    "print(True == 1, False == 0) # the Boolean value of True is equal to 1, similarly, the Boolean value of False is equal to 0. \n",
    "# this will be useful for categorical variables."
   ]
  },
  {
   "cell_type": "code",
   "execution_count": null,
   "metadata": {
    "colab": {
     "base_uri": "https://localhost:8080/",
     "height": 34
    },
    "id": "N80QBYDwPDJ5",
    "outputId": "17002ead-bd72-46b6-b9eb-1288b750f7d1"
   },
   "outputs": [],
   "source": [
    "# Python only recognizes False and True as a Boolean value, FALSE and false (TRUE and true) are considered possible variable names.\n",
    "print(type(False), type(True))"
   ]
  },
  {
   "cell_type": "code",
   "execution_count": 34,
   "metadata": {
    "id": "17OEWkgyQlZ1"
   },
   "outputs": [],
   "source": [
    "# print(type(FALSE)) # only False works as a boolean value, otherwise, Python thinks it's a variable"
   ]
  },
  {
   "cell_type": "markdown",
   "metadata": {
    "id": "Spq3Eb-9rdNm"
   },
   "source": [
    "We can combine conditions with:\n",
    "*    `and` (all must be satisfied)\n",
    "*    `or` (at least 1 must be satisfied)\n",
    "*    `not` (reverses result)"
   ]
  },
  {
   "cell_type": "code",
   "execution_count": null,
   "metadata": {
    "colab": {
     "base_uri": "https://localhost:8080/",
     "height": 34
    },
    "id": "3ObcvKL0rcw9",
    "outputId": "d69509e8-16e8-4699-d541-a5dbed9943c7"
   },
   "outputs": [],
   "source": [
    "p = 1\n",
    "q = 2\n",
    "\n",
    "p > q and p < q # since both must be satisfied, but each is mutually exclusive in this case, this must be False"
   ]
  },
  {
   "cell_type": "code",
   "execution_count": null,
   "metadata": {
    "colab": {
     "base_uri": "https://localhost:8080/",
     "height": 34
    },
    "id": "zX7ev-SGr5Si",
    "outputId": "ed96799d-63e2-49c6-9e2b-8cb9534b690c"
   },
   "outputs": [],
   "source": [
    "p > q or p < q # since one of these is true, it is True"
   ]
  },
  {
   "cell_type": "code",
   "execution_count": null,
   "metadata": {
    "colab": {
     "base_uri": "https://localhost:8080/",
     "height": 34
    },
    "id": "gRQ4Ccdir8Fg",
    "outputId": "07b308c5-acf0-4b6f-f098-e6350353eb69"
   },
   "outputs": [],
   "source": [
    "not (p == q) # the expression in brackets is False but 'not' reverses that"
   ]
  },
  {
   "cell_type": "code",
   "execution_count": null,
   "metadata": {},
   "outputs": [],
   "source": [
    "# Understanding check: introduce a variable age and assign it a value of your choice. Write a condition that checks whether the square of age is less than 625 \n"
   ]
  },
  {
   "cell_type": "markdown",
   "metadata": {},
   "source": [
    "##### Mini task:"
   ]
  },
  {
   "cell_type": "code",
   "execution_count": null,
   "metadata": {},
   "outputs": [],
   "source": [
    "# Understanding check: introduce a variable age and assign it a value of your choice. Write a condition that checks whether the square of age is less than 625 \n"
   ]
  },
  {
   "cell_type": "code",
   "execution_count": null,
   "metadata": {},
   "outputs": [],
   "source": [
    "# Understanding check: introduce a variable num and assign it a value of your choice. Write a condition that checks whether num is an even number\n"
   ]
  },
  {
   "cell_type": "markdown",
   "metadata": {},
   "source": [
    "##### Mini task:"
   ]
  },
  {
   "cell_type": "code",
   "execution_count": null,
   "metadata": {},
   "outputs": [],
   "source": [
    "# Understanding check: introduce a variable num and assign it a value of your choice. Write a condition that checks whether num is an even number\n"
   ]
  },
  {
   "cell_type": "markdown",
   "metadata": {
    "id": "4MkujAJju98-"
   },
   "source": [
    "### Lists, Indexing & Slicing\n",
    "\n",
    "**Lists** are a sequenced container of items. Items can be of virtually any type (strings, other lists, tuples, integers...). Lists are created by putting contents sequentially in square brackets separated by commas. You can initialize an empty list to be filled by putting an empty set of square brackets.\n",
    "\n",
    "Each item in a list has a uniquely callable position which is called an **index**. Indices can be labelled but can always be referred to by number as well. Numbering in Python always starts at 0. So, to access the first item in a list, you must call `list_name[0]`.  This is called Zero-Based Indexing and differs from programming languages like R, which use One-Based Indexing."
   ]
  },
  {
   "cell_type": "code",
   "execution_count": null,
   "metadata": {
    "colab": {
     "base_uri": "https://localhost:8080/",
     "height": 34
    },
    "id": "fsOM2q3lvgvc",
    "outputId": "4b2dbcbb-612c-4f2f-b63a-2520502f2b34"
   },
   "outputs": [],
   "source": [
    "just_some_empty_list = [] # initalizing empty lists will be useful later on, this simple trick is worth remembering for loops later\n",
    "\n",
    "type(just_some_empty_list)"
   ]
  },
  {
   "cell_type": "code",
   "execution_count": null,
   "metadata": {
    "colab": {
     "base_uri": "https://localhost:8080/",
     "height": 35
    },
    "id": "aW4KDIK9vveT",
    "outputId": "eee876f5-d1b8-45cc-a3af-f745fa10ad81"
   },
   "outputs": [],
   "source": [
    "whats_in_my_fridge = ['cucumber', 'pasta sauce', 'leftovers', 'margarine', 'tomato'] # create a list just putting items between square brackets separated by commas, you could even create a list of lists!\n",
    "\n",
    "whats_in_my_fridge[0] # calls first element of list or the item at index 0"
   ]
  },
  {
   "cell_type": "code",
   "execution_count": null,
   "metadata": {
    "colab": {
     "base_uri": "https://localhost:8080/",
     "height": 35
    },
    "id": "wIKl2JTWl0OF",
    "outputId": "bb0f3877-c2be-4b5e-fab7-0d9
