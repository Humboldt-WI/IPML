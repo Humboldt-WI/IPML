{
 "cells": [
  {
   "cell_type": "markdown",
   "id": "b5cd6cec-054f-47fa-8fac-cb9982f4608b",
   "metadata": {},
   "source": [
    "[![Open In Colab](https://colab.research.google.com/assets/colab-badge.svg)](https://colab.research.google.com/github/Humboldt-WI/IPML/blob/master/tutorial_notebooks/t8_python_fundamentals_tasks.ipynb)"
   ]
  },
  {
   "cell_type": "markdown",
   "id": "bfc5c603-60cd-453e-99c7-622c4a0c2c97",
   "metadata": {
    "id": "L3WS_UbWixlo"
   },
   "source": [
    "# Python Programming Fundamentals - Exercises"
   ]
  },
  {
   "cell_type": "markdown",
   "id": "baf41f17-75fd-4971-b9b5-f5a6066573a7",
   "metadata": {},
   "source": [
    "### Exercises on Variables\n",
    "1. **Hello Variable**: Create a variable named `greeting` and assign the string \"Hello, Python!\" to it. Then print the value of `greeting`."
   ]
  },
  {
   "cell_type": "code",
   "execution_count": null,
   "id": "f22c5aef-4cbf-43d9-a350-acc64a9a878b",
   "metadata": {},
   "outputs": [],
   "source": []
  },
  {
   "cell_type": "markdown",
   "id": "980b9381-fff0-4e1c-a378-cb1602f5da0d",
   "metadata": {},
   "source": [
    "2. **Variable Swap**: Declare two integer variables `a` and `b` with values 5 and 10, respectively. Swap their values and print the new values of `a` and `b`. Write you program in such a way that you enter the numbers 5 and 10 only once."
   ]
  },
  {
   "cell_type": "code",
   "execution_count": null,
   "id": "f63040b1-3e0c-43a6-bf33-7e419f6fcc57",
   "metadata": {},
   "outputs": [],
   "source": []
  },
  {
   "cell_type": "markdown",
   "id": "c9845ff6-b9dc-4512-be1c-cc4a1da3c30a",
   "metadata": {},
   "source": [
    "### Exercises on Basic Data Types\n",
    "3. **Int to Float**: Create an integer variable with any value and convert it to a float. Print both the original integer and the converted float."
   ]
  },
  {
   "cell_type": "code",
   "execution_count": null,
   "id": "b8d01c32-b145-42c9-b71a-de889a446b31",
   "metadata": {},
   "outputs": [],
   "source": []
  },
  {
   "cell_type": "markdown",
   "id": "323b48ec-b203-473a-a272-af390dd13b88",
   "metadata": {},
   "source": [
    "4. **Float Precision**: Declare a float variable with a value of 7.12345. Print this float with only two decimal places."
   ]
  },
  {
   "cell_type": "code",
   "execution_count": null,
   "id": "012c292b-bddb-48d1-b642-fd4055834e60",
   "metadata": {},
   "outputs": [],
   "source": []
  },
  {
   "cell_type": "markdown",
   "id": "0d9122b1-c676-4431-9311-0988775f2b61",
   "metadata": {},
   "source": [
    "### Exercises on Type Conversion\n",
    "5. **String to Int**: Ask the user to input a number as a string (e.g., \"42\") and convert this string to an integer. Then, print the integer.\n",
    "\n",
    "Hint: In a Jupyter Notebook, you can prompt the user for input using the `input()`function. This function allows you to pause the notebook's execution and wait for the user to type something into a text box and then press Enter. The text they enter is returned by the function as a string.\n",
    "\n",
    "Here is a simple example:\n",
    "```Python\n",
    "# Prompt the user for their name\r\n",
    "name = input(\"Please enter your name: \")\r\n",
    "\r\n",
    "# Print a greeting\r\n",
    "print(f\"Hello, {name}``` !\")\r\n"
   ]
  },
  {
   "cell_type": "code",
   "execution_count": null,
   "id": "0f0d52d7-2dff-49d5-8d22-7a12ae55e611",
   "metadata": {},
   "outputs": [],
   "source": []
  },
  {
   "cell_type": "markdown",
   "id": "b1c1c0c4-5801-4d67-860e-801cf45a71b8",
   "metadata": {},
   "source": [
    "6. **Sum of Strings**: Take two strings, \"15\" and \"8\", convert them to integers, add them together, and print the result."
   ]
  },
  {
   "cell_type": "code",
   "execution_count": null,
   "id": "c8157cff-b73d-4995-9216-69bb21856f3f",
   "metadata": {},
   "outputs": [],
   "source": []
  },
  {
   "cell_type": "markdown",
   "id": "83365ff9-8aad-44e7-9dfb-ad9255a9e733",
   "metadata": {},
   "source": [
    "### Exercises on Containers\n",
    "#### Lists\n",
    "7. **List Basics**: Create a list containing five different integers. Print the list, then print the third element in the list."
   ]
  },
  {
   "cell_type": "code",
   "execution_count": null,
   "id": "bf500fe7-ac4b-42de-a8b7-0de47a9971d1",
   "metadata": {},
   "outputs": [],
   "source": []
  },
  {
   "cell_type": "markdown",
   "id": "7361adf3-6aeb-4581-b7ea-707e755c39b5",
   "metadata": {},
   "source": [
    "8. **List Sum**: Given a list `[1, 2, 3, 4, 5]`, write a program to sum all elements in the list and print the result."
   ]
  },
  {
   "cell_type": "code",
   "execution_count": null,
   "id": "003656ae-5870-4fe5-9084-43bc39b0c9f4",
   "metadata": {},
   "outputs": [],
   "source": []
  },
  {
   "cell_type": "markdown",
   "id": "c34f28b7-6416-4326-b645-31d8bdf975fb",
   "metadata": {},
   "source": [
    "#### Indexing and Slicing\n",
    "9. **First and Last**: Given a list `[10, 20, 30, 40, 50]`, write a program to print the first and last elements of the list."
   ]
  },
  {
   "cell_type": "code",
   "execution_count": null,
   "id": "0256f9c5-074e-4066-bbce-e0d788a01dc6",
   "metadata": {},
   "outputs": [],
   "source": []
  },
  {
   "cell_type": "markdown",
   "id": "b288aa36-39b0-4a4c-bc9e-036176ad0ad1",
   "metadata": {},
   "source": [
    "10. **Negative Indexing**: Create a list of five elements. Print the last element of the list using negative indexing."
   ]
  },
  {
   "cell_type": "code",
   "execution_count": null,
   "id": "664f2809-ffc1-402c-a190-81914f43ab4a",
   "metadata": {},
   "outputs": [],
   "source": []
  },
  {
   "cell_type": "markdown",
   "id": "22d7043f-ba9c-463c-b5b8-fb34dbc79fbf",
   "metadata": {},
   "source": [
    "11. **List Slicing**: Given a list `[1, 2, 3, 4, 5, 6, 7, 8, 9, 10]`, write a program to slice this list into two halves and print both halves. The first half should include the first five elements, and the second half should include the last five elements."
   ]
  },
  {
   "cell_type": "code",
   "execution_count": null,
   "id": "ac5a5f8c-d794-45ef-9313-b47beeef03d0",
   "metadata": {},
   "outputs": [],
   "source": []
  },
  {
   "cell_type": "markdown",
   "id": "d504114d-9af6-4120-ad3f-6cfe6ba94757",
   "metadata": {},
   "source": [
    "12. **Every Second Element**: Create a list of any 10 numbers. Write a program that prints every second element of the list, starting from the first element."
   ]
  },
  {
   "cell_type": "code",
   "execution_count": null,
   "id": "74bac7f6-8c51-411d-bc5e-8e326961783f",
   "metadata": {},
   "outputs": [],
   "source": []
  },
  {
   "cell_type": "markdown",
   "id": "93c1ea13-1884-4071-a13e-d803c4aba149",
   "metadata": {},
   "source": [
    "13. **Reverse List**: Given a list, write a program to print the list in reverse order. Try doing this with slicing."
   ]
  },
  {
   "cell_type": "code",
   "execution_count": null,
   "id": "7c861a66-2f9f-472d-b37e-ae65a5b3cd48",
   "metadata": {},
   "outputs": [],
   "source": []
  },
  {
   "cell_type": "markdown",
   "id": "6d875d27-ee1d-482f-8655-f32709323e66",
   "metadata": {},
   "source": [
    "14. **Middle Element**: For a list with an odd number of elements, write a program to print the middle element. For example, in the list `[1, 2, 3, 4, 5]`, the middle element is `3`."
   ]
  },
  {
   "cell_type": "code",
   "execution_count": null,
   "id": "fc29663a-2877-4088-b709-29195790b90c",
   "metadata": {},
   "outputs": [],
   "source": []
  },
  {
   "cell_type": "markdown",
   "id": "41609b8c-4845-41be-9a7e-9b5b97b2fa0b",
   "metadata": {},
   "source": [
    "15. **Slicing with Step**: Given a list `[0, 1, 2, 3, 4, 5, 6, 7, 8, 9]`, write a program to print every third element, starting from the first element."
   ]
  },
  {
   "cell_type": "code",
   "execution_count": null,
   "id": "c59daa0f-421d-4ae8-ae9a-0cff0d74721e",
   "metadata": {},
   "outputs": [],
   "source": []
  },
  {
   "cell_type": "markdown",
   "id": "82e94d8d-4097-49c1-b60c-c9783a1ee96d",
   "metadata": {},
   "source": [
    "16. **Concatenate Slices**: Create two lists, for example, `[1, 2, 3]` and `[4, 5, 6]`. Write a program that concatenates the first two elements of the first list with the last two elements of the second list and print the new list."
   ]
  },
  {
   "cell_type": "code",
   "execution_count": null,
   "id": "ab9238cb-9fdd-4648-bec0-51a88e0fde19",
   "metadata": {},
   "outputs": [],
   "source": []
  },
  {
   "cell_type": "markdown",
   "id": "41d7677a-e039-44d1-af9e-bf3ad3283c7a",
   "metadata": {},
   "source": [
    "17. **List Rotation**: Given a list `[1, 2, 3, 4, 5]`, write a program to rotate the list by a specified number of positions. For instance, a rotation by 2 positions would result in `[3, 4, 5, 1, 2]`."
   ]
  },
  {
   "cell_type": "code",
   "execution_count": null,
   "id": "07fcc8d3-4885-4857-b020-9fe0467b1912",
   "metadata": {},
   "outputs": [],
   "source": []
  },
  {
   "cell_type": "markdown",
   "id": "4d17772b-d44c-4430-8200-5b009c5eccc9",
   "metadata": {},
   "source": [
    "#### Tuples\n",
    "A tuple is a collection of items, which is ordered and unchangeable. Tuples are written with round brackets. For example, `my_tuple = (1, 'apple', 3.5)` is a tuple with three elements. **Tuple unpacking** allows you to assign each item in a tuple to a separate variable in a single statement. This is a convenient and concise way to access tuple elements. For instance, in the tuple `my_tuple = (1, 'apple', 3.5)` case, you can unpack the items like this:\n",
    "\n",
    "```python\n",
    "number, fruit, price = my_tuple\n",
    "```\n",
    "\n",
    "After unpacking, the variable `number` will hold the value `1`, `fruit` will hold the string `'apple'`, and `price` will hold the value `3.5`. This method is equivalent to executing `number = my_tuple[0]`, `fruit = my_tuple[1]`, and `price = my_tuple[2]`, but it's much more concise and readable.\n",
    "\n",
    "**Important Note**: The number of variables on the left side of the unpacking assignment must match the number of elements in the tuple. If they don't match, Python will raisly it in the exercise.\n",
    "\n",
    "\n",
    "18. **Tuple packing and unpacking**: Create three variables `name`, `height`, and `weight`, and assign them some plausible values. Next, create a tuple `person` that stores all three data items in a single variable. Think of this operation as the opposite of tuple unpacking. Last, write code to compute the BMI as $BMI = \\frac{weight}{height^2}$. Use the data stored in the tuple `person`, which will require you to use indexing.\n",
    "\n",
    "*Remark:* if you want your calculation to deliver plausible values, make sure to measure height in meters and weight in kg."
   ]
  },
  {
   "cell_type": "code",
   "execution_count": null,
   "id": "2e7cc856-ffd5-48e8-aca1-e15c1669aacd",
   "metadata": {},
   "outputs": [],
   "source": []
  },
  {
   "cell_type": "markdown",
   "id": "c0a503cc-0d36-406c-b4c9-526802376c94",
   "metadata": {},
   "source": [
    "#### Dictionaries\n",
    "19. **Dictionary Basics**: Create a dictionary with two key-value pairs: `{\"name\": \"Alice\", \"age\": 25}`. Print the dictionary, then print the value of the \"age\" key."
   ]
  },
  {
   "cell_type": "code",
   "execution_count": null,
   "id": "402105de-0ba7-4c58-b7aa-7d6d8696334d",
   "metadata": {},
   "outputs": [],
   "source": []
  },
  {
   "cell_type": "markdown",
   "id": "f8bda6dd-57f9-4032-99f5-f731f3e2766d",
   "metadata": {},
   "source": [
    "20. **Updating Dictionary**: Start with the dictionary `{\"color\": \"red\", \"shape\": \"circle\"}`. Add a new key-value pair `\"size\": \"large\"` and change the value of `\"color\"` to `\"blue\"`. Print the updated dictionary."
   ]
  },
  {
   "cell_type": "code",
   "execution_count": null,
   "id": "0905df95-117f-4eb4-a8e5-29256f090e7c",
   "metadata": {},
   "outputs": [],
   "source": []
  }
 ],
 "metadata": {
  "kernelspec": {
   "display_name": "Python 3 (ipykernel)",
   "language": "python",
   "name": "python3"
  },
  "language_info": {
   "codemirror_mode": {
    "name": "ipython",
    "version": 3
   },
   "file_extension": ".py",
   "mimetype": "text/x-python",
   "name": "python",
   "nbconvert_exporter": "python",
   "pygments_lexer": "ipython3",
   "version": "3.9.13"
  }
 },
 "nbformat": 4,
 "nbformat_minor": 5
}
