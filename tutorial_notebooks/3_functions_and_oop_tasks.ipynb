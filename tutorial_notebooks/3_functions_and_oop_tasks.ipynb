{
 "cells": [
  {
   "cell_type": "markdown",
   "metadata": {},
   "source": [
    "[![Open In Colab](https://colab.research.google.com/assets/colab-badge.svg)](https://colab.research.google.com/github/Humboldt-WI/ipml/blob/master/tutorial_notebooks/3_functions_and_oop_tasks.ipynb) "
   ]
  },
  {
   "cell_type": "markdown",
   "metadata": {},
   "source": [
    "# Python Introduction Continue - Functions and Object-Oriented Programming\n",
    "\n",
    "## This notebook includes solutions to all programming tasks\n",
    "<hr>\n",
    "\n",
    "This notebook revisits the last two chapters of our Python introduction, functions and object-oriented programming concepts. For each part, the notebook provides some illustrations and ready-to-run demo code, and a few programming tasks. "
   ]
  },
  {
   "cell_type": "markdown",
   "metadata": {},
   "source": [
    "# Functions\n",
    "\n",
    "Python supports a large number of functions, which perform specific tasks. We saw functions like `print( )`, `type( )`, `isinstance( )` and a few more. These are part of core Python. Python libraries like `Numpy` make available several more functions, which you can import and then use in the same way. If a function for your purpose doesn't exist, you can create your own *custom* function.\n",
    "\n",
    "Inside the parentheses, most functions request a set of **arguments**. The arguments provide necessary input data for the function to carry out its job. The arguments can also give more details on what actions the function should take. Functions can have zero, one, or many arguments. The arguments are separated by commas. The number of arguments can be predefined or be left flexible, meaning that the call of a function at runtime decides how many arguments are provided.\n",
    "\n",
    "### Pre-Built Functions\n",
    "Python comes with some functions already built in for very basic uses. Most of the time, you will have to import other libraries to do pretty much anything with the program. Here are some examples of built-in functions in Python:"
   ]
  },
  {
   "cell_type": "code",
   "execution_count": null,
   "metadata": {},
   "outputs": [],
   "source": [
    "round(3.14, 1) # round takes 2 arguments, the first argument is the number to round and the second is the number of desired decimal places"
   ]
  },
  {
   "cell_type": "markdown",
   "metadata": {},
   "source": [
    "Some functions require you to specify the argument name as well. For example, `print( )` allows us to add a separator between items to print. You must specify this argument by typing `sep=` and identifying the character to print between items."
   ]
  },
  {
   "cell_type": "code",
   "execution_count": null,
   "metadata": {},
   "outputs": [],
   "source": [
    "print('please', 'bring', 'snacks', sep='...')"
   ]
  },
  {
   "cell_type": "markdown",
   "metadata": {},
   "source": [
    "A full list of Python's built in functions are here: https://docs.python.org/3/library/functions.html.\n",
    "\n",
    "Overall, these functions perform rather technical tasks like printing a message to the console or checking the data type of a variable. Other important functions force variables to become different types such as set( ), str( ) and range( ) among others. You already saw corresponding examples in the lecture. \n",
    "\n",
    "In most cases, you will load a **library** to expand the set of built-in functions. Here is an example in which we import the `Numpy` library and then use some of its statistic abilities."
   ]
  },
  {
   "cell_type": "code",
   "execution_count": null,
   "metadata": {},
   "outputs": [],
   "source": [
    "import numpy as np  # numpy is a library for numerical computing. When importing it, we usually use the alias np. This is a convention that makes the code easier to read.\n",
    "\n",
    "np.round(3.14, 1) # numpy also has a round function that works the same way as the built-in round function\n",
    "\n",
    "# but we can do far more, like computing averages\n",
    "avg = np.mean([1, 2, 3, 4, 5])\n",
    "print('Average equals', avg)\n",
    "\n",
    "# or computing the standard deviation\n",
    "std = np.std([1, 2, 3, 4, 5])\n",
    "print('Standard deviation equals', std)\n",
    "\n",
    "# or computing the sine of an array of angles\n",
    "angles = np.array([0, np.pi/2, np.pi, 3*np.pi/2, 2*np.pi])\n",
    "sines = np.sin(angles)\n",
    "print('Sine values:', sines)"
   ]
  },
  {
   "cell_type": "markdown",
   "metadata": {},
   "source": [
    "### Creating Functions\n",
    "\n",
    "It is very easy to create your own new function in Python. The following form is necessary:\n",
    "\n",
    "\n",
    "```\n",
    "def function_name (arg1, arg2 = default_value, arg3 ...):\n",
    "    ...arg1...arg2...arg3...\n",
    "    return val;\n",
    "```\n",
    "\n",
    "Let's look at some examples.\n",
    "\n",
    "\n",
    "\n"
   ]
  },
  {
   "cell_type": "code",
   "execution_count": null,
   "metadata": {},
   "outputs": [],
   "source": [
    "def div_two(x):\n",
    "    return x/2\n",
    "\n",
    "div_two(500)"
   ]
  },
  {
   "cell_type": "code",
   "execution_count": null,
   "metadata": {},
   "outputs": [],
   "source": [
    "def add_dramatic_pause(word1,word2, drama_level=1):\n",
    "  \"\"\" Puts a desired number of ellipses between two words. \n",
    "  Very useful if you want a lot of drama. \"\"\" # using three quotation marks is standard to describe your function, this is a multi-line comment\n",
    "  dramatic_phrase = word1 + '...'*drama_level + word2\n",
    "  return dramatic_phrase\n",
    "\n",
    "add_dramatic_pause('I\\'ll come back', 'never!') # since drama_level has a default value of 1, we can omit it in the call if that level is ok"
   ]
  },
  {
   "cell_type": "code",
   "execution_count": null,
   "metadata": {},
   "outputs": [],
   "source": [
    "last_words = add_dramatic_pause('please', 'bring me a cookie', drama_level=3) # by using return, you can assign the output to a variable\n",
    "\n",
    "last_words"
   ]
  },
  {
   "cell_type": "code",
   "execution_count": null,
   "metadata": {},
   "outputs": [],
   "source": [
    "def create_pizza_controversy(): # your whole function can just be an execution of other functions\n",
    "  pizza_drama = add_dramatic_pause('In my opinion', 'pineapple doesn\\'t belong on pizza', drama_level=2)\n",
    "  return pizza_drama\n",
    "\n",
    "create_pizza_controversy()"
   ]
  },
  {
   "cell_type": "markdown",
   "metadata": {},
   "source": [
    "### Programming Tasks\n",
    "\n",
    "1. *Using Built-in functions:* Write a function that takes a list of numbers and returns the maximum and minimum values using built-in functions.\n",
    "\n",
    "2. *Using Math functions:* Create a function that takes a list of numbers and returns the sum and product of all elements using Math functions.\n",
    "\n",
    "3. *Using Numpy functions:* Call the `Numpy` function `random.randint` to generate 5 random integer numbers between 1 and six\n",
    "\n",
    "4. *Custom function with default argument:* Define a function that takes a string and an integer `n` (default value 1) and returns the string repeated `n` times. \n",
    "\n",
    "5. *Custom function with default arguments:* Extend your solution to task 3. Add a third argument to your function, which enables the caller to specify a separator. The separator should  appear between multiple occurrences of the repeated string. Set the default separator to be the hyphen '-'\n",
    "\n",
    "6. *Function documentation:*  Create a function that calculates the factorial of a number. Ensure to include a docstring that explains the function's purpose, arguments, and return value.\n",
    "\n",
    "7. *Error handling in functions:* Write a function that takes a list of numbers and returns their average. Include error handling to manage cases where the list might be empty or contain non-numeric values.\n"
   ]
  },
  {
   "cell_type": "code",
   "execution_count": null,
   "metadata": {},
   "outputs": [],
   "source": [
    "# Solutions to the exercises"
   ]
  },
  {
   "cell_type": "markdown",
   "metadata": {},
   "source": [
    "# Object-Oriented Programming"
   ]
  },
  {
   "cell_type": "markdown",
   "metadata": {
    "vscode": {
     "languageId": "html"
    }
   },
   "source": [
    "Object-Oriented Programming (OOP) is a programming paradigm based on the concept of \"objects\", which can contain data and code to manipulate that data. In the scope OOP, a **class** is a blueprint for creating objects. It defines a set of attributes and methods that the created objects will have. An **object** is an instance of a class. It is created using the class blueprint and can have its own unique data.\n",
    "\n",
    "Below is an example. Note how the class `Student` allows us to store the characteristics together. We obtain a new data type to store the specific data that characterizes students."
   ]
  },
  {
   "cell_type": "code",
   "execution_count": null,
   "metadata": {},
   "outputs": [],
   "source": [
    "# Imagine a class to represent a student\n",
    "class Student:\n",
    "    def __init__(self, name, semester, major):\n",
    "        self.name = name\n",
    "        self.semester = semester\n",
    "        self.major = major\n",
    "\n",
    "    def display_student_info(self):\n",
    "        print(f\"Name: {self.name}, studies program {self.major} in semester {self.semester}\")\n",
    "\n",
    "# Create a student object\n",
    "student1 = Student(\"Alice\", 3, \"Computer Science\")  \n",
    "student2 = Student(\"Bob\", 2, \"Mathematics\")\n",
    "\n",
    "student1.display_student_info()  # Output: Name: Alice, studies program Computer Science in semester 3\n",
    "student2.display_student_info()  # Output: Name: Bob, studies program Mathematics in semester 2"
   ]
  },
  {
   "cell_type": "markdown",
   "metadata": {},
   "source": [
    "The capability to store the data that characterizes students in a custom data type, ie a class, is especially useful if you need to work with the data of several students. Why? Because you can, for example, that use a list (or another container) to manage the data. Here's an example"
   ]
  },
  {
   "cell_type": "code",
   "execution_count": null,
   "metadata": {},
   "outputs": [],
   "source": [
    "my_python_class = []  # empty list to store student objects\n",
    "\n",
    "# Add student objects to the list   \n",
    "my_python_class.append(student1)\n",
    "my_python_class.append(student2)\n",
    "\n",
    "my_python_class.append(Student(\"Charlie\", 3, \"Business\"))  # add a new student object directly to the list\n",
    "my_python_class.append(Student(\"Laura\", 3, \"Economics\"))  # add a new student object directly to the list\n",
    "my_python_class.append(Student(\"Melis\", 2, \"Business\"))  # add a new student object directly to the list\n",
    "my_python_class.append(Student(\"Hanqui\", 5, \"Economics\"))  # add a new student object directly to the list\n",
    "\n",
    "\n",
    "# Let's say we want to know the average study semester of the students in the class\n",
    "avg_semester = 0\n",
    "for s in my_python_class:\n",
    "    avg_semester += s.semester\n",
    "avg_semester /= len(my_python_class)\n",
    "print(f'In your class, students are in their {avg_semester} semester on average.')"
   ]
  },
  {
   "cell_type": "markdown",
   "metadata": {},
   "source": [
    "The capabilities of OOP are extremely useful when you build your own applications, write new Python libraries, or the like. The main reason for covering it in this course, however, is that, when programming in Python, we interact with libraries that use OOP all the time. So, next time we create an object from some class, we will know what we are doing."
   ]
  }
 ],
 "metadata": {
  "kernelspec": {
   "display_name": "ipml",
   "language": "python",
   "name": "python3"
  },
  "language_info": {
   "codemirror_mode": {
    "name": "ipython",
    "version": 3
   },
   "file_extension": ".py",
   "mimetype": "text/x-python",
   "name": "python",
   "nbconvert_exporter": "python",
   "pygments_lexer": "ipython3",
   "version": "3.9.13"
  }
 },
 "nbformat": 4,
 "nbformat_minor": 2
}
