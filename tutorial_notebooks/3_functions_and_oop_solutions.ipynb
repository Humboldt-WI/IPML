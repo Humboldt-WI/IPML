{
 "cells": [
  {
   "cell_type": "markdown",
   "metadata": {},
   "source": [
    "[![Open In Colab](https://colab.research.google.com/assets/colab-badge.svg)](https://colab.research.google.com/github/Humboldt-WI/ipml/blob/master/tutorial_notebooks/3_functions_and_oop_solutions.ipynb) "
   ]
  },
  {
   "cell_type": "markdown",
   "metadata": {},
   "source": [
    "# Python Introduction Continued - Functions and Object-Oriented Programming\n",
    "\n",
    "## This notebook includes solutions to all programming tasks\n",
    "<hr>\n",
    "\n",
    "This notebook revisits the last two chapters of our Python introduction, functions and object-oriented programming concepts. For each part, the notebook provides some illustrations and ready-to-run demo code, and a few programming tasks. "
   ]
  },
  {
   "cell_type": "markdown",
   "metadata": {},
   "source": [
    "# Functions\n",
    "\n",
    "Python supports a large number of functions, which perform specific tasks. We saw functions like `print( )`, `type( )`, `isinstance( )` and a few more. These are part of core Python. Python libraries like `Numpy` make available several more functions, which you can import and then use in the same way. If a function for your purpose doesn't exist, you can create your own *custom* function.\n",
    "\n",
    "Inside the parentheses, most functions request a set of **arguments**. The arguments provide necessary input data for the function to carry out its job. The arguments can also give more details on what actions the function should take. Functions can have zero, one, or many arguments. The arguments are separated by commas. The number of arguments can be predefined or be left flexible, meaning that the call of a function at runtime decides how many arguments are provided.\n",
    "\n",
    "### Pre-Built Functions\n",
    "Python comes with some functions already built in for very basic uses. Most of the time, you will have to import other libraries to do pretty much anything with the program. Here are some examples of built-in functions in Python:"
   ]
  },
  {
   "cell_type": "code",
   "execution_count": null,
   "metadata": {},
   "outputs": [],
   "source": [
    "round(3.14, 1) # round takes 2 arguments, the first argument is the number to round and the second is the number of desired decimal places"
   ]
  },
  {
   "cell_type": "markdown",
   "metadata": {},
   "source": [
    "Some functions require you to specify the argument name as well. For example, `print( )` allows us to add a separator between items to print. You must specify this argument by typing `sep=` and identifying the character to print between items."
   ]
  },
  {
   "cell_type": "code",
   "execution_count": null,
   "metadata": {},
   "outputs": [],
   "source": [
    "print('please', 'bring', 'snacks', sep='...')"
   ]
  },
  {
   "cell_type": "markdown",
   "metadata": {},
   "source": [
    "A full list of Python's built in functions are here: https://docs.python.org/3/library/functions.html.\n",
    "\n",
    "Overall, these functions perform rather technical tasks like printing a message to the console or checking the data type of a variable. Other important functions force variables to become different types such as set( ), str( ) and range( ) among others. You already saw corresponding examples in the lecture. \n",
    "\n",
    "In most cases, you will load a **library** to expand the set of built-in functions. Here is an example in which we import the `Numpy` library and then use some of its statistic abilities."
   ]
  },
  {
   "cell_type": "code",
   "execution_count": null,
   "metadata": {},
   "outputs": [],
   "source": [
    "import numpy as np  # numpy is a library for numerical computing. When importing it, we usually use the alias np. This is a convention that makes the code easier to read.\n",
    "\n",
    "np.round(3.14, 1) # numpy also has a round function that works the same way as the built-in round function\n",
    "\n",
    "# but we can do far more, like computing averages\n",
    "avg = np.mean([1, 2, 3, 4, 5])\n",
    "print('Average equals', avg)\n",
    "\n",
    "# or computing the standard deviation\n",
    "std = np.std([1, 2, 3, 4, 5])\n",
    "print('Standard deviation equals', std)\n",
    "\n",
    "# or computing the sine of an array of angles\n",
    "angles = np.array([0, np.pi/2, np.pi, 3*np.pi/2, 2*np.pi])\n",
    "sines = np.sin(angles)\n",
    "print('Sine values:', sines)"
   ]
  },
  {
   "cell_type": "markdown",
   "metadata": {},
   "source": [
    "### Creating Functions\n",
    "\n",
    "It is very easy to create your own new function in Python. The following form is necessary:\n",
    "\n",
    "\n",
    "```\n",
    "def function_name (arg1, arg2 = default_value, arg3 ...):\n",
    "    ...arg1...arg2...arg3...\n",
    "    return val;\n",
    "```\n",
    "\n",
    "Let's look at some examples.\n",
    "\n",
    "\n",
    "\n"
   ]
  },
  {
   "cell_type": "code",
   "execution_count": null,
   "metadata": {},
   "outputs": [],
   "source": [
    "def div_two(x):\n",
    "    return x/2\n",
    "\n",
    "div_two(500)"
   ]
  },
  {
   "cell_type": "code",
   "execution_count": null,
   "metadata": {},
   "outputs": [],
   "source": [
    "def add_dramatic_pause(word1,word2, drama_level=1):\n",
    "  \"\"\" Puts a desired number of ellipses between two words. \n",
    "  Very useful if you want a lot of drama. \"\"\" # using three quotation marks is standard to describe your function, this is a multi-line comment\n",
    "  dramatic_phrase = word1 + '...'*drama_level + word2\n",
    "  return dramatic_phrase\n",
    "\n",
    "add_dramatic_pause('I\\'ll come back', 'never!') # since drama_level has a default value of 1, we can omit it in the call if that level is ok"
   ]
  },
  {
   "cell_type": "code",
   "execution_count": null,
   "metadata": {},
   "outputs": [],
   "source": [
    "last_words = add_dramatic_pause('please', 'bring me a cookie', drama_level=3) # by using return, you can assign the output to a variable\n",
    "\n",
    "last_words"
   ]
  },
  {
   "cell_type": "code",
   "execution_count": null,
   "metadata": {},
   "outputs": [],
   "source": [
    "def create_pizza_controversy(): # your whole function can just be an execution of other functions\n",
    "  pizza_drama = add_dramatic_pause('In my opinion', 'pineapple doesn\\'t belong on pizza', drama_level=2)\n",
    "  return pizza_drama\n",
    "\n",
    "create_pizza_controversy()"
   ]
  },
  {
   "cell_type": "markdown",
   "metadata": {},
   "source": [
    "### Programming Tasks\n",
    "\n",
    "1. *Using Built-in functions:* Write a function that takes a list of numbers and returns the maximum and minimum values using built-in functions.\n",
    "\n",
    "2. *Using Math functions:* Create a function that takes a list of numbers and returns the sum and product of all elements using `Math` functions.\n",
    "\n",
    "3. *Using Numpy functions:* Call the `Numpy` function `random.randint` to generate 5 random integer numbers between 1 and six\n",
    "\n",
    "4. *Custom function with default argument:* Define a function that takes a string and an integer `n` (default value 1) and returns the string repeated `n` times. \n",
    "\n",
    "5. *Custom function with default arguments:* Extend your solution to the previous task. Add a third argument to your function, which enables the caller to specify a separator. The separator should  appear between multiple occurrences of the repeated string. Set the default separator to be the hyphen '-'\n",
    "\n",
    "6. *Function documentation:*  Create a function that calculates the factorial of a number. Ensure to include a docstring that explains the function's purpose, arguments, and return value.\n",
    "\n",
    "7. *Error handling in functions:* Write a function that takes a list of numbers and returns their average. Include error handling to manage cases where the list might be empty or contain non-numeric values.\n"
   ]
  },
  {
   "cell_type": "code",
   "execution_count": null,
   "metadata": {},
   "outputs": [],
   "source": [
    "# Solutions to the exercises"
   ]
  },
  {
   "cell_type": "code",
   "execution_count": null,
   "metadata": {},
   "outputs": [
    {
     "name": "stdout",
     "output_type": "stream",
     "text": [
      "Minimum: 1, Maximum: 9\n"
     ]
    }
   ],
   "source": [
    "# Task 1: Using Built-in functions\n",
    "def find_min_max(numbers):\n",
    "    \"\"\"Returns the minimum and maximum values from a list of numbers.\"\"\"\n",
    "    return min(numbers), max(numbers)\n",
    "\n",
    "# Example call\n",
    "numbers = [3, 1, 4, 1, 5, 9, 2, 6, 5, 3, 5]\n",
    "min_val, max_val = find_min_max(numbers)\n",
    "print(f\"Minimum: {min_val}, Maximum: {max_val}\")"
   ]
  },
  {
   "cell_type": "code",
   "execution_count": 6,
   "metadata": {},
   "outputs": [
    {
     "name": "stdout",
     "output_type": "stream",
     "text": [
      "Sum: 15, Product: 120\n"
     ]
    }
   ],
   "source": [
    "\n",
    "# Task 2: Using Math functions\n",
    "import math\n",
    "def sum_and_product(numbers):\n",
    "    \"\"\"Returns the sum and product of all elements in a list of numbers using the Math library.\"\"\"\n",
    "    total_sum = sum(numbers)\n",
    "    total_product = math.prod(numbers)\n",
    "    return total_sum, total_product\n",
    "\n",
    "# Example call\n",
    "numbers = [1, 2, 3, 4, 5]\n",
    "total_sum, total_product = sum_and_product(numbers)\n",
    "print(f\"Sum: {total_sum}, Product: {total_product}\")\n"
   ]
  },
  {
   "cell_type": "code",
   "execution_count": 9,
   "metadata": {},
   "outputs": [
    {
     "name": "stdout",
     "output_type": "stream",
     "text": [
      "Random numbers: [6 4 3 2 4]\n"
     ]
    }
   ],
   "source": [
    "# Task 3: Using Numpy functions\n",
    "import numpy as np\n",
    "random_numbers = np.random.randint(1, 7, size=5)\n",
    "print(\"Random numbers:\", random_numbers)\n"
   ]
  },
  {
   "cell_type": "code",
   "execution_count": 10,
   "metadata": {},
   "outputs": [
    {
     "name": "stdout",
     "output_type": "stream",
     "text": [
      "hellohellohello\n"
     ]
    }
   ],
   "source": [
    "\n",
    "# Task 4: Custom function with default argument\n",
    "def repeat_string(s, n=1):\n",
    "    \"\"\"Returns the string repeated n times.\"\"\"\n",
    "    return s * n\n",
    "\n",
    "# Example call\n",
    "repeated_string = repeat_string(\"hello\", 3)\n",
    "print(repeated_string)\n"
   ]
  },
  {
   "cell_type": "code",
   "execution_count": 13,
   "metadata": {},
   "outputs": [
    {
     "name": "stdout",
     "output_type": "stream",
     "text": [
      "hello hello hello\n"
     ]
    }
   ],
   "source": [
    "\n",
    "# Task 5: Custom function with default arguments\n",
    "def repeat_string_with_separator(s, n=1, sep='-'):\n",
    "    \"\"\"Returns the string repeated n times with a separator.\"\"\"\n",
    "    return sep.join([s] * n)\n",
    "\n",
    "# Example call\n",
    "repeated_string_with_sep = repeat_string_with_separator(\"hello\", 3, sep=' ')\n",
    "print(repeated_string_with_sep)\n"
   ]
  },
  {
   "cell_type": "code",
   "execution_count": 14,
   "metadata": {},
   "outputs": [
    {
     "name": "stdout",
     "output_type": "stream",
     "text": [
      "Factorial: 120\n"
     ]
    }
   ],
   "source": [
    "\n",
    "# Task 6: Function documentation\n",
    "def factorial(n):\n",
    "    \"\"\"\n",
    "    Calculates the factorial of a number.\n",
    "    \n",
    "    Args:\n",
    "    n (int): The number to calculate the factorial for.\n",
    "    \n",
    "    Returns:\n",
    "    int: The factorial of the number.\n",
    "    \"\"\"\n",
    "    if n == 0:\n",
    "        return 1\n",
    "    else:\n",
    "        return n * factorial(n-1)\n",
    "\n",
    "# Example call\n",
    "fact = factorial(5)\n",
    "print(f\"Factorial: {fact}\")\n"
   ]
  },
  {
   "cell_type": "code",
   "execution_count": 18,
   "metadata": {},
   "outputs": [
    {
     "name": "stdout",
     "output_type": "stream",
     "text": [
      "3.0\n",
      "Error: The list is empty.\n",
      "Seems a bit silly to compute an average over one number, no?\n",
      "2.0\n",
      "Error: The list contains non-numeric values.\n"
     ]
    }
   ],
   "source": [
    "# Task 7: Error handling in custom functions\n",
    "def calculate_average(numbers):\n",
    "    \"\"\"\n",
    "    Calculates the average of a list of numbers.\n",
    "    \n",
    "    Args:\n",
    "    numbers (list): A list of numbers.\n",
    "    \n",
    "    Returns:\n",
    "    float: The average of the numbers.\n",
    "    \"\"\"\n",
    "    if not numbers:\n",
    "        return \"Error: The list is empty.\"\n",
    "    if len(numbers) == 0:\n",
    "        return \"Error: The list is empty.\"\n",
    "    if len(numbers) == 1:\n",
    "        print(\"Seems a bit silly to compute an average over one number, no?\")\n",
    "    for num in numbers:\n",
    "        if not isinstance(num, (int, float)):\n",
    "            return \"Error: The list contains non-numeric values.\"\n",
    "    \n",
    "    return sum(numbers) / len(numbers)\n",
    "\n",
    "# Example calls\n",
    "print(calculate_average(numbers))  # Using the existing 'numbers' list\n",
    "print(calculate_average([]))  # Empty list\n",
    "print(calculate_average([2]))  # Boring average\n",
    "print(calculate_average([1, 2, 'three', 4]))  # List with non-numeric value"
   ]
  },
  {
   "cell_type": "markdown",
   "metadata": {},
   "source": [
    "# Object-Oriented Programming"
   ]
  },
  {
   "cell_type": "markdown",
   "metadata": {
    "vscode": {
     "languageId": "html"
    }
   },
   "source": [
    "Object-Oriented Programming (OOP) is a programming paradigm based on the concept of \"objects\", which can contain data and code to manipulate that data. In the scope OOP, a **class** is a blueprint for creating objects. It defines a set of attributes and methods that the created objects will have. An **object** is an instance of a class. It is created using the class blueprint and can have its own unique data.\n",
    "\n",
    "Below is an example. Note how the class `Student` allows us to store the characteristics together. We obtain a new data type to store the specific data that characterizes students."
   ]
  },
  {
   "cell_type": "code",
   "execution_count": 13,
   "metadata": {},
   "outputs": [
    {
     "name": "stdout",
     "output_type": "stream",
     "text": [
      "Name: Alice, studies program Computer Science in semester 3\n",
      "Name: Bob, studies program Mathematics in semester 2\n"
     ]
    }
   ],
   "source": [
    "# Imagine a class to represent a student\n",
    "class Student:\n",
    "    def __init__(self, name, semester, major):\n",
    "        self.name = name\n",
    "        self.semester = semester\n",
    "        self.major = major\n",
    "\n",
    "    def display_student_info(self):\n",
    "        print(f\"Name: {self.name}, studies program {self.major} in semester {self.semester}\")\n",
    "\n",
    "# Create a student object\n",
    "student1 = Student(\"Alice\", 3, \"Computer Science\")  \n",
    "student2 = Student(\"Bob\", 2, \"Mathematics\")\n",
    "\n",
    "student1.display_student_info()  # Output: Name: Alice, studies program Computer Science in semester 3\n",
    "student2.display_student_info()  # Output: Name: Bob, studies program Mathematics in semester 2"
   ]
  },
  {
   "cell_type": "markdown",
   "metadata": {},
   "source": [
    "The capability to store the data that characterizes students in a custom data type, ie a class, is especially useful if you need to work with the data of several students. Why? Because you can, for example, that use a list (or another container) to manage the data. Here's an example"
   ]
  },
  {
   "cell_type": "code",
   "execution_count": 2,
   "metadata": {},
   "outputs": [
    {
     "name": "stdout",
     "output_type": "stream",
     "text": [
      "In your class, students are in their 3.0 semester on average.\n"
     ]
    }
   ],
   "source": [
    "my_python_class = []  # empty list to store student objects\n",
    "\n",
    "# Add student objects to the list   \n",
    "my_python_class.append(student1)\n",
    "my_python_class.append(student2)\n",
    "\n",
    "my_python_class.append(Student(\"Charlie\", 3, \"Business\"))  # add a new student object directly to the list\n",
    "my_python_class.append(Student(\"Laura\", 3, \"Economics\"))  # add a new student object directly to the list\n",
    "my_python_class.append(Student(\"Melis\", 2, \"Business\"))  # add a new student object directly to the list\n",
    "my_python_class.append(Student(\"Hanqui\", 5, \"Economics\"))  # add a new student object directly to the list\n",
    "\n",
    "\n",
    "# Let's say we want to know the average study semester of the students in the class\n",
    "avg_semester = 0\n",
    "for s in my_python_class:\n",
    "    avg_semester += s.semester\n",
    "avg_semester /= len(my_python_class)\n",
    "print(f'In your class, students are in their {avg_semester} semester on average.')"
   ]
  },
  {
   "cell_type": "markdown",
   "metadata": {},
   "source": [
    "One key selling point of OOP is that we can extend the functionality of classes when needed. For example, we can introduce a sub-class `GraduateStudent` that inherits all the capabilities already available in class `Student`, that is all the properties and methods, and adds new properties and methods where needed. \n",
    "\n",
    "We illustrate this setting by adding a new property `BScProgram`, storing what program a student studied during their bachelor studies, and updating the method `display_student_info` to reflect the BSc degree of graduate students. Here's how we do this:"
   ]
  },
  {
   "cell_type": "code",
   "execution_count": null,
   "metadata": {},
   "outputs": [],
   "source": [
    "class GradStudent(Student):  # Specialized class inheriting from Student\n",
    "    def __init__(self, name, semester, major, bsc_program):\n",
    "        super().__init__(name, semester, major)  # Call the parent, i.e., 'super' class first to initialize the student object\n",
    "        self.bsc_program = bsc_program  # then proceed with setting additional properties specific to GradStudents\n",
    "\n",
    "    # We overwrite the implementation of the method of the parent class\n",
    "    # to provide a version that is specific to GradStudents\n",
    "    def display_student_info(self):\n",
    "        message = f\"\"\"\n",
    "            Name: {self.name}, studies {self.major} in \n",
    "            semester {self.semester}\" and holds a BSc degree in\n",
    "            {self.bsc_program}\n",
    "        \"\"\"\n",
    "\n",
    "        print(message)\n"
   ]
  },
  {
   "cell_type": "code",
   "execution_count": null,
   "metadata": {},
   "outputs": [
    {
     "name": "stdout",
     "output_type": "stream",
     "text": [
      "\n",
      "            Name: Linus, studies program Business in \n",
      "            semester 2\" and holds a BSc degree in\n",
      "            Economics\n",
      "        \n"
     ]
    }
   ],
   "source": [
    "# Code to create a GradStudent object\n",
    "msc_student = GradStudent(name='Linus', semester=2,\n",
    "                           major='Business', bsc_program='Economics')\n",
    "\n",
    "msc_student.display_student_info()"
   ]
  },
  {
   "cell_type": "markdown",
   "metadata": {},
   "source": [
    "Note how, in the previous demo, the format of the output of the `display_student_info` method changed. Taking it one step further, we can add our graduate student object to our list of students created above in the variable `my_python_class`. Then, if we enumerate the list and simply call the `display_student_info` method for every list item, that is, every student, Python will select automatically which version of the `display_student_info` is the right one. You can see this from the output of the next cell."
   ]
  },
  {
   "cell_type": "code",
   "execution_count": 17,
   "metadata": {},
   "outputs": [
    {
     "name": "stdout",
     "output_type": "stream",
     "text": [
      "Name: Alice, studies program Computer Science in semester 3\n",
      "Name: Bob, studies program Mathematics in semester 2\n",
      "Name: Charlie, studies program Business in semester 3\n",
      "Name: Laura, studies program Economics in semester 3\n",
      "Name: Melis, studies program Business in semester 2\n",
      "Name: Hanqui, studies program Economics in semester 5\n",
      "\n",
      "            Name: Linus, studies program Business in \n",
      "            semester 2\" and holds a BSc degree in\n",
      "            Economics\n",
      "        \n"
     ]
    }
   ],
   "source": [
    "my_python_class.append(msc_student)\n",
    "for stud in my_python_class:\n",
    "    stud.display_student_info()"
   ]
  },
  {
   "cell_type": "markdown",
   "metadata": {},
   "source": [
    "So the correct version of the `display_student_info` method was picked automatically based on the type of the object, `Student` or `GradStudent`. This hints at the capabilities of OOP and how they can be very useful to write code that hides implementation details (e.g., which version of a method is the right one?) and is easy to extend when requirements change (e.g., add new, more specialized classes when needed). \n",
    "These and other capabilities of OOP are extremely useful when you build your own applications, write new Python libraries, or the like. The main reason for covering it in this course, however, is that, when programming in Python, we interact with libraries that use OOP all the time. So, next time we create an object from some class, we will know what we are doing."
   ]
  }
 ],
 "metadata": {
  "kernelspec": {
   "display_name": "ipml",
   "language": "python",
   "name": "python3"
  },
  "language_info": {
   "codemirror_mode": {
    "name": "ipython",
    "version": 3
   },
   "file_extension": ".py",
   "mimetype": "text/x-python",
   "name": "python",
   "nbconvert_exporter": "python",
   "pygments_lexer": "ipython3",
   "version": "3.9.13"
  }
 },
 "nbformat": 4,
 "nbformat_minor": 2
}
