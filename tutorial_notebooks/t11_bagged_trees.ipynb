{
 "cells": [
  {
   "cell_type": "markdown",
   "metadata": {},
   "source": [
    "# Bagged Trees"
   ]
  },
  {
   "cell_type": "code",
   "execution_count": null,
   "metadata": {},
   "outputs": [],
   "source": [
    "import pandas as pd\n",
    "import numpy as np\n",
    "\n",
    "from sklearn.model_selection import train_test_split\n",
    "from sklearn.tree import DecisionTreeClassifier\n",
    "from sklearn.ensemble import BaggingClassifier\n",
    "from sklearn.metrics import roc_auc_score"
   ]
  },
  {
   "cell_type": "code",
   "execution_count": null,
   "metadata": {},
   "outputs": [],
   "source": [
    "def bootstrapping(X, y):\n",
    "    bootstrap_indices = np.random.randint(low=0, high=len(X), size=len(X))\n",
    "    X_bootstrapped = X.iloc[bootstrap_indices]\n",
    "    y_bootstrapped = y.iloc[bootstrap_indices]\n",
    "    return X_bootstrapped, y_bootstrapped"
   ]
  },
  {
   "cell_type": "markdown",
   "metadata": {},
   "source": [
    "## Bagged Trees Pseudocode\n",
    "\n",
    "- Initialization: Prepare a list to hold individual decision trees and another for their predictions.\n",
    "- Training:\n",
    "    - For each tree to be created, generate a bootstrap sample from the original dataset.\n",
    "    - Train a decision tree on this bootstrap sample.\n",
    "    - Store the trained tree.\n",
    "- Prediction:\n",
    "    - For a given input, use each tree in the ensemble to make a prediction.\n",
    "    - Aggregate these predictions into a final prediction. The aggregation method depends on whether the task is regression (use the average of predictions) or classification (use majority voting)."
   ]
  },
  {
   "cell_type": "code",
   "execution_count": null,
   "metadata": {},
   "outputs": [],
   "source": [
    "def bagged_trees(X, y, n_trees, max_depth):\n",
    "    \n",
    "    # bagged trees code here"
   ]
  },
  {
   "cell_type": "markdown",
   "metadata": {},
   "source": [
    "### Run on data set"
   ]
  },
  {
   "cell_type": "code",
   "execution_count": null,
   "metadata": {},
   "outputs": [],
   "source": [
    "# Download the data from the web\n",
    "url = 'https://raw.githubusercontent.com/Humboldt-WI/bads/master/data/hmeq.csv'\n",
    "df = pd.read_csv(url)  # standard pandas function to load tabular data in CSV format\n",
    "\n",
    "# Missing value handling\n",
    "for col in df.columns:  # loop through all the columns (i.e., features)\n",
    "    if df[col].dtype == 'O':  # decide on the imputation strategy based on the data type\n",
    "        df[col].fillna(df[col].mode()[0], inplace=True)  # mode replacement for categories\n",
    "    else:\n",
    "        df[col].fillna(df[col].median(), inplace=True)  # mean replacement for all other features \n",
    "\n",
    "# Dummy coding of the (two) categorical variables\n",
    "df = pd.get_dummies(data=df, drop_first=True)\n",
    "\n",
    "# Create default variables names X, y for further analysis\n",
    "# We use the suffix _cls to highlight that this data facilitates regression\n",
    "X = df.copy()\n",
    "y = X.pop('BAD')"
   ]
  },
  {
   "cell_type": "code",
   "execution_count": null,
   "metadata": {},
   "outputs": [],
   "source": [
    "X_train, X_test, y_train, y_test = train_test_split(\n",
    "    X, y, test_size=0.3, random_state=42)\n",
    "\n",
    "# train and test bagged trees here"
   ]
  },
  {
   "cell_type": "markdown",
   "metadata": {},
   "source": [
    "### Compare performance to single decision tree"
   ]
  },
  {
   "cell_type": "code",
   "execution_count": null,
   "metadata": {},
   "outputs": [],
   "source": [
    "# single decision tree code here"
   ]
  }
 ],
 "metadata": {
  "language_info": {
   "name": "python"
  }
 },
 "nbformat": 4,
 "nbformat_minor": 2
}
