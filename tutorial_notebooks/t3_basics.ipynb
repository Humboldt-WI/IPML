{
 "cells": [
  {
   "cell_type": "markdown",
   "metadata": {},
   "source": [
    "## Fundamentals of Python Syntax"
   ]
  },
  {
   "cell_type": "markdown",
   "metadata": {},
   "source": [
    "### Comments"
   ]
  },
  {
   "cell_type": "code",
   "execution_count": 2,
   "metadata": {},
   "outputs": [
    {
     "name": "stdout",
     "output_type": "stream",
     "text": [
      "1\n",
      "3\n"
     ]
    }
   ],
   "source": [
    "print(1)\n",
    "# print(2)\n",
    "print(3) # this is number three"
   ]
  },
  {
   "cell_type": "markdown",
   "metadata": {},
   "source": [
    "### Printing"
   ]
  },
  {
   "cell_type": "code",
   "execution_count": 3,
   "metadata": {},
   "outputs": [],
   "source": [
    "name = 'Max'\n",
    "duration = '90'"
   ]
  },
  {
   "cell_type": "code",
   "execution_count": 4,
   "metadata": {},
   "outputs": [
    {
     "name": "stdout",
     "output_type": "stream",
     "text": [
      "Max attended a 90 minute class today\n"
     ]
    }
   ],
   "source": [
    "print(name + ' attended a ' + duration + ' minute class today')"
   ]
  },
  {
   "cell_type": "code",
   "execution_count": 5,
   "metadata": {},
   "outputs": [
    {
     "name": "stdout",
     "output_type": "stream",
     "text": [
      "Max attended a 90 minute class today\n"
     ]
    }
   ],
   "source": [
    "print(f'{name} attended a {duration} minute class today')"
   ]
  },
  {
   "cell_type": "markdown",
   "metadata": {},
   "source": [
    "### Basic operations"
   ]
  },
  {
   "cell_type": "code",
   "execution_count": 6,
   "metadata": {},
   "outputs": [
    {
     "data": {
      "text/plain": [
       "1.1"
      ]
     },
     "execution_count": 6,
     "metadata": {},
     "output_type": "execute_result"
    }
   ],
   "source": [
    "1 + 0.1"
   ]
  },
  {
   "cell_type": "code",
   "execution_count": 7,
   "metadata": {},
   "outputs": [
    {
     "data": {
      "text/plain": [
       "'Hi all'"
      ]
     },
     "execution_count": 7,
     "metadata": {},
     "output_type": "execute_result"
    }
   ],
   "source": [
    "'Hi ' + 'all'"
   ]
  },
  {
   "cell_type": "code",
   "execution_count": 8,
   "metadata": {},
   "outputs": [
    {
     "data": {
      "text/plain": [
       "2"
      ]
     },
     "execution_count": 8,
     "metadata": {},
     "output_type": "execute_result"
    }
   ],
   "source": [
    "1 + int('1')"
   ]
  },
  {
   "cell_type": "code",
   "execution_count": 9,
   "metadata": {},
   "outputs": [
    {
     "data": {
      "text/plain": [
       "6"
      ]
     },
     "execution_count": 9,
     "metadata": {},
     "output_type": "execute_result"
    }
   ],
   "source": [
    "2 * 3"
   ]
  },
  {
   "cell_type": "code",
   "execution_count": 10,
   "metadata": {},
   "outputs": [
    {
     "data": {
      "text/plain": [
       "0.8"
      ]
     },
     "execution_count": 10,
     "metadata": {},
     "output_type": "execute_result"
    }
   ],
   "source": [
    "4 / 5"
   ]
  },
  {
   "cell_type": "code",
   "execution_count": 11,
   "metadata": {},
   "outputs": [
    {
     "data": {
      "text/plain": [
       "9"
      ]
     },
     "execution_count": 11,
     "metadata": {},
     "output_type": "execute_result"
    }
   ],
   "source": [
    "3 ** 2"
   ]
  },
  {
   "cell_type": "markdown",
   "metadata": {},
   "source": [
    "### User Input"
   ]
  },
  {
   "cell_type": "code",
   "execution_count": 12,
   "metadata": {},
   "outputs": [
    {
     "name": "stdout",
     "output_type": "stream",
     "text": [
      "Hello Vincent\n"
     ]
    }
   ],
   "source": [
    "name = input('What is your name?')\n",
    "print('Hello', name)"
   ]
  },
  {
   "cell_type": "markdown",
   "metadata": {},
   "source": [
    "### Lists and indexing"
   ]
  },
  {
   "cell_type": "code",
   "execution_count": 13,
   "metadata": {},
   "outputs": [],
   "source": [
    "l = [5, 7, 2, 4] # a Python list"
   ]
  },
  {
   "cell_type": "code",
   "execution_count": 14,
   "metadata": {},
   "outputs": [
    {
     "data": {
      "text/plain": [
       "5"
      ]
     },
     "execution_count": 14,
     "metadata": {},
     "output_type": "execute_result"
    }
   ],
   "source": [
    "l[0]"
   ]
  },
  {
   "cell_type": "code",
   "execution_count": 15,
   "metadata": {},
   "outputs": [
    {
     "data": {
      "text/plain": [
       "4"
      ]
     },
     "execution_count": 15,
     "metadata": {},
     "output_type": "execute_result"
    }
   ],
   "source": [
    "l[-1]"
   ]
  },
  {
   "cell_type": "code",
   "execution_count": 16,
   "metadata": {},
   "outputs": [
    {
     "data": {
      "text/plain": [
       "[5, 7]"
      ]
     },
     "execution_count": 16,
     "metadata": {},
     "output_type": "execute_result"
    }
   ],
   "source": [
    "l[:2]"
   ]
  },
  {
   "cell_type": "code",
   "execution_count": 17,
   "metadata": {},
   "outputs": [
    {
     "data": {
      "text/plain": [
       "[2, 4]"
      ]
     },
     "execution_count": 17,
     "metadata": {},
     "output_type": "execute_result"
    }
   ],
   "source": [
    "l[-2:]"
   ]
  },
  {
   "cell_type": "code",
   "execution_count": 18,
   "metadata": {},
   "outputs": [
    {
     "data": {
      "text/plain": [
       "[2, 4, 5, 7]"
      ]
     },
     "execution_count": 18,
     "metadata": {},
     "output_type": "execute_result"
    }
   ],
   "source": [
    "l.sort()\n",
    "l"
   ]
  },
  {
   "cell_type": "markdown",
   "metadata": {},
   "source": [
    "### List comprehension"
   ]
  },
  {
   "cell_type": "code",
   "execution_count": 19,
   "metadata": {},
   "outputs": [
    {
     "data": {
      "text/plain": [
       "[2, 4, 5, 7]"
      ]
     },
     "execution_count": 19,
     "metadata": {},
     "output_type": "execute_result"
    }
   ],
   "source": [
    "[i for i in l]"
   ]
  },
  {
   "cell_type": "code",
   "execution_count": 20,
   "metadata": {},
   "outputs": [
    {
     "data": {
      "text/plain": [
       "[4, 16, 25, 49]"
      ]
     },
     "execution_count": 20,
     "metadata": {},
     "output_type": "execute_result"
    }
   ],
   "source": [
    "[i ** 2 for i in l]"
   ]
  },
  {
   "cell_type": "code",
   "execution_count": 21,
   "metadata": {},
   "outputs": [
    {
     "data": {
      "text/plain": [
       "[1, 3, 4, 6]"
      ]
     },
     "execution_count": 21,
     "metadata": {},
     "output_type": "execute_result"
    }
   ],
   "source": [
    "[i - 1 for i in l]"
   ]
  },
  {
   "cell_type": "code",
   "execution_count": 22,
   "metadata": {},
   "outputs": [
    {
     "data": {
      "text/plain": [
       "[4, 16, 25, 7]"
      ]
     },
     "execution_count": 22,
     "metadata": {},
     "output_type": "execute_result"
    }
   ],
   "source": [
    "[i ** 2 if i <= 5 else i for i in l]"
   ]
  },
  {
   "cell_type": "markdown",
   "metadata": {},
   "source": [
    "### Loops and conditional statements"
   ]
  },
  {
   "cell_type": "code",
   "execution_count": 23,
   "metadata": {},
   "outputs": [
    {
     "name": "stdout",
     "output_type": "stream",
     "text": [
      "2\n",
      "4\n",
      "5\n",
      "7\n"
     ]
    }
   ],
   "source": [
    "for i in l:\n",
    "    print(i)"
   ]
  },
  {
   "cell_type": "code",
   "execution_count": 24,
   "metadata": {},
   "outputs": [
    {
     "name": "stdout",
     "output_type": "stream",
     "text": [
      "hi\n",
      "hi\n",
      "hi\n"
     ]
    }
   ],
   "source": [
    "for i in range(3):\n",
    "    print('hi')"
   ]
  },
  {
   "cell_type": "code",
   "execution_count": 25,
   "metadata": {},
   "outputs": [
    {
     "name": "stdout",
     "output_type": "stream",
     "text": [
      "1\n",
      "2\n",
      "3\n"
     ]
    }
   ],
   "source": [
    "value = 1\n",
    "for i in range(3):\n",
    "    print(value)\n",
    "    value += 1"
   ]
  },
  {
   "cell_type": "code",
   "execution_count": 26,
   "metadata": {},
   "outputs": [
    {
     "name": "stdout",
     "output_type": "stream",
     "text": [
      "1\n",
      "2\n",
      "3\n"
     ]
    }
   ],
   "source": [
    "value = 1\n",
    "while value <= 3:\n",
    "    print(value)\n",
    "    value += 1"
   ]
  },
  {
   "cell_type": "code",
   "execution_count": 27,
   "metadata": {},
   "outputs": [
    {
     "name": "stdout",
     "output_type": "stream",
     "text": [
      "this is a nice value\n"
     ]
    }
   ],
   "source": [
    "value = 2\n",
    "if value < 3:\n",
    "    print('this is a nice value')\n",
    "elif 3 <= value < 6:\n",
    "    print('i dont like this value')\n",
    "else:\n",
    "    print('this is a nice value')"
   ]
  },
  {
   "cell_type": "markdown",
   "metadata": {},
   "source": [
    "### Modules\n",
    "\n",
    "#### Math"
   ]
  },
  {
   "cell_type": "code",
   "execution_count": 28,
   "metadata": {},
   "outputs": [],
   "source": [
    "import numpy as np"
   ]
  },
  {
   "cell_type": "code",
   "execution_count": 29,
   "metadata": {},
   "outputs": [
    {
     "data": {
      "text/plain": [
       "3.0"
      ]
     },
     "execution_count": 29,
     "metadata": {},
     "output_type": "execute_result"
    }
   ],
   "source": [
    "np.sqrt(9)"
   ]
  },
  {
   "cell_type": "code",
   "execution_count": 30,
   "metadata": {},
   "outputs": [
    {
     "data": {
      "text/plain": [
       "2.37"
      ]
     },
     "execution_count": 30,
     "metadata": {},
     "output_type": "execute_result"
    }
   ],
   "source": [
    "np.round(2.3746, 2)"
   ]
  },
  {
   "cell_type": "markdown",
   "metadata": {},
   "source": [
    "#### Data"
   ]
  },
  {
   "cell_type": "code",
   "execution_count": 31,
   "metadata": {},
   "outputs": [],
   "source": [
    "import pandas as pd"
   ]
  },
  {
   "cell_type": "code",
   "execution_count": 32,
   "metadata": {},
   "outputs": [],
   "source": [
    "url = 'https://raw.githubusercontent.com/Humboldt-WI/IPML/main/data/resale_price_dataset.csv'\n",
    "\n",
    "data = pd.read_csv(url)"
   ]
  },
  {
   "cell_type": "code",
   "execution_count": 34,
   "metadata": {},
   "outputs": [],
   "source": [
    "data = pd.read_csv('../data/resale_price_dataset.csv')"
   ]
  },
  {
   "cell_type": "code",
   "execution_count": 35,
   "metadata": {},
   "outputs": [
    {
     "data": {
      "text/html": [
       "<div>\n",
       "<style scoped>\n",
       "    .dataframe tbody tr th:only-of-type {\n",
       "        vertical-align: middle;\n",
       "    }\n",
       "\n",
       "    .dataframe tbody tr th {\n",
       "        vertical-align: top;\n",
       "    }\n",
       "\n",
       "    .dataframe thead th {\n",
       "        text-align: right;\n",
       "    }\n",
       "</style>\n",
       "<table border=\"1\" class=\"dataframe\">\n",
       "  <thead>\n",
       "    <tr style=\"text-align: right;\">\n",
       "      <th></th>\n",
       "      <th>Brand</th>\n",
       "      <th>Model</th>\n",
       "      <th>Release year</th>\n",
       "      <th>Screen size (inches)</th>\n",
       "      <th>Hard drive size (GB)</th>\n",
       "      <th>RAM size (GB)</th>\n",
       "      <th>Weight (grams)</th>\n",
       "      <th>Retail price</th>\n",
       "      <th>Industry</th>\n",
       "      <th>Contract Lease Duration (months)</th>\n",
       "      <th>Actual Lease Duration (months)</th>\n",
       "      <th>Battery capacity (%)</th>\n",
       "      <th>Observed resale price</th>\n",
       "    </tr>\n",
       "  </thead>\n",
       "  <tbody>\n",
       "    <tr>\n",
       "      <th>0</th>\n",
       "      <td>Crest</td>\n",
       "      <td>Elevation Elite</td>\n",
       "      <td>2016</td>\n",
       "      <td>15</td>\n",
       "      <td>512</td>\n",
       "      <td>16</td>\n",
       "      <td>1150</td>\n",
       "      <td>2699</td>\n",
       "      <td>Automotive and Transportation</td>\n",
       "      <td>60</td>\n",
       "      <td>63</td>\n",
       "      <td>87.90</td>\n",
       "      <td>751</td>\n",
       "    </tr>\n",
       "    <tr>\n",
       "      <th>1</th>\n",
       "      <td>Crest</td>\n",
       "      <td>Elevation Elite</td>\n",
       "      <td>2016</td>\n",
       "      <td>15</td>\n",
       "      <td>512</td>\n",
       "      <td>16</td>\n",
       "      <td>1150</td>\n",
       "      <td>2719</td>\n",
       "      <td>Healthcare</td>\n",
       "      <td>6</td>\n",
       "      <td>5</td>\n",
       "      <td>95.59</td>\n",
       "      <td>2599</td>\n",
       "    </tr>\n",
       "    <tr>\n",
       "      <th>2</th>\n",
       "      <td>Crest</td>\n",
       "      <td>Elevation Elite</td>\n",
       "      <td>2016</td>\n",
       "      <td>15</td>\n",
       "      <td>512</td>\n",
       "      <td>16</td>\n",
       "      <td>1150</td>\n",
       "      <td>2759</td>\n",
       "      <td>Automotive and Transportation</td>\n",
       "      <td>24</td>\n",
       "      <td>27</td>\n",
       "      <td>95.05</td>\n",
       "      <td>1358</td>\n",
       "    </tr>\n",
       "    <tr>\n",
       "      <th>3</th>\n",
       "      <td>Crest</td>\n",
       "      <td>Elevation Elite</td>\n",
       "      <td>2016</td>\n",
       "      <td>15</td>\n",
       "      <td>512</td>\n",
       "      <td>16</td>\n",
       "      <td>1150</td>\n",
       "      <td>2639</td>\n",
       "      <td>Automotive and Transportation</td>\n",
       "      <td>36</td>\n",
       "      <td>31</td>\n",
       "      <td>94.66</td>\n",
       "      <td>1166</td>\n",
       "    </tr>\n",
       "    <tr>\n",
       "      <th>4</th>\n",
       "      <td>Crest</td>\n",
       "      <td>Elevation Elite</td>\n",
       "      <td>2016</td>\n",
       "      <td>15</td>\n",
       "      <td>512</td>\n",
       "      <td>16</td>\n",
       "      <td>1150</td>\n",
       "      <td>2659</td>\n",
       "      <td>Agriculture and Farming</td>\n",
       "      <td>12</td>\n",
       "      <td>10</td>\n",
       "      <td>89.12</td>\n",
       "      <td>1915</td>\n",
       "    </tr>\n",
       "    <tr>\n",
       "      <th>...</th>\n",
       "      <td>...</td>\n",
       "      <td>...</td>\n",
       "      <td>...</td>\n",
       "      <td>...</td>\n",
       "      <td>...</td>\n",
       "      <td>...</td>\n",
       "      <td>...</td>\n",
       "      <td>...</td>\n",
       "      <td>...</td>\n",
       "      <td>...</td>\n",
       "      <td>...</td>\n",
       "      <td>...</td>\n",
       "      <td>...</td>\n",
       "    </tr>\n",
       "    <tr>\n",
       "      <th>4995</th>\n",
       "      <td>Zephyr</td>\n",
       "      <td>WindRider W2</td>\n",
       "      <td>2017</td>\n",
       "      <td>15</td>\n",
       "      <td>1028</td>\n",
       "      <td>16</td>\n",
       "      <td>958</td>\n",
       "      <td>3989</td>\n",
       "      <td>Event Management</td>\n",
       "      <td>48</td>\n",
       "      <td>48</td>\n",
       "      <td>94.81</td>\n",
       "      <td>1334</td>\n",
       "    </tr>\n",
       "    <tr>\n",
       "      <th>4996</th>\n",
       "      <td>Zephyr</td>\n",
       "      <td>WindRider W2</td>\n",
       "      <td>2017</td>\n",
       "      <td>13</td>\n",
       "      <td>1028</td>\n",
       "      <td>8</td>\n",
       "      <td>830</td>\n",
       "      <td>2859</td>\n",
       "      <td>Aerospace and Defense</td>\n",
       "      <td>36</td>\n",
       "      <td>34</td>\n",
       "      <td>85.46</td>\n",
       "      <td>988</td>\n",
       "    </tr>\n",
       "    <tr>\n",
       "      <th>4997</th>\n",
       "      <td>Zephyr</td>\n",
       "      <td>WindRider W2</td>\n",
       "      <td>2017</td>\n",
       "      <td>13</td>\n",
       "      <td>1028</td>\n",
       "      <td>8</td>\n",
       "      <td>830</td>\n",
       "      <td>2859</td>\n",
       "      <td>Construction and Engineering</td>\n",
       "      <td>12</td>\n",
       "      <td>10</td>\n",
       "      <td>95.02</td>\n",
       "      <td>1967</td>\n",
       "    </tr>\n",
       "    <tr>\n",
       "      <th>4998</th>\n",
       "      <td>Zephyr</td>\n",
       "      <td>WindRider W2</td>\n",
       "      <td>2017</td>\n",
       "      <td>13</td>\n",
       "      <td>1028</td>\n",
       "      <td>8</td>\n",
       "      <td>830</td>\n",
       "      <td>2829</td>\n",
       "      <td>Automotive and Transportation</td>\n",
       "      <td>60</td>\n",
       "      <td>65</td>\n",
       "      <td>92.36</td>\n",
       "      <td>879</td>\n",
       "    </tr>\n",
       "    <tr>\n",
       "      <th>4999</th>\n",
       "      <td>Zephyr</td>\n",
       "      <td>WindRider W2</td>\n",
       "      <td>2017</td>\n",
       "      <td>13</td>\n",
       "      <td>1028</td>\n",
       "      <td>8</td>\n",
       "      <td>830</td>\n",
       "      <td>2949</td>\n",
       "      <td>Consulting</td>\n",
       "      <td>12</td>\n",
       "      <td>11</td>\n",
       "      <td>77.45</td>\n",
       "      <td>1776</td>\n",
       "    </tr>\n",
       "  </tbody>\n",
       "</table>\n",
       "<p>5000 rows × 13 columns</p>\n",
       "</div>"
      ],
      "text/plain": [
       "       Brand            Model  Release year  Screen size (inches)  \\\n",
       "0      Crest  Elevation Elite          2016                    15   \n",
       "1      Crest  Elevation Elite          2016                    15   \n",
       "2      Crest  Elevation Elite          2016                    15   \n",
       "3      Crest  Elevation Elite          2016                    15   \n",
       "4      Crest  Elevation Elite          2016                    15   \n",
       "...      ...              ...           ...                   ...   \n",
       "4995  Zephyr     WindRider W2          2017                    15   \n",
       "4996  Zephyr     WindRider W2          2017                    13   \n",
       "4997  Zephyr     WindRider W2          2017                    13   \n",
       "4998  Zephyr     WindRider W2          2017                    13   \n",
       "4999  Zephyr     WindRider W2          2017                    13   \n",
       "\n",
       "      Hard drive size (GB)  RAM size (GB)  Weight (grams)  Retail price  \\\n",
       "0                      512             16            1150          2699   \n",
       "1                      512             16            1150          2719   \n",
       "2                      512             16            1150          2759   \n",
       "3                      512             16            1150          2639   \n",
       "4                      512             16            1150          2659   \n",
       "...                    ...            ...             ...           ...   \n",
       "4995                  1028             16             958          3989   \n",
       "4996                  1028              8             830          2859   \n",
       "4997                  1028              8             830          2859   \n",
       "4998                  1028              8             830          2829   \n",
       "4999                  1028              8             830          2949   \n",
       "\n",
       "                           Industry  Contract Lease Duration (months)  \\\n",
       "0     Automotive and Transportation                                60   \n",
       "1                        Healthcare                                 6   \n",
       "2     Automotive and Transportation                                24   \n",
       "3     Automotive and Transportation                                36   \n",
       "4           Agriculture and Farming                                12   \n",
       "...                             ...                               ...   \n",
       "4995               Event Management                                48   \n",
       "4996          Aerospace and Defense                                36   \n",
       "4997   Construction and Engineering                                12   \n",
       "4998  Automotive and Transportation                                60   \n",
       "4999                     Consulting                                12   \n",
       "\n",
       "      Actual Lease Duration (months)  Battery capacity (%)  \\\n",
       "0                                 63                 87.90   \n",
       "1                                  5                 95.59   \n",
       "2                                 27                 95.05   \n",
       "3                                 31                 94.66   \n",
       "4                                 10                 89.12   \n",
       "...                              ...                   ...   \n",
       "4995                              48                 94.81   \n",
       "4996                              34                 85.46   \n",
       "4997                              10                 95.02   \n",
       "4998                              65                 92.36   \n",
       "4999                              11                 77.45   \n",
       "\n",
       "      Observed resale price  \n",
       "0                       751  \n",
       "1                      2599  \n",
       "2                      1358  \n",
       "3                      1166  \n",
       "4                      1915  \n",
       "...                     ...  \n",
       "4995                   1334  \n",
       "4996                    988  \n",
       "4997                   1967  \n",
       "4998                    879  \n",
       "4999                   1776  \n",
       "\n",
       "[5000 rows x 13 columns]"
      ]
     },
     "execution_count": 35,
     "metadata": {},
     "output_type": "execute_result"
    }
   ],
   "source": [
    "data"
   ]
  },
  {
   "cell_type": "code",
   "execution_count": 36,
   "metadata": {},
   "outputs": [
    {
     "name": "stdout",
     "output_type": "stream",
     "text": [
      "<class 'pandas.core.frame.DataFrame'>\n",
      "RangeIndex: 5000 entries, 0 to 4999\n",
      "Data columns (total 13 columns):\n",
      " #   Column                            Non-Null Count  Dtype  \n",
      "---  ------                            --------------  -----  \n",
      " 0   Brand                             5000 non-null   object \n",
      " 1   Model                             5000 non-null   object \n",
      " 2   Release year                      5000 non-null   int64  \n",
      " 3   Screen size (inches)              5000 non-null   int64  \n",
      " 4   Hard drive size (GB)              5000 non-null   int64  \n",
      " 5   RAM size (GB)                     5000 non-null   int64  \n",
      " 6   Weight (grams)                    5000 non-null   int64  \n",
      " 7   Retail price                      5000 non-null   int64  \n",
      " 8   Industry                          5000 non-null   object \n",
      " 9   Contract Lease Duration (months)  5000 non-null   int64  \n",
      " 10  Actual Lease Duration (months)    5000 non-null   int64  \n",
      " 11  Battery capacity (%)              5000 non-null   float64\n",
      " 12  Observed resale price             5000 non-null   int64  \n",
      "dtypes: float64(1), int64(9), object(3)\n",
      "memory usage: 507.9+ KB\n"
     ]
    }
   ],
   "source": [
    "data.info()"
   ]
  },
  {
   "cell_type": "code",
   "execution_count": 37,
   "metadata": {},
   "outputs": [
    {
     "data": {
      "text/html": [
       "<div>\n",
       "<style scoped>\n",
       "    .dataframe tbody tr th:only-of-type {\n",
       "        vertical-align: middle;\n",
       "    }\n",
       "\n",
       "    .dataframe tbody tr th {\n",
       "        vertical-align: top;\n",
       "    }\n",
       "\n",
       "    .dataframe thead th {\n",
       "        text-align: right;\n",
       "    }\n",
       "</style>\n",
       "<table border=\"1\" class=\"dataframe\">\n",
       "  <thead>\n",
       "    <tr style=\"text-align: right;\">\n",
       "      <th></th>\n",
       "      <th>Brand</th>\n",
       "      <th>Model</th>\n",
       "      <th>Release year</th>\n",
       "      <th>Screen size (inches)</th>\n",
       "      <th>Hard drive size (GB)</th>\n",
       "      <th>RAM size (GB)</th>\n",
       "      <th>Weight (grams)</th>\n",
       "      <th>Retail price</th>\n",
       "      <th>Industry</th>\n",
       "      <th>Contract Lease Duration (months)</th>\n",
       "      <th>Actual Lease Duration (months)</th>\n",
       "      <th>Battery capacity (%)</th>\n",
       "      <th>Observed resale price</th>\n",
       "    </tr>\n",
       "  </thead>\n",
       "  <tbody>\n",
       "    <tr>\n",
       "      <th>0</th>\n",
       "      <td>Crest</td>\n",
       "      <td>Elevation Elite</td>\n",
       "      <td>2016</td>\n",
       "      <td>15</td>\n",
       "      <td>512</td>\n",
       "      <td>16</td>\n",
       "      <td>1150</td>\n",
       "      <td>2699</td>\n",
       "      <td>Automotive and Transportation</td>\n",
       "      <td>60</td>\n",
       "      <td>63</td>\n",
       "      <td>87.90</td>\n",
       "      <td>751</td>\n",
       "    </tr>\n",
       "    <tr>\n",
       "      <th>1</th>\n",
       "      <td>Crest</td>\n",
       "      <td>Elevation Elite</td>\n",
       "      <td>2016</td>\n",
       "      <td>15</td>\n",
       "      <td>512</td>\n",
       "      <td>16</td>\n",
       "      <td>1150</td>\n",
       "      <td>2719</td>\n",
       "      <td>Healthcare</td>\n",
       "      <td>6</td>\n",
       "      <td>5</td>\n",
       "      <td>95.59</td>\n",
       "      <td>2599</td>\n",
       "    </tr>\n",
       "    <tr>\n",
       "      <th>2</th>\n",
       "      <td>Crest</td>\n",
       "      <td>Elevation Elite</td>\n",
       "      <td>2016</td>\n",
       "      <td>15</td>\n",
       "      <td>512</td>\n",
       "      <td>16</td>\n",
       "      <td>1150</td>\n",
       "      <td>2759</td>\n",
       "      <td>Automotive and Transportation</td>\n",
       "      <td>24</td>\n",
       "      <td>27</td>\n",
       "      <td>95.05</td>\n",
       "      <td>1358</td>\n",
       "    </tr>\n",
       "    <tr>\n",
       "      <th>3</th>\n",
       "      <td>Crest</td>\n",
       "      <td>Elevation Elite</td>\n",
       "      <td>2016</td>\n",
       "      <td>15</td>\n",
       "      <td>512</td>\n",
       "      <td>16</td>\n",
       "      <td>1150</td>\n",
       "      <td>2639</td>\n",
       "      <td>Automotive and Transportation</td>\n",
       "      <td>36</td>\n",
       "      <td>31</td>\n",
       "      <td>94.66</td>\n",
       "      <td>1166</td>\n",
       "    </tr>\n",
       "    <tr>\n",
       "      <th>4</th>\n",
       "      <td>Crest</td>\n",
       "      <td>Elevation Elite</td>\n",
       "      <td>2016</td>\n",
       "      <td>15</td>\n",
       "      <td>512</td>\n",
       "      <td>16</td>\n",
       "      <td>1150</td>\n",
       "      <td>2659</td>\n",
       "      <td>Agriculture and Farming</td>\n",
       "      <td>12</td>\n",
       "      <td>10</td>\n",
       "      <td>89.12</td>\n",
       "      <td>1915</td>\n",
       "    </tr>\n",
       "    <tr>\n",
       "      <th>5</th>\n",
       "      <td>Crest</td>\n",
       "      <td>Elevation Elite</td>\n",
       "      <td>2016</td>\n",
       "      <td>15</td>\n",
       "      <td>512</td>\n",
       "      <td>16</td>\n",
       "      <td>1150</td>\n",
       "      <td>2719</td>\n",
       "      <td>Retail and E-Commerce</td>\n",
       "      <td>6</td>\n",
       "      <td>6</td>\n",
       "      <td>89.44</td>\n",
       "      <td>2376</td>\n",
       "    </tr>\n",
       "    <tr>\n",
       "      <th>6</th>\n",
       "      <td>Crest</td>\n",
       "      <td>Elevation Elite</td>\n",
       "      <td>2016</td>\n",
       "      <td>15</td>\n",
       "      <td>512</td>\n",
       "      <td>16</td>\n",
       "      <td>1150</td>\n",
       "      <td>2619</td>\n",
       "      <td>Consulting</td>\n",
       "      <td>24</td>\n",
       "      <td>26</td>\n",
       "      <td>88.74</td>\n",
       "      <td>1208</td>\n",
       "    </tr>\n",
       "    <tr>\n",
       "      <th>7</th>\n",
       "      <td>Crest</td>\n",
       "      <td>Elevation Elite</td>\n",
       "      <td>2016</td>\n",
       "      <td>15</td>\n",
       "      <td>512</td>\n",
       "      <td>16</td>\n",
       "      <td>1150</td>\n",
       "      <td>2669</td>\n",
       "      <td>Non-Profit Organizations</td>\n",
       "      <td>24</td>\n",
       "      <td>24</td>\n",
       "      <td>80.52</td>\n",
       "      <td>1227</td>\n",
       "    </tr>\n",
       "    <tr>\n",
       "      <th>8</th>\n",
       "      <td>Crest</td>\n",
       "      <td>Elevation Elite</td>\n",
       "      <td>2016</td>\n",
       "      <td>15</td>\n",
       "      <td>512</td>\n",
       "      <td>16</td>\n",
       "      <td>1150</td>\n",
       "      <td>2709</td>\n",
       "      <td>Non-Profit Organizations</td>\n",
       "      <td>36</td>\n",
       "      <td>39</td>\n",
       "      <td>87.97</td>\n",
       "      <td>1002</td>\n",
       "    </tr>\n",
       "    <tr>\n",
       "      <th>9</th>\n",
       "      <td>Crest</td>\n",
       "      <td>Elevation Elite</td>\n",
       "      <td>2016</td>\n",
       "      <td>15</td>\n",
       "      <td>512</td>\n",
       "      <td>16</td>\n",
       "      <td>1150</td>\n",
       "      <td>2719</td>\n",
       "      <td>Retail and E-Commerce</td>\n",
       "      <td>36</td>\n",
       "      <td>37</td>\n",
       "      <td>96.31</td>\n",
       "      <td>1240</td>\n",
       "    </tr>\n",
       "    <tr>\n",
       "      <th>10</th>\n",
       "      <td>Crest</td>\n",
       "      <td>Elevation Elite</td>\n",
       "      <td>2016</td>\n",
       "      <td>15</td>\n",
       "      <td>512</td>\n",
       "      <td>16</td>\n",
       "      <td>1150</td>\n",
       "      <td>2669</td>\n",
       "      <td>Event Management</td>\n",
       "      <td>48</td>\n",
       "      <td>49</td>\n",
       "      <td>90.13</td>\n",
       "      <td>958</td>\n",
       "    </tr>\n",
       "    <tr>\n",
       "      <th>11</th>\n",
       "      <td>Crest</td>\n",
       "      <td>Elevation Elite</td>\n",
       "      <td>2016</td>\n",
       "      <td>15</td>\n",
       "      <td>512</td>\n",
       "      <td>16</td>\n",
       "      <td>1150</td>\n",
       "      <td>2639</td>\n",
       "      <td>Sports and Recreation</td>\n",
       "      <td>12</td>\n",
       "      <td>11</td>\n",
       "      <td>86.03</td>\n",
       "      <td>1825</td>\n",
       "    </tr>\n",
       "    <tr>\n",
       "      <th>12</th>\n",
       "      <td>Crest</td>\n",
       "      <td>Elevation Elite</td>\n",
       "      <td>2016</td>\n",
       "      <td>15</td>\n",
       "      <td>512</td>\n",
       "      <td>16</td>\n",
       "      <td>1150</td>\n",
       "      <td>2739</td>\n",
       "      <td>Energy and Utilities</td>\n",
       "      <td>24</td>\n",
       "      <td>20</td>\n",
       "      <td>86.56</td>\n",
       "      <td>1489</td>\n",
       "    </tr>\n",
       "    <tr>\n",
       "      <th>13</th>\n",
       "      <td>Crest</td>\n",
       "      <td>Elevation Elite</td>\n",
       "      <td>2016</td>\n",
       "      <td>15</td>\n",
       "      <td>512</td>\n",
       "      <td>16</td>\n",
       "      <td>1150</td>\n",
       "      <td>2709</td>\n",
       "      <td>Education</td>\n",
       "      <td>36</td>\n",
       "      <td>28</td>\n",
       "      <td>85.27</td>\n",
       "      <td>1146</td>\n",
       "    </tr>\n",
       "    <tr>\n",
       "      <th>14</th>\n",
       "      <td>Crest</td>\n",
       "      <td>Elevation Elite</td>\n",
       "      <td>2016</td>\n",
       "      <td>15</td>\n",
       "      <td>512</td>\n",
       "      <td>16</td>\n",
       "      <td>1150</td>\n",
       "      <td>2719</td>\n",
       "      <td>Consulting</td>\n",
       "      <td>60</td>\n",
       "      <td>68</td>\n",
       "      <td>84.64</td>\n",
       "      <td>733</td>\n",
       "    </tr>\n",
       "    <tr>\n",
       "      <th>15</th>\n",
       "      <td>Crest</td>\n",
       "      <td>Elevation Elite</td>\n",
       "      <td>2016</td>\n",
       "      <td>15</td>\n",
       "      <td>512</td>\n",
       "      <td>16</td>\n",
       "      <td>1150</td>\n",
       "      <td>2669</td>\n",
       "      <td>Travel and Hospitality</td>\n",
       "      <td>6</td>\n",
       "      <td>6</td>\n",
       "      <td>93.99</td>\n",
       "      <td>2270</td>\n",
       "    </tr>\n",
       "    <tr>\n",
       "      <th>16</th>\n",
       "      <td>Crest</td>\n",
       "      <td>Elevation Elite</td>\n",
       "      <td>2016</td>\n",
       "      <td>15</td>\n",
       "      <td>512</td>\n",
       "      <td>16</td>\n",
       "      <td>1150</td>\n",
       "      <td>2699</td>\n",
       "      <td>Construction and Engineering</td>\n",
       "      <td>48</td>\n",
       "      <td>36</td>\n",
       "      <td>95.62</td>\n",
       "      <td>1074</td>\n",
       "    </tr>\n",
       "    <tr>\n",
       "      <th>17</th>\n",
       "      <td>Crest</td>\n",
       "      <td>Elevation Elite</td>\n",
       "      <td>2016</td>\n",
       "      <td>15</td>\n",
       "      <td>512</td>\n",
       "      <td>16</td>\n",
       "      <td>1150</td>\n",
       "      <td>2659</td>\n",
       "      <td>Real Estate and Property Management</td>\n",
       "      <td>12</td>\n",
       "      <td>12</td>\n",
       "      <td>82.53</td>\n",
       "      <td>1733</td>\n",
       "    </tr>\n",
       "    <tr>\n",
       "      <th>18</th>\n",
       "      <td>Crest</td>\n",
       "      <td>Elevation Elite</td>\n",
       "      <td>2016</td>\n",
       "      <td>15</td>\n",
       "      <td>512</td>\n",
       "      <td>16</td>\n",
       "      <td>1150</td>\n",
       "      <td>2719</td>\n",
       "      <td>Telecommunications</td>\n",
       "      <td>24</td>\n",
       "      <td>19</td>\n",
       "      <td>90.36</td>\n",
       "      <td>1566</td>\n",
       "    </tr>\n",
       "    <tr>\n",
       "      <th>19</th>\n",
       "      <td>Crest</td>\n",
       "      <td>Elevation Elite</td>\n",
       "      <td>2016</td>\n",
       "      <td>15</td>\n",
       "      <td>512</td>\n",
       "      <td>16</td>\n",
       "      <td>1150</td>\n",
       "      <td>2739</td>\n",
       "      <td>Automotive and Transportation</td>\n",
       "      <td>48</td>\n",
       "      <td>42</td>\n",
       "      <td>92.57</td>\n",
       "      <td>975</td>\n",
       "    </tr>\n",
       "  </tbody>\n",
       "</table>\n",
       "</div>"
      ],
      "text/plain": [
       "    Brand            Model  Release year  Screen size (inches)  \\\n",
       "0   Crest  Elevation Elite          2016                    15   \n",
       "1   Crest  Elevation Elite          2016                    15   \n",
       "2   Crest  Elevation Elite          2016                    15   \n",
       "3   Crest  Elevation Elite          2016                    15   \n",
       "4   Crest  Elevation Elite          2016                    15   \n",
       "5   Crest  Elevation Elite          2016                    15   \n",
       "6   Crest  Elevation Elite          2016                    15   \n",
       "7   Crest  Elevation Elite          2016                    15   \n",
       "8   Crest  Elevation Elite          2016                    15   \n",
       "9   Crest  Elevation Elite          2016                    15   \n",
       "10  Crest  Elevation Elite          2016                    15   \n",
       "11  Crest  Elevation Elite          2016                    15   \n",
       "12  Crest  Elevation Elite          2016                    15   \n",
       "13  Crest  Elevation Elite          2016                    15   \n",
       "14  Crest  Elevation Elite          2016                    15   \n",
       "15  Crest  Elevation Elite          2016                    15   \n",
       "16  Crest  Elevation Elite          2016                    15   \n",
       "17  Crest  Elevation Elite          2016                    15   \n",
       "18  Crest  Elevation Elite          2016                    15   \n",
       "19  Crest  Elevation Elite          2016                    15   \n",
       "\n",
       "    Hard drive size (GB)  RAM size (GB)  Weight (grams)  Retail price  \\\n",
       "0                    512             16            1150          2699   \n",
       "1                    512             16            1150          2719   \n",
       "2                    512             16            1150          2759   \n",
       "3                    512             16            1150          2639   \n",
       "4                    512             16            1150          2659   \n",
       "5                    512             16            1150          2719   \n",
       "6                    512             16            1150          2619   \n",
       "7                    512             16            1150          2669   \n",
       "8                    512             16            1150          2709   \n",
       "9                    512             16            1150          2719   \n",
       "10                   512             16            1150          2669   \n",
       "11                   512             16            1150          2639   \n",
       "12                   512             16            1150          2739   \n",
       "13                   512             16            1150          2709   \n",
       "14                   512             16            1150          2719   \n",
       "15                   512             16            1150          2669   \n",
       "16                   512             16            1150          2699   \n",
       "17                   512             16            1150          2659   \n",
       "18                   512             16            1150          2719   \n",
       "19                   512             16            1150          2739   \n",
       "\n",
       "                               Industry  Contract Lease Duration (months)  \\\n",
       "0         Automotive and Transportation                                60   \n",
       "1                            Healthcare                                 6   \n",
       "2         Automotive and Transportation                                24   \n",
       "3         Automotive and Transportation                                36   \n",
       "4               Agriculture and Farming                                12   \n",
       "5                 Retail and E-Commerce                                 6   \n",
       "6                            Consulting                                24   \n",
       "7              Non-Profit Organizations                                24   \n",
       "8              Non-Profit Organizations                                36   \n",
       "9                 Retail and E-Commerce                                36   \n",
       "10                     Event Management                                48   \n",
       "11                Sports and Recreation                                12   \n",
       "12                 Energy and Utilities                                24   \n",
       "13                            Education                                36   \n",
       "14                           Consulting                                60   \n",
       "15               Travel and Hospitality                                 6   \n",
       "16         Construction and Engineering                                48   \n",
       "17  Real Estate and Property Management                                12   \n",
       "18                   Telecommunications                                24   \n",
       "19        Automotive and Transportation                                48   \n",
       "\n",
       "    Actual Lease Duration (months)  Battery capacity (%)  \\\n",
       "0                               63                 87.90   \n",
       "1                                5                 95.59   \n",
       "2                               27                 95.05   \n",
       "3                               31                 94.66   \n",
       "4                               10                 89.12   \n",
       "5                                6                 89.44   \n",
       "6                               26                 88.74   \n",
       "7                               24                 80.52   \n",
       "8                               39                 87.97   \n",
       "9                               37                 96.31   \n",
       "10                              49                 90.13   \n",
       "11                              11                 86.03   \n",
       "12                              20                 86.56   \n",
       "13                              28                 85.27   \n",
       "14                              68                 84.64   \n",
       "15                               6                 93.99   \n",
       "16                              36                 95.62   \n",
       "17                              12                 82.53   \n",
       "18                              19                 90.36   \n",
       "19                              42                 92.57   \n",
       "\n",
       "    Observed resale price  \n",
       "0                     751  \n",
       "1                    2599  \n",
       "2                    1358  \n",
       "3                    1166  \n",
       "4                    1915  \n",
       "5                    2376  \n",
       "6                    1208  \n",
       "7                    1227  \n",
       "8                    1002  \n",
       "9                    1240  \n",
       "10                    958  \n",
       "11                   1825  \n",
       "12                   1489  \n",
       "13                   1146  \n",
       "14                    733  \n",
       "15                   2270  \n",
       "16                   1074  \n",
       "17                   1733  \n",
       "18                   1566  \n",
       "19                    975  "
      ]
     },
     "execution_count": 37,
     "metadata": {},
     "output_type": "execute_result"
    }
   ],
   "source": [
    "data.head(20)"
   ]
  },
  {
   "cell_type": "code",
   "execution_count": 38,
   "metadata": {},
   "outputs": [
    {
     "data": {
      "text/html": [
       "<div>\n",
       "<style scoped>\n",
       "    .dataframe tbody tr th:only-of-type {\n",
       "        vertical-align: middle;\n",
       "    }\n",
       "\n",
       "    .dataframe tbody tr th {\n",
       "        vertical-align: top;\n",
       "    }\n",
       "\n",
       "    .dataframe thead th {\n",
       "        text-align: right;\n",
       "    }\n",
       "</style>\n",
       "<table border=\"1\" class=\"dataframe\">\n",
       "  <thead>\n",
       "    <tr style=\"text-align: right;\">\n",
       "      <th></th>\n",
       "      <th>Release year</th>\n",
       "      <th>Screen size (inches)</th>\n",
       "      <th>Hard drive size (GB)</th>\n",
       "      <th>RAM size (GB)</th>\n",
       "      <th>Weight (grams)</th>\n",
       "      <th>Retail price</th>\n",
       "      <th>Contract Lease Duration (months)</th>\n",
       "      <th>Actual Lease Duration (months)</th>\n",
       "      <th>Battery capacity (%)</th>\n",
       "      <th>Observed resale price</th>\n",
       "    </tr>\n",
       "  </thead>\n",
       "  <tbody>\n",
       "    <tr>\n",
       "      <th>count</th>\n",
       "      <td>5000.000000</td>\n",
       "      <td>5000.000000</td>\n",
       "      <td>5000.000000</td>\n",
       "      <td>5000.000000</td>\n",
       "      <td>5000.000000</td>\n",
       "      <td>5000.000000</td>\n",
       "      <td>5000.000000</td>\n",
       "      <td>5000.000000</td>\n",
       "      <td>5000.000000</td>\n",
       "      <td>5000.000000</td>\n",
       "    </tr>\n",
       "    <tr>\n",
       "      <th>mean</th>\n",
       "      <td>2017.121200</td>\n",
       "      <td>14.344000</td>\n",
       "      <td>466.772000</td>\n",
       "      <td>9.396800</td>\n",
       "      <td>1043.571200</td>\n",
       "      <td>2252.572000</td>\n",
       "      <td>28.069200</td>\n",
       "      <td>27.521800</td>\n",
       "      <td>89.529922</td>\n",
       "      <td>1199.526800</td>\n",
       "    </tr>\n",
       "    <tr>\n",
       "      <th>std</th>\n",
       "      <td>0.956605</td>\n",
       "      <td>2.501223</td>\n",
       "      <td>333.350319</td>\n",
       "      <td>4.999155</td>\n",
       "      <td>198.075846</td>\n",
       "      <td>991.656229</td>\n",
       "      <td>16.039285</td>\n",
       "      <td>16.273122</td>\n",
       "      <td>6.047601</td>\n",
       "      <td>649.126955</td>\n",
       "    </tr>\n",
       "    <tr>\n",
       "      <th>min</th>\n",
       "      <td>2015.000000</td>\n",
       "      <td>11.000000</td>\n",
       "      <td>128.000000</td>\n",
       "      <td>4.000000</td>\n",
       "      <td>692.000000</td>\n",
       "      <td>649.000000</td>\n",
       "      <td>6.000000</td>\n",
       "      <td>3.000000</td>\n",
       "      <td>53.960000</td>\n",
       "      <td>0.000000</td>\n",
       "    </tr>\n",
       "    <tr>\n",
       "      <th>25%</th>\n",
       "      <td>2017.000000</td>\n",
       "      <td>12.000000</td>\n",
       "      <td>256.000000</td>\n",
       "      <td>4.000000</td>\n",
       "      <td>892.000000</td>\n",
       "      <td>1509.000000</td>\n",
       "      <td>12.000000</td>\n",
       "      <td>12.000000</td>\n",
       "      <td>86.267500</td>\n",
       "      <td>725.000000</td>\n",
       "    </tr>\n",
       "    <tr>\n",
       "      <th>50%</th>\n",
       "      <td>2017.000000</td>\n",
       "      <td>14.000000</td>\n",
       "      <td>256.000000</td>\n",
       "      <td>8.000000</td>\n",
       "      <td>1010.000000</td>\n",
       "      <td>2019.000000</td>\n",
       "      <td>24.000000</td>\n",
       "      <td>25.000000</td>\n",
       "      <td>90.760000</td>\n",
       "      <td>1069.000000</td>\n",
       "    </tr>\n",
       "    <tr>\n",
       "      <th>75%</th>\n",
       "      <td>2018.000000</td>\n",
       "      <td>17.000000</td>\n",
       "      <td>512.000000</td>\n",
       "      <td>16.000000</td>\n",
       "      <td>1188.000000</td>\n",
       "      <td>2919.000000</td>\n",
       "      <td>36.000000</td>\n",
       "      <td>38.000000</td>\n",
       "      <td>93.982500</td>\n",
       "      <td>1529.000000</td>\n",
       "    </tr>\n",
       "    <tr>\n",
       "      <th>max</th>\n",
       "      <td>2018.000000</td>\n",
       "      <td>19.000000</td>\n",
       "      <td>1028.000000</td>\n",
       "      <td>16.000000</td>\n",
       "      <td>1530.000000</td>\n",
       "      <td>5719.000000</td>\n",
       "      <td>60.000000</td>\n",
       "      <td>75.000000</td>\n",
       "      <td>99.470000</td>\n",
       "      <td>4550.000000</td>\n",
       "    </tr>\n",
       "  </tbody>\n",
       "</table>\n",
       "</div>"
      ],
      "text/plain": [
       "       Release year  Screen size (inches)  Hard drive size (GB)  \\\n",
       "count   5000.000000           5000.000000           5000.000000   \n",
       "mean    2017.121200             14.344000            466.772000   \n",
       "std        0.956605              2.501223            333.350319   \n",
       "min     2015.000000             11.000000            128.000000   \n",
       "25%     2017.000000             12.000000            256.000000   \n",
       "50%     2017.000000             14.000000            256.000000   \n",
       "75%     2018.000000             17.000000            512.000000   \n",
       "max     2018.000000             19.000000           1028.000000   \n",
       "\n",
       "       RAM size (GB)  Weight (grams)  Retail price  \\\n",
       "count    5000.000000     5000.000000   5000.000000   \n",
       "mean        9.396800     1043.571200   2252.572000   \n",
       "std         4.999155      198.075846    991.656229   \n",
       "min         4.000000      692.000000    649.000000   \n",
       "25%         4.000000      892.000000   1509.000000   \n",
       "50%         8.000000     1010.000000   2019.000000   \n",
       "75%        16.000000     1188.000000   2919.000000   \n",
       "max        16.000000     1530.000000   5719.000000   \n",
       "\n",
       "       Contract Lease Duration (months)  Actual Lease Duration (months)  \\\n",
       "count                       5000.000000                     5000.000000   \n",
       "mean                          28.069200                       27.521800   \n",
       "std                           16.039285                       16.273122   \n",
       "min                            6.000000                        3.000000   \n",
       "25%                           12.000000                       12.000000   \n",
       "50%                           24.000000                       25.000000   \n",
       "75%                           36.000000                       38.000000   \n",
       "max                           60.000000                       75.000000   \n",
       "\n",
       "       Battery capacity (%)  Observed resale price  \n",
       "count           5000.000000            5000.000000  \n",
       "mean              89.529922            1199.526800  \n",
       "std                6.047601             649.126955  \n",
       "min               53.960000               0.000000  \n",
       "25%               86.267500             725.000000  \n",
       "50%               90.760000            1069.000000  \n",
       "75%               93.982500            1529.000000  \n",
       "max               99.470000            4550.000000  "
      ]
     },
     "execution_count": 38,
     "metadata": {},
     "output_type": "execute_result"
    }
   ],
   "source": [
    "data.describe()"
   ]
  },
  {
   "cell_type": "code",
   "execution_count": 39,
   "metadata": {},
   "outputs": [
    {
     "data": {
      "text/plain": [
       "Index(['Brand', 'Model', 'Release year', 'Screen size (inches)',\n",
       "       'Hard drive size (GB)', 'RAM size (GB)', 'Weight (grams)',\n",
       "       'Retail price', 'Industry', 'Contract Lease Duration (months)',\n",
       "       'Actual Lease Duration (months)', 'Battery capacity (%)',\n",
       "       'Observed resale price'],\n",
       "      dtype='object')"
      ]
     },
     "execution_count": 39,
     "metadata": {},
     "output_type": "execute_result"
    }
   ],
   "source": [
    "data.columns"
   ]
  },
  {
   "cell_type": "code",
   "execution_count": 41,
   "metadata": {},
   "outputs": [
    {
     "data": {
      "text/plain": [
       "466.772"
      ]
     },
     "execution_count": 41,
     "metadata": {},
     "output_type": "execute_result"
    }
   ],
   "source": [
    "np.mean(data['Hard drive size (GB)']) # Calculate column mean"
   ]
  },
  {
   "cell_type": "code",
   "execution_count": 42,
   "metadata": {},
   "outputs": [
    {
     "name": "stdout",
     "output_type": "stream",
     "text": [
      "invalid action\n"
     ]
    }
   ],
   "source": [
    "# Handling errors and exceptions\n",
    "try:\n",
    "    10 / 0\n",
    "except:\n",
    "    print('invalid action')"
   ]
  },
  {
   "cell_type": "markdown",
   "metadata": {},
   "source": [
    "### Exercise: Loop that calculates the mean for each column"
   ]
  },
  {
   "cell_type": "code",
   "execution_count": 62,
   "metadata": {},
   "outputs": [
    {
     "name": "stdout",
     "output_type": "stream",
     "text": [
      "[2017.1212, 14.344, 466.772, 9.3968, 1043.5712, 2252.572, 28.0692, 27.5218, 89.529922, 1199.5268]\n"
     ]
    }
   ],
   "source": [
    "# Solution 1\n",
    "means = []\n",
    "for column in data.columns:\n",
    "    try:\n",
    "        means += [np.mean(data[column])]\n",
    "    except:\n",
    "        pass\n",
    "print(means)"
   ]
  },
  {
   "cell_type": "code",
   "execution_count": 59,
   "metadata": {},
   "outputs": [],
   "source": [
    "# Solution 2\n",
    "means = []\n",
    "columns = data.select_dtypes(include=['number']).columns\n",
    "for column in columns:\n",
    "    means += [np.mean(data[column])]"
   ]
  },
  {
   "cell_type": "code",
   "execution_count": 60,
   "metadata": {},
   "outputs": [
    {
     "data": {
      "text/plain": [
       "{'Release year': 2017.1212,\n",
       " 'Screen size (inches)': 14.344,\n",
       " 'Hard drive size (GB)': 466.772,\n",
       " 'RAM size (GB)': 9.3968,\n",
       " 'Weight (grams)': 1043.5712,\n",
       " 'Retail price': 2252.572,\n",
       " 'Contract Lease Duration (months)': 28.0692,\n",
       " 'Actual Lease Duration (months)': 27.5218,\n",
       " 'Battery capacity (%)': 89.529922,\n",
       " 'Observed resale price': 1199.5268}"
      ]
     },
     "execution_count": 60,
     "metadata": {},
     "output_type": "execute_result"
    }
   ],
   "source": [
    "dict(zip(columns, means))"
   ]
  }
 ],
 "metadata": {
  "kernelspec": {
   "display_name": ".tsf-env",
   "language": "python",
   "name": "python3"
  },
  "language_info": {
   "codemirror_mode": {
    "name": "ipython",
    "version": 3
   },
   "file_extension": ".py",
   "mimetype": "text/x-python",
   "name": "python",
   "nbconvert_exporter": "python",
   "pygments_lexer": "ipython3",
   "version": "3.9.14"
  }
 },
 "nbformat": 4,
 "nbformat_minor": 2
}
