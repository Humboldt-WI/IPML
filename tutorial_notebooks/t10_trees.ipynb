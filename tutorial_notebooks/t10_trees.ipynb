{
 "cells": [
  {
   "cell_type": "markdown",
   "id": "e41bf37e-8adb-41d7-91cc-61213279a722",
   "metadata": {},
   "source": [
    "[![Open In Colab](https://colab.research.google.com/assets/colab-badge.svg)](https://colab.research.google.com/github/Humboldt-WI/IPML/blob/master/tutorial_notebooks/t10_trees.ipynb)"
   ]
  },
  {
   "cell_type": "markdown",
   "id": "8231ed1f",
   "metadata": {},
   "source": [
    "# Decision Trees"
   ]
  },
  {
   "cell_type": "markdown",
   "id": "01b84c2a-eee2-4a1a-81e4-6aeaa1694717",
   "metadata": {},
   "source": [
    "## Preliminaries\n",
    "\n",
    "### Standard imports"
   ]
  },
  {
   "cell_type": "code",
   "execution_count": 8,
   "id": "8f317adf-575a-4a92-af29-f5c7ffb557a6",
   "metadata": {},
   "outputs": [],
   "source": [
    "import numpy as np\n",
    "import pandas as pd\n",
    "import matplotlib.pyplot as plt"
   ]
  },
  {
   "cell_type": "markdown",
   "id": "4a14747c-6bb3-487e-8d36-9a7ec082c3ee",
   "metadata": {},
   "source": [
    "### Loading our two standard data sets for regression and classification \n",
    "All below codes are copied from earlier notebooks, which provide details. "
   ]
  },
  {
   "cell_type": "markdown",
   "id": "a67c5d69-73fd-4b6d-acfd-80377f493bf1",
   "metadata": {},
   "source": [
    "#### California Housing"
   ]
  },
  {
   "cell_type": "code",
   "execution_count": 9,
   "id": "89722769-f14d-438a-9472-29540d977068",
   "metadata": {},
   "outputs": [],
   "source": [
    "# Retrieve data from sklearn library as Pandas dataframe\n",
    "from sklearn.datasets import fetch_california_housing\n",
    "california_housing = fetch_california_housing(as_frame=True)  \n",
    "# Create default variables names X, y for further analysis\n",
    "# We use the suffix _reg to highlight that this data facilitates regression\n",
    "X_reg = california_housing.data\n",
    "y_ref = california_housing.target"
   ]
  },
  {
   "cell_type": "markdown",
   "id": "de04c432-f6f0-46aa-9303-44801005102f",
   "metadata": {},
   "source": [
    "#### Home Equity Mortgage Data\n",
    "The HMEQ data set facilitates classification. Given that this data set exhibits some missing values and categorical features, we need to perform a bit of data preparation before we can create our standard data structures `X, y` for further analysis"
   ]
  },
  {
   "cell_type": "code",
   "execution_count": 10,
   "id": "97e203af-2702-4f17-9892-2ac60d31fff5",
   "metadata": {},
   "outputs": [],
   "source": [
    "# Download the data from the web\n",
    "url = 'https://raw.githubusercontent.com/Humboldt-WI/bads/master/data/hmeq.csv'\n",
    "df = pd.read_csv(url)  # standard pandas function to load tabular data in CSV format\n",
    "\n",
    "# Missing value handling\n",
    "for col in df.columns:  # loop through all the columns (i.e., features)\n",
    "    if df[col].dtype == 'O':  # decide on the imputation strategy based on the data type\n",
    "        df[col].fillna(df[col].mode()[0], inplace=True)  # mode replacement for categories\n",
    "    else:\n",
    "        df[col].fillna(df[col].median(), inplace=True)  # mean replacement for all other features \n",
    "\n",
    "# Dummy coding of the (two) categorical variables\n",
    "df = pd.get_dummies(data=df, drop_first=True)\n",
    "\n",
    "# Create default variables names X, y for further analysis\n",
    "# We use the suffix _cls to highlight that this data facilitates regression\n",
    "X_cls = df.copy()\n",
    "y_cls = X_cls.pop('BAD')"
   ]
  },
  {
   "cell_type": "markdown",
   "id": "189afe3d-c19d-4467-a1cd-398bd6109e33",
   "metadata": {},
   "source": [
    "#### Eyeballing the data"
   ]
  },
  {
   "cell_type": "code",
   "execution_count": null,
   "id": "eee9d571-565e-46b6-8f51-4e9722df6e89",
   "metadata": {},
   "outputs": [],
   "source": []
  },
  {
   "cell_type": "markdown",
   "id": "64577de6-d38d-4c76-a40a-75a46f44fbf1",
   "metadata": {},
   "source": [
    "## Training Tree-Based Models using Sci-kit Learn"
   ]
  },
  {
   "cell_type": "code",
   "execution_count": null,
   "id": "b00c833a",
   "metadata": {},
   "outputs": [],
   "source": []
  },
  {
   "cell_type": "markdown",
   "id": "6ce4b287-6272-4936-b391-4a923aa0dcd2",
   "metadata": {},
   "source": [
    "## Visualizing Decisions Trees in 2D"
   ]
  },
  {
   "cell_type": "code",
   "execution_count": null,
   "id": "5315253d-665a-4431-8f9e-3a8bcf58e632",
   "metadata": {},
   "outputs": [],
   "source": []
  }
 ],
 "metadata": {
  "kernelspec": {
   "display_name": "Python 3 (ipykernel)",
   "language": "python",
   "name": "python3"
  },
  "language_info": {
   "codemirror_mode": {
    "name": "ipython",
    "version": 3
   },
   "file_extension": ".py",
   "mimetype": "text/x-python",
   "name": "python",
   "nbconvert_exporter": "python",
   "pygments_lexer": "ipython3",
   "version": "3.9.14"
  }
 },
 "nbformat": 4,
 "nbformat_minor": 5
}
