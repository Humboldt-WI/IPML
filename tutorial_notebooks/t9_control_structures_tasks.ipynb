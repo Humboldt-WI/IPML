{
 "cells": [
  {
   "cell_type": "markdown",
   "metadata": {},
   "source": [
    "[![Open In Colab](https://colab.research.google.com/assets/colab-badge.svg)](https://colab.research.google.com/github/Humboldt-WI/IPML/blob/master/tutorial_notebooks/t9_control_structures_tasks.ipynb)"
   ]
  },
  {
   "cell_type": "markdown",
   "metadata": {},
   "source": [
    "# Control Structures - Exercises"
   ]
  },
  {
   "cell_type": "markdown",
   "metadata": {},
   "source": [
    "## Exercises on conditions (if-statements)\n",
    "\n",
    "**Greater Number**: Write an if-statement that compares two numbers and prints which one is greater."
   ]
  },
  {
   "cell_type": "code",
   "execution_count": null,
   "metadata": {},
   "outputs": [],
   "source": []
  },
  {
   "cell_type": "markdown",
   "metadata": {},
   "source": [
    "**Temperature Advice**\n",
    "Write a Python program that asks for the current temperature and prints out advice on whether to take a jacket, wear shorts, or bring an umbrella, based on the temperature and if it's raining or not."
   ]
  },
  {
   "cell_type": "code",
   "execution_count": null,
   "metadata": {},
   "outputs": [],
   "source": []
  },
  {
   "cell_type": "markdown",
   "metadata": {},
   "source": [
    "**Grade Classifier**\n",
    "Create a program that asks for a numerical grade from 0 to 100 and then prints out the corresponding letter grade (A, B, C, D, F)."
   ]
  },
  {
   "cell_type": "code",
   "execution_count": null,
   "metadata": {},
   "outputs": [],
   "source": []
  },
  {
   "cell_type": "markdown",
   "metadata": {},
   "source": [
    "**Odd or Even Sorter**\n",
    "Ask the user to input a list of numbers, separated by commas. Your program should print two lists: one with all the odd numbers and one with all the even numbers."
   ]
  },
  {
   "cell_type": "code",
   "execution_count": null,
   "metadata": {},
   "outputs": [],
   "source": []
  },
  {
   "cell_type": "markdown",
   "metadata": {},
   "source": [
    "**Password Validator**\n",
    "Write a script that validates whether a user's input is a strong password. A strong password must be at least 8 characters long, contain both uppercase and lowercase letters, and have at least one number."
   ]
  },
  {
   "cell_type": "code",
   "execution_count": null,
   "metadata": {},
   "outputs": [],
   "source": []
  },
  {
   "cell_type": "markdown",
   "metadata": {},
   "source": [
    "**Leap Year Checker**\n",
    "Write a program that asks for a year and then determines whether that year is a leap year. Use the rules that a leap year is divisible by 4, not divisible by 100 unless also divisible by 400."
   ]
  },
  {
   "cell_type": "code",
   "execution_count": null,
   "metadata": {},
   "outputs": [],
   "source": []
  },
  {
   "cell_type": "markdown",
   "metadata": {},
   "source": [
    "## Exercises on Loops"
   ]
  },
  {
   "cell_type": "markdown",
   "metadata": {},
   "source": [
    "**Sum of List**: Use a loop to calculate the sum of all numbers in a list `[1, 2, 3, 4, 5]`."
   ]
  },
  {
   "cell_type": "code",
   "execution_count": null,
   "metadata": {},
   "outputs": [],
   "source": []
  },
  {
   "cell_type": "markdown",
   "metadata": {},
   "source": [
    "**Find the Odd One**: Using a loop, find the first odd number in the list `[2, 4, 6, 7, 10]`."
   ]
  },
  {
   "cell_type": "code",
   "execution_count": null,
   "metadata": {},
   "outputs": [],
   "source": []
  },
  {
   "cell_type": "markdown",
   "metadata": {},
   "source": [
    "**Countdown**: Write a loop that prints a countdown from 10 to 1."
   ]
  },
  {
   "cell_type": "code",
   "execution_count": null,
   "metadata": {
    "tags": []
   },
   "outputs": [],
   "source": []
  },
  {
   "cell_type": "markdown",
   "metadata": {},
   "source": [
    "**Factorial Calculator**\n",
    "Write a Python program that calculates the factorial of a given number provided by the user.\n",
    "\n",
    "Hint: Recall that you can use the command `ìnput('your text')` to ask a user for some input. Here is a simple example:\n",
    "\n",
    "```\n",
    "# Prompt the user for their name\n",
    "name = input(\"Please enter your name: \")\n",
    "\n",
    "# Print a greeting\n",
    "print(f\"Hello, {name} !\")\n",
    "``` "
   ]
  },
  {
   "cell_type": "code",
   "execution_count": null,
   "metadata": {},
   "outputs": [],
   "source": []
  },
  {
   "cell_type": "markdown",
   "metadata": {},
   "source": [
    "**Prime Number Finder**\n",
    "Create a script that asks the user for a number and then prints out a list of all prime numbers up to that number.\n"
   ]
  },
  {
   "cell_type": "code",
   "execution_count": null,
   "metadata": {},
   "outputs": [],
   "source": []
  },
  {
   "cell_type": "markdown",
   "metadata": {},
   "source": [
    "**Fibonacci Sequence**\n",
    "Ask the user for the number of terms they want in the [Fibonacci sequence](https://en.wikipedia.org/wiki/Fibonacci_sequence) and then print out the sequence up to that number of terms."
   ]
  },
  {
   "cell_type": "code",
   "execution_count": null,
   "metadata": {},
   "outputs": [],
   "source": []
  },
  {
   "cell_type": "markdown",
   "metadata": {},
   "source": [
    "**Multiplication Table Printer**\n",
    "Ask the user for the number and write a program that prints out the multiplication table for number 1 up to the number the user has entered. Your script should print an error message if the users enters a number less than 1."
   ]
  },
  {
   "cell_type": "code",
   "execution_count": null,
   "metadata": {},
   "outputs": [],
   "source": []
  },
  {
   "cell_type": "markdown",
   "metadata": {},
   "source": [
    "**Text Repeater**\n",
    "Write a program that asks the user for a phrase and a number. The program should print out the phrase the number of times indicated by the number."
   ]
  },
  {
   "cell_type": "code",
   "execution_count": null,
   "metadata": {},
   "outputs": [],
   "source": []
  },
  {
   "cell_type": "markdown",
   "metadata": {},
   "source": [
    "**Palindrome Checker**\n",
    "Ask the user for an input and write a program that checks if the entered word or phrase is a palindrome (the same forwards and backwards, ignoring spaces, punctuation, and capitalization)."
   ]
  },
  {
   "cell_type": "code",
   "execution_count": null,
   "metadata": {},
   "outputs": [],
   "source": []
  },
  {
   "cell_type": "markdown",
   "metadata": {},
   "source": [
    "**Guess the Number**\n",
    "Write a number guessing game. The computer should choose a random number between 1 and 100, and the player tries to guess the number in as few attempts as possible."
   ]
  },
  {
   "cell_type": "code",
   "execution_count": null,
   "metadata": {},
   "outputs": [],
   "source": []
  },
  {
   "cell_type": "markdown",
   "metadata": {},
   "source": [
    "## Exercises on List Comprehensions\n",
    "\n",
    "**Lengths of Words**: Given a list of words, `['apple', 'banana', 'cherry', 'grape']`, use a list comprehension to create a new list containing the length of each word.\n"
   ]
  },
  {
   "cell_type": "code",
   "execution_count": null,
   "metadata": {},
   "outputs": [],
   "source": []
  },
  {
   "cell_type": "markdown",
   "metadata": {},
   "source": [
    "**Squares of Numbers**: Create a list comprehension that takes a list of numbers, `[1, 2, 3, 4, 5]`, and produces a list of the squares of these numbers."
   ]
  },
  {
   "cell_type": "code",
   "execution_count": null,
   "metadata": {},
   "outputs": [],
   "source": []
  },
  {
   "cell_type": "markdown",
   "metadata": {},
   "source": [
    "**Even Numbers**: From the list `[1, 2, 3, 4, 5, 6, 7, 8, 9, 10]`, use a list comprehension to generate a list of even numbers."
   ]
  },
  {
   "cell_type": "code",
   "execution_count": null,
   "metadata": {},
   "outputs": [],
   "source": []
  },
  {
   "cell_type": "markdown",
   "metadata": {},
   "source": [
    "**Uppercase Conversion**: Given a list `animals = ['dog', 'cat', 'bird']`, use a list comprehension to create a list where each animal name is converted to uppercase. Print the result."
   ]
  },
  {
   "cell_type": "code",
   "execution_count": null,
   "metadata": {},
   "outputs": [],
   "source": []
  },
  {
   "cell_type": "markdown",
   "metadata": {},
   "source": [
    "**Filtering Vowels**: Create a list comprehension that takes the string `'list comprehensions are cool!'` and makes a list of all the vowels in it."
   ]
  },
  {
   "cell_type": "code",
   "execution_count": null,
   "metadata": {},
   "outputs": [],
   "source": []
  },
  {
   "cell_type": "markdown",
   "metadata": {},
   "source": [
    "## Exercises on Functions\n",
    "\n",
    "**Simple Addition Function**: Write a function `add_two_numbers` that takes two parameters and returns their sum."
   ]
  },
  {
   "cell_type": "code",
   "execution_count": null,
   "metadata": {},
   "outputs": [],
   "source": []
  },
  {
   "cell_type": "markdown",
   "metadata": {},
   "source": [
    "**Maximum of Three**: Create a function `max_of_three` that takes three numbers as arguments and returns the largest number."
   ]
  },
  {
   "cell_type": "code",
   "execution_count": null,
   "metadata": {},
   "outputs": [],
   "source": []
  },
  {
   "cell_type": "markdown",
   "metadata": {},
   "source": [
    "**Count Vowels**: Write a function `count_vowels` that takes a string and returns the number of vowels in the string."
   ]
  },
  {
   "cell_type": "code",
   "execution_count": null,
   "metadata": {},
   "outputs": [],
   "source": []
  },
  {
   "cell_type": "markdown",
   "metadata": {},
   "source": [
    "**Reverse String**: Write a function `reverse_string` that reverses the given string without using built-in reverse functions.\n"
   ]
  },
  {
   "cell_type": "code",
   "execution_count": null,
   "metadata": {},
   "outputs": [],
   "source": []
  },
  {
   "cell_type": "markdown",
   "metadata": {},
   "source": [
    "## Exercises on Object-Oriented Programming\n",
    "\n",
    "**Student Class**: Define a class `Student` with attributes `name`, `age`, and `field`. Include a method `display_info` that prints the student's details."
   ]
  },
  {
   "cell_type": "markdown",
   "metadata": {},
   "source": [
    "**Adding a Constructor**: Modify the `Student` class by adding a constructor (`__init__` method) to initialize the `name`, `age`, and `field` attributes."
   ]
  },
  {
   "cell_type": "markdown",
   "metadata": {},
   "source": [
    "**Grade List**: Add an attribute `grades` (a list) to the `Student` class to store a list of grades. Write a method `add_grade` to add a grade to this list."
   ]
  },
  {
   "cell_type": "markdown",
   "metadata": {},
   "source": [
    "**Average Grade**: Implement a method `average_grade` in the `Student` class that calculates and returns the average of the grades."
   ]
  },
  {
   "cell_type": "code",
   "execution_count": null,
   "metadata": {},
   "outputs": [],
   "source": []
  },
  {
   "cell_type": "markdown",
   "metadata": {},
   "source": [
    "**Creating and Using Your Own Module**:\n",
    "\n",
    "   - Create a new Python file named `my_module.py`.\n",
    "  \n",
    "   - Inside `my_module.py`, define a function called `greet_user` which takes a parameter `name` and prints `\"Hello, [name]! Welcome to Python modules.\"`.\n",
    "  \n",
    "   - Save `my_module.py` in the same directory as your Jupyter notebook.\n",
    "  \n",
    "   - In this Jupyter notebook, import the `greet_user` function from `my_module`.\n",
    "  \n",
    "   - Call `greet_user` with your name as an argument and observe the output.\n"
   ]
  },
  {
   "cell_type": "code",
   "execution_count": null,
   "metadata": {},
   "outputs": [],
   "source": []
  }
 ],
 "metadata": {
  "kernelspec": {
   "display_name": "Python 3 (ipykernel)",
   "language": "python",
   "name": "python3"
  },
  "language_info": {
   "codemirror_mode": {
    "name": "ipython",
    "version": 3
   },
   "file_extension": ".py",
   "mimetype": "text/x-python",
   "name": "python",
   "nbconvert_exporter": "python",
   "pygments_lexer": "ipython3",
   "version": "3.9.14"
  }
 },
 "nbformat": 4,
 "nbformat_minor": 4
}
