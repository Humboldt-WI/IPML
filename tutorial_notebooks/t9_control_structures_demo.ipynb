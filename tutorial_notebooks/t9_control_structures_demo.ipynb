{
 "cells": [
  {
   "cell_type": "markdown",
   "metadata": {},
   "source": [
    "[![Open In Colab](https://colab.research.google.com/assets/colab-badge.svg)](https://colab.research.google.com/github/Humboldt-WI/IPML/blob/master/tutorial_notebooks/t9_control_structures_demo.ipynb)"
   ]
  },
  {
   "cell_type": "markdown",
   "metadata": {},
   "source": [
    "# Control Structures - Demos"
   ]
  },
  {
   "cell_type": "markdown",
   "metadata": {},
   "source": [
    "## List Comprehensions\n",
    "\n",
    "If you want to apply the same function to every item in a list, you can use a list comprehension. This is a simple version of what is called a loop, which we will learn more about later. This takes on the following format:\n",
    "\n",
    "> [_action_ `for` _dummy_item_name_ `in` _list_ ]\n",
    "\n",
    "Python interprets this as the following:\n",
    "\n",
    "1.   Take the first item in the list and temporarily label it `dummy_item_name`\n",
    "2.   Perform _action_ on the item labelled as `dummy_item_name`\n",
    "3.   Put result in a new list\n",
    "4.   Repeat steps 1-3 for the next list item until the list is complete\n",
    "\n",
    "By doing this, we quickly create a new list based on our last list.\n"
   ]
  },
  {
   "cell_type": "code",
   "execution_count": 42,
   "metadata": {},
   "outputs": [
    {
     "data": {
      "text/plain": [
       "[1, 3, 4, 6]"
      ]
     },
     "execution_count": 42,
     "metadata": {},
     "output_type": "execute_result"
    }
   ],
   "source": [
    "k = [2, 4, 5, 7]\n",
    "\n",
    "[x - 1 for x in k] # standard list comprehension"
   ]
  },
  {
   "cell_type": "code",
   "execution_count": 40,
   "metadata": {},
   "outputs": [
    {
     "data": {
      "text/plain": [
       "[4, 5, 7]"
      ]
     },
     "execution_count": 40,
     "metadata": {},
     "output_type": "execute_result"
    }
   ],
   "source": [
    "[x for x in k if x > 3] # using if statement"
   ]
  },
  {
   "cell_type": "code",
   "execution_count": 41,
   "metadata": {},
   "outputs": [
    {
     "data": {
      "text/plain": [
       "[4, 16, 25, 7]"
      ]
     },
     "execution_count": 41,
     "metadata": {},
     "output_type": "execute_result"
    }
   ],
   "source": [
    "[i ** 2 if i <= 5 else i for i in k] # using if and else"
   ]
  },
  {
   "cell_type": "markdown",
   "metadata": {},
   "source": [
    "Other tricks with lists can be found here: https://docs.python.org/3/library/stdtypes.html#sequence-types-list-tuple-range ."
   ]
  },
  {
   "cell_type": "markdown",
   "metadata": {},
   "source": [
    "## Functions\n",
    "\n",
    "There are a large number of functions available in Python which perform specific tasks. We already saw one function, `print( )`. If a function for your purpose doesn't exist, you can always create your own very simply.\n",
    "\n",
    "Inside the parentheses of functions are **arguments**. These give more details on what actions the function should take. Arguments are separated by commas."
   ]
  },
  {
   "cell_type": "markdown",
   "metadata": {},
   "source": [
    "### Pre-Built Functions\n",
    "\n",
    "Python comes with some functions already built in for very basic uses. Most of the time, you will have to import other libraries to do pretty much anything with the program. Here are some examples of built-in functions in Python:"
   ]
  },
  {
   "cell_type": "code",
   "execution_count": null,
   "metadata": {},
   "outputs": [
    {
     "data": {
      "text/plain": [
       "3.1"
      ]
     },
     "metadata": {},
     "output_type": "display_data"
    }
   ],
   "source": [
    "round(3.14, 1) # round takes 2 arguments, the first argument is the number to round and the second is the number of desired decimal places"
   ]
  },
  {
   "cell_type": "markdown",
   "metadata": {},
   "source": [
    "Some functions require you to specify the argument name as well. For example, `print( )` allows us to add a separator between items to print. You must specify this argument by typing `sep=` and identifying the character to print between items."
   ]
  },
  {
   "cell_type": "code",
   "execution_count": null,
   "metadata": {},
   "outputs": [
    {
     "name": "stdout",
     "output_type": "stream",
     "text": [
      "please...bring...snacks\n"
     ]
    }
   ],
   "source": [
    "print('please', 'bring', 'snacks', sep='...')"
   ]
  },
  {
   "cell_type": "markdown",
   "metadata": {},
   "source": [
    "A full list of Python's built in functions are here: https://docs.python.org/3/library/functions.html .\n",
    "\n",
    "Some of the most important functions here are ones that force variables to become different types such as set( ), str( ) and range( ) among others. You wil learn about these types in the next topic of the tutorial.\n",
    "\n",
    "As mentioned, in most cases, you will be loading a **library** of new functions to add to these built-in functions. We will be looking at libraries soon."
   ]
  },
  {
   "cell_type": "markdown",
   "metadata": {},
   "source": [
    "### Creating Functions\n",
    "\n",
    "It is very easy to create your own new function in Python. The following form is necessary:\n",
    "\n",
    "\n",
    "```\n",
    "def function_name (arg1, arg2 = default_value, arg3 ...):\n",
    "    ...arg1...arg2...arg3...\n",
    "    return val;\n",
    "```\n",
    "\n",
    "Let's look at some examples.\n",
    "\n",
    "\n",
    "\n"
   ]
  },
  {
   "cell_type": "code",
   "execution_count": 43,
   "metadata": {},
   "outputs": [],
   "source": [
    "def hello_world():\n",
    "    print('Hello world!')"
   ]
  },
  {
   "cell_type": "code",
   "execution_count": 44,
   "metadata": {},
   "outputs": [
    {
     "name": "stdout",
     "output_type": "stream",
     "text": [
      "Hello world!\n"
     ]
    }
   ],
   "source": [
    "hello_world()"
   ]
  },
  {
   "cell_type": "markdown",
   "metadata": {},
   "source": [
    "### Default arguments"
   ]
  },
  {
   "cell_type": "code",
   "execution_count": 51,
   "metadata": {},
   "outputs": [],
   "source": [
    "def print_student_id(student=\"Jane Doe\", id='00000'):\n",
    "    print(\"Student: \" + student + \", ID: \" + id)"
   ]
  },
  {
   "cell_type": "code",
   "execution_count": 52,
   "metadata": {},
   "outputs": [
    {
     "name": "stdout",
     "output_type": "stream",
     "text": [
      "Student: Jane Doe, ID: 00000\n"
     ]
    }
   ],
   "source": [
    "print_student_id()"
   ]
  },
  {
   "cell_type": "code",
   "execution_count": 56,
   "metadata": {},
   "outputs": [
    {
     "name": "stdout",
     "output_type": "stream",
     "text": [
      "Student: Alex Schmidt, ID: 562511\n"
     ]
    }
   ],
   "source": [
    "print_student_id('Alex Schmidt', '562511')"
   ]
  },
  {
   "cell_type": "markdown",
   "metadata": {},
   "source": [
    "### The return statements terminates function execution"
   ]
  },
  {
   "cell_type": "code",
   "execution_count": 54,
   "metadata": {},
   "outputs": [
    {
     "data": {
      "text/plain": [
       "9"
      ]
     },
     "execution_count": 54,
     "metadata": {},
     "output_type": "execute_result"
    }
   ],
   "source": [
    "def square(x):\n",
    "    return x * x\n",
    "    print('This will not be printed')\n",
    "    \n",
    "square(3)"
   ]
  },
  {
   "cell_type": "markdown",
   "metadata": {},
   "source": [
    "### Lambda Functions\n",
    "\n",
    "We can also create short functions using the following format:\n",
    "```\n",
    "function_name = lambda arg1, arg2: ...arg1...arg2\n",
    "```\n",
    "Let's create a similar example to before using this format.\n"
   ]
  },
  {
   "cell_type": "code",
   "execution_count": null,
   "metadata": {},
   "outputs": [],
   "source": [
    "square_lambda = lambda x: x * x"
   ]
  },
  {
   "cell_type": "code",
   "execution_count": null,
   "metadata": {},
   "outputs": [
    {
     "data": {
      "text/plain": [
       "9"
      ]
     },
     "metadata": {},
     "output_type": "display_data"
    }
   ],
   "source": [
    "square_lambda(3)"
   ]
  },
  {
   "cell_type": "code",
   "execution_count": null,
   "metadata": {},
   "outputs": [
    {
     "data": {
      "text/plain": [
       "218.33333333333334"
      ]
     },
     "metadata": {},
     "output_type": "display_data"
    }
   ],
   "source": [
    "# Check your understanding: create a function which changes degrees in Fahrenheit to Celsius (first subtract 32, then multiply by 5/9)\n",
    "\n",
    "def f_to_c(temp_f):\n",
    "  return (temp_f - 32) * (5/9)\n",
    "\n",
    "# Many American recipes ask to set the oven to 425F, what is that in C? (~ 218 C)\n",
    "\n",
    "f_to_c(425)"
   ]
  },
  {
   "cell_type": "code",
   "execution_count": null,
   "metadata": {},
   "outputs": [
    {
     "data": {
      "text/plain": [
       "218.33333333333334"
      ]
     },
     "metadata": {},
     "output_type": "display_data"
    }
   ],
   "source": [
    "# Check your understanding: create the same function as a lambda function and test the value 425 F again\n",
    "\n",
    "f_to_c_lambda = lambda temp_f: (temp_f - 32) * (5/9)\n",
    "\n",
    "f_to_c_lambda(425)"
   ]
  },
  {
   "cell_type": "markdown",
   "metadata": {},
   "source": [
    "## Object-Oriented Programming (Classes, Methods, Attributes)\n",
    "\n",
    "Python is an object-oriented language. Every element of code that you encounter is called an 'object'. Each 'object' has a 'class' or 'type'. The class or type of an object dictates how it can interact with other objects.\n",
    "\n",
    "In Object Oriented Programming (OOP), there is generally a difference between class and type. However, since Python 3, these ideas have been merged. Traditionally, types are built-in with the original program. Primitive types are the most basic objects built in the program, like string or integer. Classes are created by users for different functions. So you can create a class, but you cannot create a type. Each time you create an object, it is called an **instance** of that class/type.\n",
    "\n",
    " **However, as mentioned, now the idea of class and type have been merged in Python 3**.\n",
    "\n",
    "Every data type/class has its own methods and attributes attached to it. It is very useful to get to know these as they encompass common tasks which may otherwise require you to import functions which are not actually necessary.\n",
    "\n",
    "**Methods** are functions specific to the class/type of your object. **They will always use your object as its first argument, since this is done automatically by calling a method, you do not have to write this explicitly**. They can sometimes take additional arguments as well. Check the documentation of the object to see what other method arguments exist.\n",
    "\n",
    "The format to call one of your object's methods is as follows:\n",
    "\n",
    "\n",
    "```\n",
    "object_name.method(possible_arguments_if_any)\n",
    "```\n",
    "\n",
    "**Attributes** are properties of your object which can be displayed. The format to call them is similar but note the absence of parentheses:\n",
    "\n",
    "```\n",
    "object_name.attribute\n",
    "```\n",
    "Attributes are more common in more advanced data types. In the final section for today, we will see some with NumPy arrays.\n",
    "\n",
    "Let's see an example of a class that we create ourselves:"
   ]
  },
  {
   "cell_type": "code",
   "execution_count": 58,
   "metadata": {},
   "outputs": [],
   "source": [
    "class person(): # let's create a new class called person, typically upon creating a new instance of this class, you'd assign it to a variable name as we've been doing above\n",
    "    '''Class person for human interaction'''\n",
    "    def __init__(self, name, age=None): # this says that upon creating a instance of an object of class person, we need to give it a name and an age (otherwise age will be None)\n",
    "        '''\n",
    "        We can write help text like this starting and ending \n",
    "        with three quotations.\n",
    "        '''\n",
    "        self.name = name # here's how we assign attributes, now if we call the variable which represents our person and add .name, we will see this person's name\n",
    "        self.age = age # same thing, this time for age\n",
    "        \n",
    "    def happy_birthday(self): # here is a method for our person object, when we call variable_name.happy_birthday(), the following will be run\n",
    "        '''Wish a happy birtday'''\n",
    "        print(f'Happy Birthday, dear {self.name}.') # we get a little birthday wish!\n",
    "        if self.age is not None: # and they go up in age\n",
    "            self.age += 1\n",
    "            print(f'{self.age} years, eh?') # and they get that loving reminder of how many times they've successfully made it around the sun\n",
    "    \n",
    "    def greeting(self): # note in all of these methods, self was the first argument showing that for every method, by default, the first argument is the object itself (hidden by Python)\n",
    "        '''Greet the person'''\n",
    "        print(f'Hi {self.name}! How are you doing?') # here we can create a method where we are greeting our person object"
   ]
  },
  {
   "cell_type": "code",
   "execution_count": 59,
   "metadata": {},
   "outputs": [
    {
     "data": {
      "text/plain": [
       "<__main__.person at 0x12b8fe5e0>"
      ]
     },
     "execution_count": 59,
     "metadata": {},
     "output_type": "execute_result"
    }
   ],
   "source": [
    "dracula = person('Vlad Tepes', age=588)\n",
    "\n",
    "dracula #__main__ means that this is defined in the main module (defined here)"
   ]
  },
  {
   "cell_type": "code",
   "execution_count": 60,
   "metadata": {},
   "outputs": [
    {
     "data": {
      "text/plain": [
       "'Vlad Tepes'"
      ]
     },
     "execution_count": 60,
     "metadata": {},
     "output_type": "execute_result"
    }
   ],
   "source": [
    "dracula.name # check attribute name, remember attributes use no parentheses, it is a characteristic of our instance/object"
   ]
  },
  {
   "cell_type": "code",
   "execution_count": 61,
   "metadata": {},
   "outputs": [
    {
     "data": {
      "text/plain": [
       "588"
      ]
     },
     "execution_count": 61,
     "metadata": {},
     "output_type": "execute_result"
    }
   ],
   "source": [
    "dracula.age # check attribute age"
   ]
  },
  {
   "cell_type": "code",
   "execution_count": 62,
   "metadata": {},
   "outputs": [
    {
     "name": "stdout",
     "output_type": "stream",
     "text": [
      "Happy Birthday, dear Vlad Tepes.\n",
      "589 years, eh?\n"
     ]
    }
   ],
   "source": [
    "dracula.happy_birthday() # use the method happy_birthday(), now the happy_birthday() function will be applied to our instance of person (dracula)"
   ]
  },
  {
   "cell_type": "code",
   "execution_count": 63,
   "metadata": {},
   "outputs": [
    {
     "data": {
      "text/plain": [
       "589"
      ]
     },
     "execution_count": 63,
     "metadata": {},
     "output_type": "execute_result"
    }
   ],
   "source": [
    "dracula.age # check to see if the method worked (he got 1 year older)"
   ]
  },
  {
   "cell_type": "code",
   "execution_count": 64,
   "metadata": {},
   "outputs": [],
   "source": [
    "dracula.age = 588 # we can change an attribute like so"
   ]
  },
  {
   "cell_type": "code",
   "execution_count": 65,
   "metadata": {},
   "outputs": [
    {
     "name": "stdout",
     "output_type": "stream",
     "text": [
      "Hi Vlad Tepes! How are you doing?\n"
     ]
    }
   ],
   "source": [
    "# Check your understanding: Greet Dracula using our previously created method. Although the argument method can be left blank, what is included in the arguments of this method behind the scenes?\n",
    "\n",
    "dracula.greeting()"
   ]
  },
  {
   "cell_type": "code",
   "execution_count": 66,
   "metadata": {},
   "outputs": [],
   "source": [
    "# Dracula prefers the name Count Dracula, can you change his name to a string with this text?\n",
    "\n",
    "dracula.name = 'Count Dracula'"
   ]
  },
  {
   "cell_type": "markdown",
   "metadata": {},
   "source": [
    "## If-Statements and Loops\n",
    "\n",
    "If-Statements evaluate a condition and proceed in a certain fashion based on the returned value.\n",
    "\n",
    "Loops perform an action recursively until a condition is met or the action has been performed on all applicable items."
   ]
  },
  {
   "cell_type": "markdown",
   "metadata": {},
   "source": [
    "### If-Statements\n",
    "\n",
    "If-Statements in Python take the form:\n",
    "\n",
    "\n",
    "```\n",
    "if condition == True:\n",
    " action\n",
    "else:\n",
    " action\n",
    " ```\n",
    "\n",
    "If there are multiple conditions, you can extend this with elif (as many times as needed):\n",
    "```\n",
    "if condition_1 == True:\n",
    " action\n",
    "elif condition_2 == True:\n",
    "  action\n",
    "elif condition_3 == True:\n",
    "  action\n",
    "...\n",
    "else:\n",
    " action\n",
    " ```\n",
    "Let's observe some simple if-statements."
   ]
  },
  {
   "cell_type": "code",
   "execution_count": null,
   "metadata": {},
   "outputs": [
    {
     "name": "stdout",
     "output_type": "stream",
     "text": [
      "no logic :(\n"
     ]
    }
   ],
   "source": [
    "if 1 > 2 :\n",
    "  print('logic!')\n",
    "else:\n",
    "  print('no logic :(')"
   ]
  },
  {
   "cell_type": "code",
   "execution_count": null,
   "metadata": {},
   "outputs": [
    {
     "name": "stdout",
     "output_type": "stream",
     "text": [
      "logic!\n"
     ]
    }
   ],
   "source": [
    "if 2 > 1 :\n",
    "  print('logic!')\n",
    "else:\n",
    "  print('no logic :(')"
   ]
  },
  {
   "cell_type": "code",
   "execution_count": 67,
   "metadata": {},
   "outputs": [
    {
     "data": {
      "text/plain": [
       "['area 51', 'bermuda triangle', 'el dorado', 'atlantis']"
      ]
     },
     "execution_count": 67,
     "metadata": {},
     "output_type": "execute_result"
    }
   ],
   "source": [
    "places_to_visit = ['area 51', 'bermuda triangle', 'el dorado']\n",
    "\n",
    "if 'atlantis' not in places_to_visit: # for lists, we can use 'in' and 'not in' to return a Boolean\n",
    "  places_to_visit.append('atlantis')\n",
    "else:\n",
    "  places_to_visit\n",
    "\n",
    "places_to_visit"
   ]
  },
  {
   "cell_type": "code",
   "execution_count": null,
   "metadata": {},
   "outputs": [
    {
     "name": "stdout",
     "output_type": "stream",
     "text": [
      "Oops, looks like I put 100 in my bag. I'll just take one.\n"
     ]
    },
    {
     "data": {
      "text/plain": [
       "1"
      ]
     },
     "metadata": {},
     "output_type": "display_data"
    }
   ],
   "source": [
    "toothbrushes_packed = 100 # adjust this to be 0, 1 and above 1 to demonstrate different results\n",
    "\n",
    "if toothbrushes_packed == 0:\n",
    "  toothbrushes_packed += 1 # this format adds 1 to the variable on the left, it is another useful trick for loops\n",
    "  print('Thanks for reminding me, I just packed', toothbrushes_packed, '!')\n",
    "elif toothbrushes_packed == 1:\n",
    "  print('All set! I already packed', toothbrushes_packed, '!')\n",
    "else:\n",
    "  print('Oops, looks like I put', toothbrushes_packed, 'in my bag. I\\'ll just take one.') # we need to put \\ in front of ' so that Python treats ' as a character and not the end of the string\n",
    "  toothbrushes_packed=1 # reset the variable back to 1\n",
    "\n",
    "toothbrushes_packed"
   ]
  },
  {
   "cell_type": "markdown",
   "metadata": {},
   "source": [
    "### Loops\n",
    "\n",
    "Loops iterate through a sequence of items (such as a list) and perform an action on each item.\n",
    "\n",
    "For-loops are the most common type of loop that you will encounter. They take the following form:\n",
    "\n",
    "```\n",
    "for dummy_item_name in sequence:\n",
    "  ... dummy_item_name ...\n",
    "```\n",
    "\n",
    "To process this, Python will take each item in sequence one by one and temporarily assign it to the variable name `dummy_item_name`. The action on the next line will then take that item by using dummy_item_name execute it accordingly.\n",
    "\n",
    "1.   Take the first item in the sequence and temporarily label it `dummy_item_name`\n",
    "2.   Perform _action_ on the item with it labelled as `dummy_item_name`\n",
    "3.   Repeat steps 1-2 for the next item until the sequence is complete\n",
    "\n",
    "We have already seen this type of structure in list comprehensions which are like a condensed for-loop to create new lists from items of another list."
   ]
  },
  {
   "cell_type": "code",
   "execution_count": null,
   "metadata": {},
   "outputs": [
    {
     "data": {
      "text/plain": [
       "[7, 16, 9, 8]"
      ]
     },
     "metadata": {},
     "output_type": "display_data"
    }
   ],
   "source": [
    "place_name_length=[] # initializing an empty list before the loop allows us to simply add items to it within the loop\n",
    "\n",
    "for place in places_to_visit: # for each item in places_to_visit, assign the temporary label 'place'\n",
    "  place_name_length.append(len(place)) # apply this action to each item 'place' one by one\n",
    "\n",
    "place_name_length"
   ]
  },
  {
   "cell_type": "code",
   "execution_count": null,
   "metadata": {},
   "outputs": [
    {
     "name": "stdout",
     "output_type": "stream",
     "text": [
      "My number 1 place to visit is area 51\n",
      "My number 2 place to visit is bermuda triangle\n",
      "My number 3 place to visit is el dorado\n",
      "My number 4 place to visit is atlantis\n"
     ]
    }
   ],
   "source": [
    "for index, place in enumerate(places_to_visit): # enumerate() gives an index number for each item in the list\n",
    "  print('My number', index+1, 'place to visit is', place) # since indexing starts at 0, it is more natural when counting for us to add 1"
   ]
  },
  {
   "cell_type": "code",
   "execution_count": null,
   "metadata": {},
   "outputs": [
    {
     "name": "stdout",
     "output_type": "stream",
     "text": [
      "4\n",
      "16\n",
      "36\n",
      "64\n",
      "100\n"
     ]
    }
   ],
   "source": [
    "num_list = [10, 2, 6, 4, 8]\n",
    "\n",
    "for num in sorted(num_list):\n",
    "  print(num**2)"
   ]
  },
  {
   "cell_type": "code",
   "execution_count": null,
   "metadata": {},
   "outputs": [
    {
     "name": "stdout",
     "output_type": "stream",
     "text": [
      "sweet, more apples!\n"
     ]
    }
   ],
   "source": [
    "# Check your understanding:\n",
    "\n",
    "# create the two variables: apples with the value 10 and oranges as 2. Create an if-statement which returns 'sweet, more apples!' if apples is larger than oranges, otherwise 'darn, more oranges'\n",
    "\n",
    "apples = 10\n",
    "oranges = 2\n",
    "\n",
    "if apples > oranges:\n",
    "  print('sweet, more apples!')\n",
    "else:\n",
    "  print('darn, more oranges!')\n",
    "\n",
    "# change oranges to be 100, and check that the output changes"
   ]
  },
  {
   "cell_type": "code",
   "execution_count": null,
   "metadata": {},
   "outputs": [
    {
     "name": "stdout",
     "output_type": "stream",
     "text": [
      "So... True is the same as 1 in Python\n"
     ]
    }
   ],
   "source": [
    "# Check your understanding:\n",
    "\n",
    "# Use an if-statement to check if the Boolean value of True is equal to 1, if it is, print 'So... True is the same as 1 in Python', otherwise it prints 'Wait, what?'\n",
    "\n",
    "if True == 1:\n",
    "  print('So... True is the same as 1 in Python')\n",
    "else:\n",
    "  print('Wait, what?')"
   ]
  },
  {
   "cell_type": "code",
   "execution_count": null,
   "metadata": {},
   "outputs": [
    {
     "data": {
      "text/plain": [
       "[400, 4, 484, 0.04000000000000001]"
      ]
     },
     "metadata": {},
     "output_type": "display_data"
    }
   ],
   "source": [
    "# Check your understanding:\n",
    "\n",
    "# Create a for-loop that returns a list of squares (call this some_nums_sq) for the list some_nums = [20, 2, 22, 0.2]\n",
    "\n",
    "some_nums = [20, 2, 22, 0.2]\n",
    "\n",
    "some_nums_sq = []\n",
    "for n in some_nums:\n",
    "    some_nums_sq.append(n ** 2)\n",
    "\n",
    "some_nums_sq"
   ]
  },
  {
   "cell_type": "markdown",
   "metadata": {},
   "source": [
    "## Libraries\n",
    "\n",
    "Python has a plethora of libraries which serve an even more enormous amount of purposes. In this course, you will encounter a lot of NumPy, pandas, matplotlib, seaborn and scikit-learn. Many others will likely come of use which you may have to dig into yourself for your own purposes.\n",
    "\n",
    "To begin using a library, we must install it. This can be done in several ways:\n",
    "\n",
    "1.   Install manually via Anaconda Netvigator (Environments)\n",
    "2.   Install via Anaconda terminal (advised at set-up stage) - recommended\n",
    "3.   Install in Jupyter notebook (`!{sys.executable} -m pip install numpy` OR `!conda install --yes --prefix {sys.prefix} numpy`)\n",
    "4.   Install in Jupyter notebook via `!pip install` - suitable when using Colab but not recommended when running a notebook on your local machine\n",
    "\n",
    "After a successful installation, you must import it. Often, we will use `as` afterwards to give it an alias. There are common aliases for many libraries. For example, NumPy is always given np and Pandas, pd.\n",
    "\n",
    "If you want to use a specific function from this library, first type the library name (or alias) and then `.`, then the function name. You can also rename the function for simpler use later."
   ]
  },
  {
   "cell_type": "code",
   "execution_count": 1,
   "metadata": {},
   "outputs": [],
   "source": [
    "# math functionality\n",
    "import numpy as np\n",
    "# data frame capabilities similar to data.table in R\n",
    "import pandas as pd\n",
    "# plotting functionality\n",
    "import matplotlib.pyplot as plt\n",
    "# statistical data visualization\n",
    "import seaborn as sns"
   ]
  },
  {
   "cell_type": "code",
   "execution_count": 11,
   "metadata": {},
   "outputs": [
    {
     "data": {
      "text/plain": [
       "4.0"
      ]
     },
     "execution_count": 11,
     "metadata": {},
     "output_type": "execute_result"
    }
   ],
   "source": [
    "np.mean([2, 3, 7])"
   ]
  },
  {
   "cell_type": "code",
   "execution_count": 12,
   "metadata": {},
   "outputs": [
    {
     "data": {
      "text/plain": [
       "4.0"
      ]
     },
     "execution_count": 12,
     "metadata": {},
     "output_type": "execute_result"
    }
   ],
   "source": [
    "average = np.mean # this now assigns the variable average to act like np.mean()\n",
    "\n",
    "average([2, 3, 7])"
   ]
  },
  {
   "cell_type": "markdown",
   "metadata": {},
   "source": [
    "If you only want to import a specific function from a library instead of the whole thing, you can use the following format:\n",
    "\n",
    "> from _library_ import _function_\n",
    "\n",
    "This saves disc space and reduces the chance that you'll have multiple functions of the same name imported. \n",
    "\n",
    "You also do not have to write the library name in front of the function when you do this."
   ]
  },
  {
   "cell_type": "code",
   "execution_count": 14,
   "metadata": {},
   "outputs": [
    {
     "data": {
      "text/plain": [
       "2.160246899469287"
      ]
     },
     "execution_count": 14,
     "metadata": {},
     "output_type": "execute_result"
    }
   ],
   "source": [
    "from numpy import std\n",
    "\n",
    "std([2, 3, 7]) # computes the standard deviation"
   ]
  }
 ],
 "metadata": {
  "kernelspec": {
   "display_name": ".tsf-env",
   "language": "python",
   "name": "python3"
  },
  "language_info": {
   "codemirror_mode": {
    "name": "ipython",
    "version": 3
   },
   "file_extension": ".py",
   "mimetype": "text/x-python",
   "name": "python",
   "nbconvert_exporter": "python",
   "pygments_lexer": "ipython3",
   "version": "3.9.14"
  }
 },
 "nbformat": 4,
 "nbformat_minor": 2
}
