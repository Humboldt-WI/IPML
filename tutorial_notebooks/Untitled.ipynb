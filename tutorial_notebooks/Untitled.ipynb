{
 "cells": [
  {
   "cell_type": "code",
   "execution_count": 7,
   "id": "1b1e7222-7461-4afd-b190-0d44a499892b",
   "metadata": {},
   "outputs": [
    {
     "name": "stdout",
     "output_type": "stream",
     "text": [
      "apple\n",
      "banana\n",
      "cherry\n"
     ]
    }
   ],
   "source": [
    "fruits = ['apple', 'banana', 'cherry']\n",
    "[print(f) for f in fruits];"
   ]
  },
  {
   "cell_type": "code",
   "execution_count": 7,
   "id": "f1680e19-30bb-4e5f-a432-eabd6707d9a1",
   "metadata": {},
   "outputs": [
    {
     "name": "stdout",
     "output_type": "stream",
     "text": [
      "GPA is 1.7\n"
     ]
    }
   ],
   "source": [
    "class Student:\n",
    "\tdef __init__(self, student_id):\n",
    "\t\tself.student_id = student_id\n",
    "\t\tself.gpa = None\n",
    "    \n",
    "\tdef calc_gpa(self, grades):\n",
    "\t\tself.gpa = sum(grades)/len(grades) \t\n",
    "\n",
    "example_student = Student(123)\n",
    "\n",
    "example_student.calc_gpa([1.3, 2.0, 1.7])\n",
    "print(f'GPA is {example_student.gpa:.1f}')\n",
    "\n"
   ]
  },
  {
   "cell_type": "code",
   "execution_count": 15,
   "id": "63546858-1b70-42c8-bbc6-bf113f638ea2",
   "metadata": {},
   "outputs": [
    {
     "data": {
      "text/plain": [
       "'Peter Parker'"
      ]
     },
     "execution_count": 15,
     "metadata": {},
     "output_type": "execute_result"
    }
   ],
   "source": [
    "class Person:\n",
    "    def __init__(self, name):\n",
    "        self.name = name\n",
    "        \n",
    "class Student(Person):\n",
    "    def __init__(self, name, student_id):\n",
    "        super().__init__(name)\n",
    "        self.id = student_id\n",
    "    \n",
    "    \t\n",
    "example_student = Student('Peter Parker', 123)\n",
    "example_student.name\n",
    "\n",
    "\n"
   ]
  },
  {
   "cell_type": "code",
   "execution_count": 5,
   "id": "72ca089a-5b3d-4677-8eb4-316a5abe30af",
   "metadata": {},
   "outputs": [
    {
     "name": "stdout",
     "output_type": "stream",
     "text": [
      "apple\n",
      "banana\n",
      "cherry\n"
     ]
    }
   ],
   "source": [
    "for fruit in fruits:\n",
    "    print(fruit)\n"
   ]
  },
  {
   "cell_type": "code",
   "execution_count": 10,
   "id": "518fe029-d770-4bf3-bc16-edb048626b5c",
   "metadata": {},
   "outputs": [
    {
     "data": {
      "text/plain": [
       "[0, 4, 16, 36, 64]"
      ]
     },
     "execution_count": 10,
     "metadata": {},
     "output_type": "execute_result"
    }
   ],
   "source": [
    "s = [i**2 for i in range(10) if i % 2 == 0]\n",
    "s\n"
   ]
  },
  {
   "cell_type": "code",
   "execution_count": 22,
   "id": "27b8f3d0-7bc1-48ca-a145-706977a76015",
   "metadata": {},
   "outputs": [
    {
     "data": {
      "text/plain": [
       "array([0, 6, 5, 0, 9, 2, 2, 1, 3, 1, 3, 8, 4, 9, 4, 2, 7, 8, 8, 8, 0, 5,\n",
       "       2, 2, 2, 8, 7, 2, 4, 7, 1, 6, 4, 9, 7, 2, 8, 7, 2, 5, 7, 2, 2, 1,\n",
       "       0, 4, 0, 5, 4, 1, 3, 0, 1, 4, 0, 7, 2, 9, 1, 6, 5, 9, 6, 8, 4, 2,\n",
       "       1, 8, 2, 7, 5, 2, 4, 7, 4, 8, 9, 2, 5, 5, 5, 0, 3, 5, 9, 2, 6, 7,\n",
       "       9, 1, 6, 3, 4, 0, 7, 0, 3, 4, 6, 4], dtype=int64)"
      ]
     },
     "execution_count": 22,
     "metadata": {},
     "output_type": "execute_result"
    }
   ],
   "source": [
    "import numpy as np\n",
    "\n",
    "n=100\n",
    "\n",
    "rng = np.random.default_rng(seed=123)\n",
    "rng.integers(low=0, high=n/10, size=n)"
   ]
  },
  {
   "cell_type": "code",
   "execution_count": 24,
   "id": "72ddc9ad-bf5c-4b2e-8fc3-4608d1d46e10",
   "metadata": {},
   "outputs": [
    {
     "name": "stdout",
     "output_type": "stream",
     "text": [
      "n is none\n"
     ]
    },
    {
     "data": {
      "text/plain": [
       "<AxesSubplot:>"
      ]
     },
     "execution_count": 24,
     "metadata": {},
     "output_type": "execute_result"
    },
    {
     "data": {
      "image/png": "[encoded data removed]",
      "text/plain": [
       "<Figure size 640x480 with 1 Axes>"
      ]
     },
     "metadata": {},
     "output_type": "display_data"
    }
   ],
   "source": [
    "import pandas as pd\n",
    "import matplotlib.pyplot as plt\n",
    "\n",
    "def my_m(seed=123, n=None):\n",
    "    \n",
    "    if n is None:\n",
    "        print(\"n is none\")\n",
    "        \n",
    "        \n",
    "my_m()        \n",
    "\n",
    "df = pd.DataFrame()\n",
    "\n",
    "\n",
    "\n",
    "df[\"tree\"] = rng.random(size=100)\n",
    "df[\"logit\"] = rng.random(size=100) + 0.1\n",
    "\n",
    "\n",
    "\n",
    "\n",
    "df.boxplot()\n"
   ]
  },
  {
   "cell_type": "code",
   "execution_count": 25,
   "id": "9ed4c1c0-1d42-40ef-a484-5664ef14cff8",
   "metadata": {},
   "outputs": [
    {
     "data": {
      "text/plain": [
       "\u001b[1;31mInit signature:\u001b[0m \u001b[0mtype\u001b[0m\u001b[1;33m(\u001b[0m\u001b[0mself\u001b[0m\u001b[1;33m,\u001b[0m \u001b[1;33m/\u001b[0m\u001b[1;33m,\u001b[0m \u001b[1;33m*\u001b[0m\u001b[0margs\u001b[0m\u001b[1;33m,\u001b[0m \u001b[1;33m**\u001b[0m\u001b[0mkwargs\u001b[0m\u001b[1;33m)\u001b[0m\u001b[1;33m\u001b[0m\u001b[1;33m\u001b[0m\u001b[0m\n",
       "\u001b[1;31mDocstring:\u001b[0m     \n",
       "type(object) -> the object's type\n",
       "type(name, bases, dict, **kwds) -> a new type\n",
       "\u001b[1;31mType:\u001b[0m           type\n",
       "\u001b[1;31mSubclasses:\u001b[0m     ABCMeta, EnumMeta, NamedTupleMeta, _TypedDictMeta, _ABC, MetaHasDescriptors, StyleMeta, PyCStructType, UnionType, PyCPointerType, ...\n"
      ]
     },
     "metadata": {},
     "output_type": "display_data"
    }
   ],
   "source": [
    "?type"
   ]
  },
  {
   "cell_type": "code",
   "execution_count": 26,
   "id": "a859e62b-4061-406b-81ee-102a2493b498",
   "metadata": {},
   "outputs": [
    {
     "data": {
      "text/plain": [
       "True"
      ]
     },
     "execution_count": 26,
     "metadata": {},
     "output_type": "execute_result"
    }
   ],
   "source": [
    "some_number = 88\n",
    "isinstance(some_number, int)\n"
   ]
  },
  {
   "cell_type": "code",
   "execution_count": 42,
   "id": "0e62d447-226b-4a32-ab3b-950df393aade",
   "metadata": {},
   "outputs": [
    {
     "name": "stdout",
     "output_type": "stream",
     "text": [
      "[5] [8, 3]\n"
     ]
    }
   ],
   "source": [
    "a = [5]\n",
    "b = [3]\n",
    "\n",
    "def add(a, b):\n",
    "    a = [8]\n",
    "    result = a + b\n",
    "    return result\n",
    "\n",
    "result = add(a, b)\n",
    "print(a, result)\n",
    "\n"
   ]
  },
  {
   "cell_type": "code",
   "execution_count": 51,
   "id": "8eb434ed-f7d6-421f-9013-61c1f539050c",
   "metadata": {},
   "outputs": [
    {
     "name": "stdout",
     "output_type": "stream",
     "text": [
      "Hi Bob. So you study ECON\n",
      "Hi Susan. So you study IS\n",
      "Hi Lucie. So you study MATH\n"
     ]
    }
   ],
   "source": [
    "\n",
    "def hi_student(name, subject='IS'):\n",
    "    print(f'Hi {name}. So you study {subject}')\n",
    "\n",
    "hi_student('Bob', 'ECON')\n",
    "hi_student('Susan')\n",
    "hi_student(subject='MATH', name='Lucie')\n",
    "\n",
    "\n",
    "\n"
   ]
  },
  {
   "cell_type": "code",
   "execution_count": 55,
   "id": "e0e14ce2-9436-4632-9cf6-24e56d1add40",
   "metadata": {},
   "outputs": [
    {
     "name": "stdout",
     "output_type": "stream",
     "text": [
      "(30, 6.0, 3840)\n",
      "30\n",
      "6.0\n",
      "3840\n"
     ]
    }
   ],
   "source": [
    "def calculate_statistics(numbers):\n",
    "    \"\"\"\n",
    "    This method takes a list of numbers and returns their sum, average, and product.\n",
    "    \"\"\"\n",
    "    sum_numbers = sum(numbers)\n",
    "    average = sum_numbers / len(numbers)\n",
    "    product = 1\n",
    "    for num in numbers:\n",
    "        product *= num\n",
    "    \n",
    "    return sum_numbers, average, product  # Returning multiple results\n",
    "\n",
    "# Example usage:\n",
    "numbers_list = [2, 4, 6, 8, 10]\n",
    "total, avg, prod = calculate_statistics(numbers_list)\n",
    "out_tuple = calculate_statistics(numbers_list)\n",
    "\n",
    "print(out_tuple)\n",
    "# The results would be:\n",
    "print(total)  # Output: 30\n",
    "print(avg)    # Output: 6.0\n",
    "print(prod)   # Output: 3840\n"
   ]
  },
  {
   "cell_type": "code",
   "execution_count": 56,
   "id": "ce44081e-449a-4051-a4f1-a3093cf4efcf",
   "metadata": {},
   "outputs": [
    {
     "name": "stdout",
     "output_type": "stream",
     "text": [
      "Positional arguments: (1, 2, 3)\n",
      "Keyword arguments: {'name': 'Alice', 'age': 25}\n"
     ]
    }
   ],
   "source": [
    "def custom_method(*args, **kwargs):\n",
    "    print(\"Positional arguments:\", args)\n",
    "    print(\"Keyword arguments:\", kwargs)\n",
    "\n",
    "custom_method(1, 2, 3, name='Alice', age=25)\n"
   ]
  },
  {
   "cell_type": "code",
   "execution_count": 54,
   "id": "5a95e324-3d0b-4080-aa26-ecbd8dbf1c36",
   "metadata": {},
   "outputs": [
    {
     "data": {
      "text/plain": [
       "\u001b[1;31mSignature:\u001b[0m \u001b[0mcalculate_statistics\u001b[0m\u001b[1;33m(\u001b[0m\u001b[0mnumbers\u001b[0m\u001b[1;33m)\u001b[0m\u001b[1;33m\u001b[0m\u001b[1;33m\u001b[0m\u001b[0m\n",
       "\u001b[1;31mDocstring:\u001b[0m This method takes a list of numbers and returns their sum, average, and product.\n",
       "\u001b[1;31mFile:\u001b[0m      c:\\users\\stefa\\appdata\\local\\temp\\ipykernel_25344\\571902872.py\n",
       "\u001b[1;31mType:\u001b[0m      function\n"
      ]
     },
     "metadata": {},
     "output_type": "display_data"
    }
   ],
   "source": [
    "?calculate_statistics"
   ]
  }
 ],
 "metadata": {
  "kernelspec": {
   "display_name": "Python 3 (ipykernel)",
   "language": "python",
   "name": "python3"
  },
  "language_info": {
   "codemirror_mode": {
    "name": "ipython",
    "version": 3
   },
   "file_extension": ".py",
   "mimetype": "text/x-python",
   "name": "python",
   "nbconvert_exporter": "python",
   "pygments_lexer": "ipython3",
   "version": "3.9.13"
  }
 },
 "nbformat": 4,
 "nbformat_minor": 5
}
