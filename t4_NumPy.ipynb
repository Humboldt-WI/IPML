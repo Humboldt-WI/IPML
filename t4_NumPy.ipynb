{
 "cells": [
  {
   "cell_type": "markdown",
   "id": "e404168a-d96c-476d-b929-3f5b19eb82c5",
   "metadata": {},
   "source": [
    "[![Open In Colab](https://colab.research.google.com/assets/colab-badge.svg)](https://colab.research.google.com/github/Humboldt-WI/IPML/blob/master/tutorial/t4_NumPy.ipynb) "
   ]
  },
  {
   "cell_type": "markdown",
   "id": "05b8adcf-67b6-4fb9-ba18-7ffb5fa4001f",
   "metadata": {},
   "source": [
    "# A Python Powerhouse: the NumPy Library\n",
    "<hr>\n",
    "*NumPy is an open source project that enables numerical computing with Python. It was created in 2005 building on the early work of the Numeric and Numarray libraries. NumPy will always be 100% open source software and free for all to use. It is released under the liberal terms of the modified BSD license.* \n",
    "Source: [NumPy.oeg](https://numpy.org/about/)\n",
    "\n",
    "the NumPy library is a cornerstone of the Python ecosystem; especially for data science, machine learning, and AI. A key element is a data structure called [`nd_array`](https://numpy.org/doc/stable/reference/generated/numpy.ndarray.html), which facilitates working with multi-dimensional data. Vectors, matrices, and higher order tensors (think of those as 'tables' with more than two dimensions) appear extensively in machine learning and can efficiently be stored in the NumPy nd_array. Beyond the data structure to store multi-dimensional data, the library also provides a rich set of functionality to process and manipulate the corresponding data, all of which adds to the great popularity of the NumPy library. Many other well-known and extremely popular Python libraries build on NumPy. \n",
    "\n",
    "The focus in this week is threefold:\n",
    "- How to use the NumPy nd_array for storing, accessing, and indexing data\n",
    "- How to use NumPy for calculating descriptive statistics and explore data\n",
    "- How to create standard charts for data visualization and understanding "
   ]
  },
  {
   "cell_type": "markdown",
   "id": "e9f33718-ed66-44c8-8c59-e9a46391e63d",
   "metadata": {},
   "source": [
    "## Preliminaries: Loading data\n",
    "\n",
    "# ToDo\n",
    "We need multiple data sets for this notebook, one to demonstrate things, another with which students can reproduce the demos (i.e., doing the same things on a different data set), and perhaps a third data set for having students work on tasks that go a bit beyond just appying shown concepts to a new data set\n",
    "\n",
    "- One data set will be available from previous demos, i.e., the resale price prediction data set\n",
    "- Another standard regression data set, which this notebook could briefly introduce is the California housing data set\n",
    "- A third data set we can use is the synthetic data set resulting from the `make_regression()` function of the sci-kit learn library\n",
    "\n",
    "\n",
    "## The NumPy nd_array\n",
    "# ToDo\n",
    "Some basic and boring demos are available here: https://github.com/Humboldt-WI/bads/blob/master/demo_notebooks/1_nb_python_intro.ipynb\n",
    "\n",
    "Idea is that we created some synthetic data above and can now play with it. Focus should be on showcasing indexing. Flow can be such that we demostrate a concept using one data set (e.g., the regression data) and then ask students to repeat a steo using a different data set (e.g., classification), and finally ask them to perform a task that requires a bit more than only repeating something that we already demostrated before.\n",
    "\n",
    "## Descriptive statistics\n",
    "\n",
    "# ToDo\n",
    "\n",
    "Idea is similar as before. We can demonstrate the calculation of, e.g., a mean and then ask students to compute the standard deviation for the same variable. Slighly more complex examples and tasks target bi-variate statistics like covariance and correlation\n",
    "\n",
    "## Data Visualization\n",
    "\n",
    "\n",
    "## Your turn\n",
    "Here is another task to test your newly acquired Python skills and familiarity with the NumPy library. \n",
    "- NumPy supports various well-known statistical distributions such as the *Normal distribution*. Run a web search to find out how you can use NumPy to draw random numbers with standard normal distribution.\n",
    "- Create an nd_array with 10 randomly generated numbers, following the standard normal distribution.\n",
    "- What do you think will be the value of the sample average? Use NumPy to compute the average. Does the resulting value matches your expectation?\n",
    "- Repeat the above exercise. This time, however, increase the size of the random number sample to 100, then to 1000, and then to 10000. \n",
    "<br>Compute the sample mean for each size and store the resulting values. \n",
    "- Create a bar-plot that shows, for each sample size the computed value of the sample mean "
   ]
  },
  {
   "cell_type": "code",
   "execution_count": null,
   "id": "0207ff24-e294-444e-8caf-e43174e17a3e",
   "metadata": {},
   "outputs": [],
   "source": []
  }
 ],
 "metadata": {
  "kernelspec": {
   "display_name": "Python 3 (ipykernel)",
   "language": "python",
   "name": "python3"
  },
  "language_info": {
   "codemirror_mode": {
    "name": "ipython",
    "version": 3
   },
   "file_extension": ".py",
   "mimetype": "text/x-python",
   "name": "python",
   "nbconvert_exporter": "python",
   "pygments_lexer": "ipython3",
   "version": "3.9.13"
  }
 },
 "nbformat": 4,
 "nbformat_minor": 5
}
