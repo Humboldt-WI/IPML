{
 "cells": [
  {
   "cell_type": "markdown",
   "id": "84bf70f4-915d-4738-b78c-700b27b06f38",
   "metadata": {},
   "source": [
    "[![Open In Colab](https://colab.research.google.com/assets/colab-badge.svg)](https://colab.research.google.com/github/Humboldt-WI/IPML/blob/master/tutorial/t3_playground.ipynb) "
   ]
  },
  {
   "cell_type": "markdown",
   "id": "ce46c39d-cfa8-4bca-82b2-c6364fd44819",
   "metadata": {},
   "source": [
    "# Case Study Revisited\n",
    "<hr/>\n",
    "The case study notebook of last week introduced many new concepts. It showed a lot of codes, comprehension of which was challenging. In this week, we revisit some of the Python concepts illustrated in the case study notebook. We will start from an empty notebook (i.e., this one) and discuss, step-by-step, some of the typically tasks, which almost every machine learning project will go through. More specifically, we will examine:\n",
    "- How to find, load, and work with Python libraries\n",
    "- How to load data sets and where to find potentially interesting data sets in the first place\n",
    "- How to explore data and potentially detect patterns\n",
    "- How to find help on how to perform a certain (programming) tasks (VERY IMPORTANT!)\n",
    "\n",
    "The tutorial concludes with a little exercise, which you person independently to test your newly acquired programming skill. \n",
    "\n",
    "\n"
   ]
  },
  {
   "cell_type": "markdown",
   "id": "5f3eaf47-84b3-46e1-a2a5-66c82b078109",
   "metadata": {},
   "source": [
    "## Python Libraries\n"
   ]
  },
  {
   "cell_type": "markdown",
   "id": "ac68094f-8446-4456-bca6-b072d6798768",
   "metadata": {},
   "source": [
    "## Loading data\n"
   ]
  },
  {
   "cell_type": "markdown",
   "id": "53501933-a5cd-44d3-a7bb-051ecc00ce7c",
   "metadata": {},
   "source": [
    "## Explanatory data analysis\n"
   ]
  },
  {
   "cell_type": "markdown",
   "id": "173bfc68-f59b-4f51-b930-34e183fa23fd",
   "metadata": {},
   "source": [
    "## Getting help\n"
   ]
  },
  {
   "cell_type": "markdown",
   "id": "9ba2f582-1f0d-48b7-9e4f-c270041801bc",
   "metadata": {},
   "source": [
    "## Your turn\n",
    "\n",
    "The last bit of the session is reserved for hands-on practice. \n",
    "\n",
    "As business and economics student, you will naturally be interested in financial markets. In fact, financial markets also play an important role in machine learning. A vast body of literature proposes various sorts of learning algorithm to forecast (price) developments in financial markets. Let's assume we were interested in doing something similar. Here is your task:\n",
    "\n",
    "**Task description**\n",
    "- Pick a your favorite financial intrument (a stock, an index, a cryptocurrency, etc. whatever you find interesting)\n",
    "- Using web search, find a srouce that supplies data of that financial instrument. <br> It is easy to find web pages that publish stock prices. What you need is a website that allows you to *download* price data, for example in the form of a *csv file* (comma seperated value).\n",
    "- Open the download file in some text editor (e.g., notepad) and familiarize yourself with the format. You can also use a spreadsheet program for this purpose (e.g., MS Excel, Numbers, etc.)\n",
    "- Load the data into a `DataFrame`. Recall that you need to load the `Pandas` library first. DataFrames are defined in the Pandas library.\n",
    "- Create a preview of the data\n",
    "- Create a lineplot of the (closing) price of the financial instrument\n",
    "\n",
    "Below is an example visualizing the price developments of the German stock index DAX, which we borrowed from [Wikipedia](https://en.wikipedia.org/wiki/DAX). Your plot should look somewhat similar.\n",
    "\n",
    "![DAX closing prices](https://upload.wikimedia.org/wikipedia/commons/a/a0/Dax-chart-1959-2019.png)\n"
   ]
  }
 ],
 "metadata": {
  "kernelspec": {
   "display_name": "Python 3 (ipykernel)",
   "language": "python",
   "name": "python3"
  },
  "language_info": {
   "codemirror_mode": {
    "name": "ipython",
    "version": 3
   },
   "file_extension": ".py",
   "mimetype": "text/x-python",
   "name": "python",
   "nbconvert_exporter": "python",
   "pygments_lexer": "ipython3",
   "version": "3.9.13"
  }
 },
 "nbformat": 4,
 "nbformat_minor": 5
}
