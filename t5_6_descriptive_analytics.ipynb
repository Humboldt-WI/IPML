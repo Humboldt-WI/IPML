{
 "cells": [
  {
   "cell_type": "markdown",
   "id": "e404168a-d96c-476d-b929-3f5b19eb82c5",
   "metadata": {},
   "source": [
    "[![Open In Colab](https://colab.research.google.com/assets/colab-badge.svg)](https://colab.research.google.com/github/Humboldt-WI/IPML/blob/master/tutorial/t5_6_descriptive_analytics.ipynb\n",
    ") "
   ]
  },
  {
   "cell_type": "markdown",
   "id": "05b8adcf-67b6-4fb9-ba18-7ffb5fa4001f",
   "metadata": {},
   "source": [
    "# Descriptive Analytics\n",
    "<hr/>\n",
    "\n",
    "The focus in this week is ...:\n",
    "- A\n",
    "- B\n",
    "- C"
   ]
  },
  {
   "cell_type": "markdown",
   "id": "e9f33718-ed66-44c8-8c59-e9a46391e63d",
   "metadata": {},
   "source": [
    "## Preliminaries: Loading data\n",
    "\n",
    "## Introduce synthetic data set \n",
    "- function `make_blobs()`\n",
    "- plot the data\n",
    "- show how changing arguments changes the resulting data\n",
    "\n",
    "## Hierarchical clustering\n",
    "\n",
    "- apply algorithm\n",
    "- show dendrogram\n",
    "- produce a dendrogram for a data set with outliers. (eg create a data point that does not match the configuration of make-blobs by having different mean and std, add it to the data, and repeat the clustering)\n",
    "- say we obt for n clusters based on examining the dendrogram, show how to then obtain a cluster assignment (ie., put each data point into one cluster)\n",
    "\n",
    "\n",
    "## Non-hierarchical clustering: The kMeans algorithm\n",
    "\n",
    "- apply kMeans to the same data\n",
    "- visualize cluster assignment\n",
    "- change the synthetic data to have more clusters\n",
    "- showcase the elbow curve method\n",
    "\n",
    "\n",
    "<hr/>\n",
    "## End of session 1\n",
    "<hr/>\n",
    "\n",
    "## kMeans from scratch\n",
    "- We claimed in the lecture that kMeans is a *simply* algorithm, so let's try implement it from scratch. \n",
    "- Use ChatGPT for code generation and try to get it to run. \n",
    "- Cluster data using from scratch kMeans implementation\n",
    "- Compare to results from sklearn implementation (cluster assignment, speed) \n",
    "\n",
    "\n",
    "## Your turn\n",
    "Here is another task to test your newly acquired Python skills and familiarity with descriptive analytics. \n",
    "- Students can cluster a data set known from previous tutorials, e.g. California Housing\n",
    "- How many clusters do you think exist in that data set?\n",
    "\n",
    "\n",
    "## Others possibilities\n",
    "- Have students compute cosine similarity (and cosine distance)\n",
    "- Demonstrate other unsupervised learning tasks (e.g., dimensionality reduction)"
   ]
  },
  {
   "cell_type": "code",
   "execution_count": null,
   "id": "0207ff24-e294-444e-8caf-e43174e17a3e",
   "metadata": {},
   "outputs": [],
   "source": []
  }
 ],
 "metadata": {
  "kernelspec": {
   "display_name": "Python 3 (ipykernel)",
   "language": "python",
   "name": "python3"
  },
  "language_info": {
   "codemirror_mode": {
    "name": "ipython",
    "version": 3
   },
   "file_extension": ".py",
   "mimetype": "text/x-python",
   "name": "python",
   "nbconvert_exporter": "python",
   "pygments_lexer": "ipython3",
   "version": "3.9.13"
  }
 },
 "nbformat": 4,
 "nbformat_minor": 5
}
