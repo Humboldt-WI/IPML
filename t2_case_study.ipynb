{
 "cells": [
  {
   "cell_type": "markdown",
   "id": "e404168a-d96c-476d-b929-3f5b19eb82c5",
   "metadata": {},
   "source": [
    "[![Open In Colab](https://colab.research.google.com/assets/colab-badge.svg)](https://colab.research.google.com/github/Humboldt-WI/IPML/blob/master/tutorial/t2_case_study.ipynb) "
   ]
  },
  {
   "cell_type": "markdown",
   "id": "05b8adcf-67b6-4fb9-ba18-7ffb5fa4001f",
   "metadata": {},
   "source": [
    "# Case Study: Resale Price Forecasting in an IT Leasing Context\n",
    "<hr>"
   ]
  },
  {
   "cell_type": "markdown",
   "id": "e9f33718-ed66-44c8-8c59-e9a46391e63d",
   "metadata": {},
   "source": [
    "## Data integration\n",
    "\n",
    "Write a function to create synthetic data that matches the context of IT leasing:\n",
    "\n",
    "Examples of features to include:\n",
    "- Feature Brand (description of the item, e.g., Dell XPS 15')\n",
    "- Feature Type (e.g., notebook, desktop, server)\n",
    "- Feature Age (age of the item in months when returned, often 12, 24, 36, also include some outliers)\n",
    "- Feature List-Price (original list price of the item)\n",
    "\n",
    "Other features describing the item...\n",
    "\n",
    "Other features describin the client and conditions in which the item will be used. \n",
    "\n",
    "**Template for the following tasks:** https://github.com/Humboldt-WI/bads/blob/master/demo_notebooks/3_nb_predictive_analytics.ipynb\n",
    "\n",
    "\n",
    "**For Saloni: use for now California Housing**\n",
    "https://inria.github.io/scikit-learn-mooc/python_scripts/datasets_california_housing.html\n",
    "## Data Exploration\n",
    "\n",
    "- Descriptive statistics\n",
    "    - Focus on key features (e.g., target, age)\n",
    "    - Showcase how to calc descriptives for all features\n",
    "- Plots (same as before but graphically)\n",
    "    - start with popular plots for individual features (e.g, histogram, box-plot)\n",
    "    - correlation among numerical features (heat-map)\n",
    "    - other ways to visualize all features (e.g., matrix of histograms/box-plots, etc.)\n",
    "    \n",
    "## Explanatory Model\n",
    "- Run linear regression using statsmodels\n",
    "- show summary \n",
    "- plot residuals (see template)\n",
    "\n",
    "## Predictive Model\n",
    "- Use linear model from above to predict some new (test) cases\n",
    "- compute rmse\n",
    "- XGB model\n",
    "    - Do a grid-search to identify suitable meta-parameters\n",
    "    - Use final XGB model to predict same test case and compute rmse\n",
    "\n",
    "## Post-hoc analysis\n",
    "- Produce feature importance plot for the XGB model\n",
    "- Compare feature importance to linear regression\n",
    "- Produce partial dependence plot one one feature for XGB and linear regression to show the difference"
   ]
  },
  {
   "cell_type": "code",
   "execution_count": null,
   "id": "0207ff24-e294-444e-8caf-e43174e17a3e",
   "metadata": {},
   "outputs": [],
   "source": []
  }
 ],
 "metadata": {
  "kernelspec": {
   "display_name": "Python 3 (ipykernel)",
   "language": "python",
   "name": "python3"
  },
  "language_info": {
   "codemirror_mode": {
    "name": "ipython",
    "version": 3
   },
   "file_extension": ".py",
   "mimetype": "text/x-python",
   "name": "python",
   "nbconvert_exporter": "python",
   "pygments_lexer": "ipython3",
   "version": "3.9.13"
  }
 },
 "nbformat": 4,
 "nbformat_minor": 5
}
